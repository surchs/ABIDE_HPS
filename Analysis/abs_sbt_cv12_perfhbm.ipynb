{
 "cells": [
  {
   "cell_type": "markdown",
   "metadata": {},
   "source": [
    "# Clean HPS model with cross-validated subtyping\n",
    "- take the full sample\n",
    "- subsample using 10-fold cross-validation\n",
    "- regress nuisance separately in the train and test fold\n",
    "- extract subtypes on the train data\n",
    "- extract weights for these subtypes from the train and test data\n",
    "- predict easy cases on weights in train data\n",
    "- predict ASD in test data using train data easy case signature\n",
    "- report model performance\n",
    "\n",
    "Other ideas:\n",
    "- scale train data before nuisance regression\n",
    "- then apply the fitted scaler to the test data before their nuisance regression?"
   ]
  },
  {
   "cell_type": "code",
   "execution_count": 1,
   "metadata": {},
   "outputs": [],
   "source": [
    "%matplotlib inline"
   ]
  },
  {
   "cell_type": "code",
   "execution_count": 2,
   "metadata": {},
   "outputs": [],
   "source": [
    "import os\n",
    "import re\n",
    "import sys\n",
    "import time\n",
    "import pickle\n",
    "sys.path.append('/home/surchs/git/HPS')\n",
    "from hps.predic import high_confidence\n",
    "from hps.visu import hps_visu\n",
    "sys.path.append('/home/surchs/git/HPS/examples/')\n",
    "import warnings\n",
    "warnings.filterwarnings('ignore')\n",
    "import visu_demo\n",
    "import scipy as sp\n",
    "import patsy as pat\n",
    "import numpy as np\n",
    "import pandas as pd\n",
    "import nibabel as nib\n",
    "import sklearn as skl\n",
    "import scipy.io as sio\n",
    "import seaborn as sbn\n",
    "import sklearn.metrics as skm\n",
    "from scipy import cluster as scl\n",
    "from scipy import stats as spt\n",
    "from nilearn import plotting as nlp\n",
    "from matplotlib import pyplot as plt\n",
    "from sklearn import linear_model as sln\n",
    "from sklearn import preprocessing as skp\n",
    "from sklearn.model_selection import StratifiedKFold"
   ]
  },
  {
   "cell_type": "code",
   "execution_count": 1,
   "metadata": {},
   "outputs": [],
   "source": [
    "n_seed = 12\n",
    "n_subtypes = 4"
   ]
  },
  {
   "cell_type": "code",
   "execution_count": 2,
   "metadata": {},
   "outputs": [
    {
     "ename": "NameError",
     "evalue": "name 'os' is not defined",
     "output_type": "error",
     "traceback": [
      "\u001b[0;31m---------------------------------------------------------------------------\u001b[0m",
      "\u001b[0;31mNameError\u001b[0m                                 Traceback (most recent call last)",
      "\u001b[0;32m<ipython-input-2-182c8b2b6357>\u001b[0m in \u001b[0;36m<module>\u001b[0;34m()\u001b[0m\n\u001b[1;32m      2\u001b[0m \u001b[0mroot_p\u001b[0m \u001b[0;34m=\u001b[0m \u001b[0;34m'/home/surchs/sim_big'\u001b[0m\u001b[0;34m\u001b[0m\u001b[0m\n\u001b[1;32m      3\u001b[0m \u001b[0;31m# Pheno\u001b[0m\u001b[0;34m\u001b[0m\u001b[0;34m\u001b[0m\u001b[0m\n\u001b[0;32m----> 4\u001b[0;31m \u001b[0msample_p\u001b[0m \u001b[0;34m=\u001b[0m \u001b[0mos\u001b[0m\u001b[0;34m.\u001b[0m\u001b[0mpath\u001b[0m\u001b[0;34m.\u001b[0m\u001b[0mjoin\u001b[0m\u001b[0;34m(\u001b[0m\u001b[0mroot_p\u001b[0m\u001b[0;34m,\u001b[0m \u001b[0;34m'PROJECT/abide_hps/pheno'\u001b[0m\u001b[0;34m,\u001b[0m \u001b[0;34m'psm_abide1.csv'\u001b[0m\u001b[0;34m)\u001b[0m\u001b[0;34m\u001b[0m\u001b[0m\n\u001b[0m\u001b[1;32m      5\u001b[0m \u001b[0;31m# Data\u001b[0m\u001b[0;34m\u001b[0m\u001b[0;34m\u001b[0m\u001b[0m\n\u001b[1;32m      6\u001b[0m \u001b[0mct_p\u001b[0m \u001b[0;34m=\u001b[0m \u001b[0mos\u001b[0m\u001b[0;34m.\u001b[0m\u001b[0mpath\u001b[0m\u001b[0;34m.\u001b[0m\u001b[0mjoin\u001b[0m\u001b[0;34m(\u001b[0m\u001b[0mroot_p\u001b[0m\u001b[0;34m,\u001b[0m \u001b[0;34m'PROJECT/abide_hps/ct'\u001b[0m\u001b[0;34m)\u001b[0m\u001b[0;34m\u001b[0m\u001b[0m\n",
      "\u001b[0;31mNameError\u001b[0m: name 'os' is not defined"
     ]
    }
   ],
   "source": [
    "# Paths\n",
    "root_p = '/home/surchs/sim_big'\n",
    "# Pheno\n",
    "sample_p = os.path.join(root_p, 'PROJECT/abide_hps/pheno', 'psm_abide1.csv')\n",
    "# Data\n",
    "ct_p = os.path.join(root_p, 'PROJECT/abide_hps/ct')\n",
    "seed_p = os.path.join(root_p, 'PROJECT/abide_hps/seed', 'MIST_{}'.format(n_seed))\n",
    "mask_p = os.path.join(root_p, 'PROJECT/abide_hps/mask', 'MIST_mask.nii.gz')\n",
    "label_p = os.path.join(root_p, 'ATLAS/MIST/Parcel_Information', 'MIST_{}.csv'.format(n_seed))\n",
    "atlas_p = os.path.join(root_p, 'ATLAS/MIST/Parcellations/', 'MIST_{}.nii.gz'.format(n_seed))\n",
    "# File templates\n",
    "ct_t = '{}+{:07}_{}+{}_native_rms_rsl_tlaplace_30mm_{}.txt'\n",
    "sd_t = 'sub_{{}}_mist_{}.npy'.format(n_seed)\n",
    "# Make a temp save of the model\n",
    "train_resid_p = os.path.join(root_p, 'PROJECT/abide_hps/train_resid_{{}}_{}.npy'.format(n_seed))\n",
    "train_sbt_p = os.path.join(root_p, 'PROJECT/abide_hps/train_sbt_{{}}_{}.npz'.format(n_seed))\n",
    "test_resid_p = os.path.join(root_p, 'PROJECT/abide_hps/test_resid_{{}}_{}.npy'.format(n_seed))\n",
    "avg_dump_p = os.path.join(root_p, 'PROJECT/abide_hps/avg_dump_mist_{}_prereg_avg.p'.format(n_seed))#\n",
    "out_p = os.path.join(root_p, 'PROJECT/abide_hps/ohbm_out_onlybrain')\n",
    "if not os.path.isdir(out_p):\n",
    "    os.makedirs(out_p)"
   ]
  },
  {
   "cell_type": "code",
   "execution_count": 5,
   "metadata": {},
   "outputs": [],
   "source": [
    "# Load data\n",
    "sample = pd.read_csv(sample_p)\n",
    "sample['DX_CODE'] = sample['DX_GROUP'].replace({'Autism':1, 'Control':0})\n",
    "label = pd.read_csv(label_p, delimiter=';')"
   ]
  },
  {
   "cell_type": "code",
   "execution_count": 6,
   "metadata": {},
   "outputs": [
    {
     "data": {
      "text/html": [
       "<div>\n",
       "<style scoped>\n",
       "    .dataframe tbody tr th:only-of-type {\n",
       "        vertical-align: middle;\n",
       "    }\n",
       "\n",
       "    .dataframe tbody tr th {\n",
       "        vertical-align: top;\n",
       "    }\n",
       "\n",
       "    .dataframe thead th {\n",
       "        text-align: right;\n",
       "    }\n",
       "</style>\n",
       "<table border=\"1\" class=\"dataframe\">\n",
       "  <thead>\n",
       "    <tr style=\"text-align: right;\">\n",
       "      <th></th>\n",
       "      <th>count</th>\n",
       "      <th>mean</th>\n",
       "      <th>std</th>\n",
       "      <th>min</th>\n",
       "      <th>25%</th>\n",
       "      <th>50%</th>\n",
       "      <th>75%</th>\n",
       "      <th>max</th>\n",
       "    </tr>\n",
       "    <tr>\n",
       "      <th>DX_GROUP</th>\n",
       "      <th></th>\n",
       "      <th></th>\n",
       "      <th></th>\n",
       "      <th></th>\n",
       "      <th></th>\n",
       "      <th></th>\n",
       "      <th></th>\n",
       "      <th></th>\n",
       "    </tr>\n",
       "  </thead>\n",
       "  <tbody>\n",
       "    <tr>\n",
       "      <th>Autism</th>\n",
       "      <td>182.0</td>\n",
       "      <td>16.987132</td>\n",
       "      <td>7.476016</td>\n",
       "      <td>7.13</td>\n",
       "      <td>11.335975</td>\n",
       "      <td>15.66000</td>\n",
       "      <td>19.688225</td>\n",
       "      <td>52.0</td>\n",
       "    </tr>\n",
       "    <tr>\n",
       "      <th>Control</th>\n",
       "      <td>188.0</td>\n",
       "      <td>16.879379</td>\n",
       "      <td>6.909948</td>\n",
       "      <td>6.47</td>\n",
       "      <td>11.765000</td>\n",
       "      <td>15.03265</td>\n",
       "      <td>21.110925</td>\n",
       "      <td>46.0</td>\n",
       "    </tr>\n",
       "  </tbody>\n",
       "</table>\n",
       "</div>"
      ],
      "text/plain": [
       "          count       mean       std   min        25%       50%        75%  \\\n",
       "DX_GROUP                                                                     \n",
       "Autism    182.0  16.987132  7.476016  7.13  11.335975  15.66000  19.688225   \n",
       "Control   188.0  16.879379  6.909948  6.47  11.765000  15.03265  21.110925   \n",
       "\n",
       "           max  \n",
       "DX_GROUP        \n",
       "Autism    52.0  \n",
       "Control   46.0  "
      ]
     },
     "execution_count": 6,
     "metadata": {},
     "output_type": "execute_result"
    }
   ],
   "source": [
    "sample.groupby('DX_GROUP').AGE_AT_SCAN.describe()"
   ]
  },
  {
   "cell_type": "code",
   "execution_count": 7,
   "metadata": {},
   "outputs": [
    {
     "data": {
      "text/html": [
       "<div>\n",
       "<style scoped>\n",
       "    .dataframe tbody tr th:only-of-type {\n",
       "        vertical-align: middle;\n",
       "    }\n",
       "\n",
       "    .dataframe tbody tr th {\n",
       "        vertical-align: top;\n",
       "    }\n",
       "\n",
       "    .dataframe thead th {\n",
       "        text-align: right;\n",
       "    }\n",
       "</style>\n",
       "<table border=\"1\" class=\"dataframe\">\n",
       "  <thead>\n",
       "    <tr style=\"text-align: right;\">\n",
       "      <th></th>\n",
       "      <th>count</th>\n",
       "      <th>mean</th>\n",
       "      <th>std</th>\n",
       "      <th>min</th>\n",
       "      <th>25%</th>\n",
       "      <th>50%</th>\n",
       "      <th>75%</th>\n",
       "      <th>max</th>\n",
       "    </tr>\n",
       "    <tr>\n",
       "      <th>DX_GROUP</th>\n",
       "      <th></th>\n",
       "      <th></th>\n",
       "      <th></th>\n",
       "      <th></th>\n",
       "      <th></th>\n",
       "      <th></th>\n",
       "      <th></th>\n",
       "      <th></th>\n",
       "    </tr>\n",
       "  </thead>\n",
       "  <tbody>\n",
       "    <tr>\n",
       "      <th>Autism</th>\n",
       "      <td>182.0</td>\n",
       "      <td>0.171291</td>\n",
       "      <td>0.046925</td>\n",
       "      <td>0.074698</td>\n",
       "      <td>0.138477</td>\n",
       "      <td>0.163752</td>\n",
       "      <td>0.204446</td>\n",
       "      <td>0.377070</td>\n",
       "    </tr>\n",
       "    <tr>\n",
       "      <th>Control</th>\n",
       "      <td>188.0</td>\n",
       "      <td>0.171945</td>\n",
       "      <td>0.041957</td>\n",
       "      <td>0.079338</td>\n",
       "      <td>0.139670</td>\n",
       "      <td>0.167372</td>\n",
       "      <td>0.199710</td>\n",
       "      <td>0.277993</td>\n",
       "    </tr>\n",
       "  </tbody>\n",
       "</table>\n",
       "</div>"
      ],
      "text/plain": [
       "          count      mean       std       min       25%       50%       75%  \\\n",
       "DX_GROUP                                                                      \n",
       "Autism    182.0  0.171291  0.046925  0.074698  0.138477  0.163752  0.204446   \n",
       "Control   188.0  0.171945  0.041957  0.079338  0.139670  0.167372  0.199710   \n",
       "\n",
       "               max  \n",
       "DX_GROUP            \n",
       "Autism    0.377070  \n",
       "Control   0.277993  "
      ]
     },
     "execution_count": 7,
     "metadata": {},
     "output_type": "execute_result"
    }
   ],
   "source": [
    "sample.groupby('DX_GROUP').FD_scrubbed.describe()"
   ]
  },
  {
   "cell_type": "code",
   "execution_count": 8,
   "metadata": {},
   "outputs": [
    {
     "data": {
      "text/plain": [
       "DX_GROUP  SITE_ID \n",
       "Autism    NYU         52\n",
       "          USM         30\n",
       "          UCLA_1      21\n",
       "          KKI         16\n",
       "          PITT        16\n",
       "          TRINITY     15\n",
       "          LEUVEN_1    11\n",
       "          MAX_MUN      8\n",
       "          YALE         7\n",
       "          UM_1         6\n",
       "Control   NYU         52\n",
       "          USM         37\n",
       "          UCLA_1      23\n",
       "          TRINITY     17\n",
       "          KKI         16\n",
       "          PITT        16\n",
       "          LEUVEN_1    10\n",
       "          UM_1        10\n",
       "          MAX_MUN      7\n",
       "Name: SITE_ID, dtype: int64"
      ]
     },
     "execution_count": 8,
     "metadata": {},
     "output_type": "execute_result"
    }
   ],
   "source": [
    "sample.groupby('DX_GROUP').SITE_ID.value_counts()"
   ]
  },
  {
   "cell_type": "code",
   "execution_count": 9,
   "metadata": {},
   "outputs": [
    {
     "data": {
      "text/html": [
       "<div>\n",
       "<style scoped>\n",
       "    .dataframe tbody tr th:only-of-type {\n",
       "        vertical-align: middle;\n",
       "    }\n",
       "\n",
       "    .dataframe tbody tr th {\n",
       "        vertical-align: top;\n",
       "    }\n",
       "\n",
       "    .dataframe thead tr th {\n",
       "        text-align: left;\n",
       "    }\n",
       "\n",
       "    .dataframe thead tr:last-of-type th {\n",
       "        text-align: right;\n",
       "    }\n",
       "</style>\n",
       "<table border=\"1\" class=\"dataframe\">\n",
       "  <thead>\n",
       "    <tr>\n",
       "      <th></th>\n",
       "      <th colspan=\"8\" halign=\"left\">FIQ</th>\n",
       "    </tr>\n",
       "    <tr>\n",
       "      <th></th>\n",
       "      <th>count</th>\n",
       "      <th>mean</th>\n",
       "      <th>std</th>\n",
       "      <th>min</th>\n",
       "      <th>25%</th>\n",
       "      <th>50%</th>\n",
       "      <th>75%</th>\n",
       "      <th>max</th>\n",
       "    </tr>\n",
       "    <tr>\n",
       "      <th>DX_GROUP</th>\n",
       "      <th></th>\n",
       "      <th></th>\n",
       "      <th></th>\n",
       "      <th></th>\n",
       "      <th></th>\n",
       "      <th></th>\n",
       "      <th></th>\n",
       "      <th></th>\n",
       "    </tr>\n",
       "  </thead>\n",
       "  <tbody>\n",
       "    <tr>\n",
       "      <th>Autism</th>\n",
       "      <td>181.0</td>\n",
       "      <td>103.624309</td>\n",
       "      <td>17.299639</td>\n",
       "      <td>41.0</td>\n",
       "      <td>92.0</td>\n",
       "      <td>102.0</td>\n",
       "      <td>115.0</td>\n",
       "      <td>148.0</td>\n",
       "    </tr>\n",
       "    <tr>\n",
       "      <th>Control</th>\n",
       "      <td>187.0</td>\n",
       "      <td>111.871658</td>\n",
       "      <td>11.853365</td>\n",
       "      <td>81.0</td>\n",
       "      <td>104.0</td>\n",
       "      <td>111.0</td>\n",
       "      <td>119.0</td>\n",
       "      <td>146.0</td>\n",
       "    </tr>\n",
       "  </tbody>\n",
       "</table>\n",
       "</div>"
      ],
      "text/plain": [
       "            FIQ                                                         \n",
       "          count        mean        std   min    25%    50%    75%    max\n",
       "DX_GROUP                                                                \n",
       "Autism    181.0  103.624309  17.299639  41.0   92.0  102.0  115.0  148.0\n",
       "Control   187.0  111.871658  11.853365  81.0  104.0  111.0  119.0  146.0"
      ]
     },
     "execution_count": 9,
     "metadata": {},
     "output_type": "execute_result"
    }
   ],
   "source": [
    "sample.groupby('DX_GROUP')[['FIQ']].describe()"
   ]
  },
  {
   "cell_type": "code",
   "execution_count": 10,
   "metadata": {},
   "outputs": [],
   "source": [
    "mask_i = nib.load(mask_p)\n",
    "mask = mask_i.get_data().astype(bool)\n",
    "n_vox = np.sum(mask)\n",
    "atlas = nib.load(atlas_p).get_data()"
   ]
  },
  {
   "cell_type": "markdown",
   "metadata": {},
   "source": [
    "# Run the CV model"
   ]
  },
  {
   "cell_type": "code",
   "execution_count": 11,
   "metadata": {},
   "outputs": [],
   "source": [
    "def corr2_coeff(A,B):\n",
    "    # Rowwise mean of input arrays & subtract from input arrays themeselves\n",
    "    A_mA = A - A.mean(1)[:,None]\n",
    "    B_mB = B - B.mean(1)[:,None]\n",
    "\n",
    "    # Sum of squares across rows\n",
    "    ssA = (A_mA**2).sum(1);\n",
    "    ssB = (B_mB**2).sum(1);\n",
    "\n",
    "    # Finally get corr coeff\n",
    "    return np.dot(A_mA,B_mB.T)/np.sqrt(np.dot(ssA[:,None],ssB[None]))"
   ]
  },
  {
   "cell_type": "code",
   "execution_count": 12,
   "metadata": {},
   "outputs": [],
   "source": [
    "def subtype(stack, n_subtypes):\n",
    "    # Normalize and then get the distance\n",
    "    norm = skp.scale(stack, axis=1)\n",
    "    # Get the lower triangle of the distance metric\n",
    "    dist = sp.spatial.distance.pdist(norm)\n",
    "    # Build the cluster\n",
    "    link = scl.hierarchy.linkage(dist, method='ward')\n",
    "    order = scl.hierarchy.dendrogram(link, no_plot=True)['leaves']\n",
    "    part = scl.hierarchy.fcluster(link, n_subtypes, criterion='maxclust')\n",
    "    return order, part, dist"
   ]
  },
  {
   "cell_type": "code",
   "execution_count": 13,
   "metadata": {},
   "outputs": [],
   "source": [
    "def regress_fc(sample, formula, n_vox, n_seed, seed_p, sd_t):\n",
    "    n_sub = sample.shape[0]\n",
    "    resid_seed = np.zeros((n_sub, n_vox, n_seed))\n",
    "    dmat_seed = pat.dmatrix(formula, data=sample)\n",
    "    for sid in range(n_seed):\n",
    "        # Build the regression model for the seed maps\n",
    "        mod = sln.LinearRegression(fit_intercept=False, normalize=False, n_jobs=-1)\n",
    "        sub_seed = np.zeros((n_sub, n_vox))\n",
    "        # Line index doesn't necessarily match continuous index\n",
    "        for rid, (rid_abs, row) in enumerate(sample.iterrows()):\n",
    "            p = os.path.join(seed_p, sd_t.format(row['SUB_ID']))\n",
    "            d = np.load(p)\n",
    "            sub_seed[rid, :] = d[sid, ...]\n",
    "        res = mod.fit(dmat_seed, sub_seed)\n",
    "        resid = sub_seed - res.predict(dmat_seed)\n",
    "        resid_seed[..., sid] = resid\n",
    "    \n",
    "    return resid_seed"
   ]
  },
  {
   "cell_type": "code",
   "execution_count": 14,
   "metadata": {},
   "outputs": [],
   "source": [
    "def regress_ct(sample, formula, ct_p, ct_t):\n",
    "    n_sub = sample.shape[0]\n",
    "    # Generate the CT residuals\n",
    "    for rid, (rid_abs, row) in enumerate(sample.iterrows()):\n",
    "        p_right = os.path.join(ct_p, ct_t.format(row['Site'], row['Subject'], row['Session'], row['Run'], 'right'))\n",
    "        p_left = os.path.join(ct_p, ct_t.format(row['Site'], row['Subject'], row['Session'], row['Run'], 'left'))\n",
    "        ct_l = pd.read_csv(p_left, header=None)[0].values\n",
    "        ct_r = pd.read_csv(p_right, header=None)[0].values\n",
    "        # Combine left and right\n",
    "        ct = np.concatenate((ct_l, ct_r))\n",
    "        if rid==0:\n",
    "            n_vert = len(ct)\n",
    "            sub_ct = np.zeros((n_sub, n_vert))\n",
    "        sub_ct[rid, :] = ct\n",
    "    dmat_ct = pat.dmatrix(formula, data=sample)\n",
    "    mod = sln.LinearRegression(fit_intercept=False, normalize=False, n_jobs=-1)\n",
    "    res = mod.fit(dmat_ct, sub_ct)\n",
    "    resid_ct = sub_ct - res.predict(dmat_ct)\n",
    "    \n",
    "    return resid_ct, res"
   ]
  },
  {
   "cell_type": "code",
   "execution_count": 15,
   "metadata": {},
   "outputs": [],
   "source": [
    "def make_subtype_fc(resid, n_subtypes=5):\n",
    "    n_sub, n_vox, n_seed = resid.shape\n",
    "    # Run the FC subtypes\n",
    "    weights_fc = np.zeros((n_sub, n_subtypes, n_seed))\n",
    "    subtypes_fc = np.zeros((n_subtypes,) + resid.shape[1:])\n",
    "    parts_fc = np.zeros((n_sub, n_seed))\n",
    "    orders_fc = np.zeros((n_sub, n_seed))\n",
    "    dists_fc = np.zeros((n_sub, n_sub, n_seed))\n",
    "\n",
    "    for sid in range(n_seed):\n",
    "        order_fc, part_fc, dist_fc = subtype(resid[..., sid], n_subtypes)\n",
    "        dists_fc[..., sid] = sp.spatial.distance.squareform(dist_fc)\n",
    "        parts_fc[:, sid] = part_fc\n",
    "        orders_fc[:, sid] = order_fc\n",
    "        # Make the subtypes\n",
    "        subtypes_fc_tmp = np.array([np.mean(resid[part_fc==i, :, sid], 0) \n",
    "                                    for i in range(1,n_subtypes+1)])\n",
    "        subtypes_fc[..., sid] = subtypes_fc_tmp\n",
    "        # Compute the weights\n",
    "        weights_fc[..., sid] = corr2_coeff(resid[..., sid], subtypes_fc_tmp)\n",
    "    return subtypes_fc, weights_fc"
   ]
  },
  {
   "cell_type": "code",
   "execution_count": 16,
   "metadata": {},
   "outputs": [],
   "source": [
    "def make_subtype_ct(resid, n_subtypes):\n",
    "    order_ct, part_ct, dist_ct = subtype(resid, n_subtypes)\n",
    "    # Make the subtypes\n",
    "    subtypes_ct = np.array([np.mean(resid[part_ct==i, :], 0) \n",
    "                            for i in range(1,n_subtypes+1)])\n",
    "    # Compute the weights\n",
    "    weights_ct = corr2_coeff(resid, subtypes_ct)\n",
    "    return (subtypes_ct, weights_ct)"
   ]
  },
  {
   "cell_type": "code",
   "execution_count": 17,
   "metadata": {},
   "outputs": [],
   "source": [
    "def make_weights_fc(subtypes, resid):\n",
    "    n_sub, n_vox, n_seed = resid.shape\n",
    "    n_subtypes = subtypes.shape[0]\n",
    "    weights_fc = np.zeros((n_sub, n_subtypes, n_seed))\n",
    "    for sid in range(n_seed):\n",
    "    # Compute the weights\n",
    "        weights_fc[..., sid] = corr2_coeff(resid[..., sid], subtypes[..., sid])\n",
    "    return weights_fc"
   ]
  },
  {
   "cell_type": "code",
   "execution_count": 18,
   "metadata": {},
   "outputs": [],
   "source": [
    "def make_weights_ct(subtypes, resid):\n",
    "    weights_ct = corr2_coeff(resid, subtypes)\n",
    "    return weights_ct"
   ]
  },
  {
   "cell_type": "code",
   "execution_count": 19,
   "metadata": {},
   "outputs": [],
   "source": [
    "# Get the full range of subject indices and clinical labels\n",
    "sub_indices = sample.index.values\n",
    "labels = sample['DX_CODE'].values"
   ]
  },
  {
   "cell_type": "code",
   "execution_count": 20,
   "metadata": {},
   "outputs": [],
   "source": [
    "fc_cols = ['fc_n{}_s{}'.format(nid+1, sid+1) \n",
    "           for sid in range(n_subtypes) \n",
    "           for nid in range(n_seed)]\n",
    "fc_col_params = [(nid, sid) for sid in range(n_subtypes) \n",
    "                 for nid in range(n_seed)]\n",
    "\n",
    "ct_cols = ['ct_s{}'.format(sid+1) \n",
    "           for sid in range(n_subtypes)]\n",
    "ct_col_params = [(-1, sid) for sid in range(n_subtypes)]\n",
    "cols = ct_cols + fc_cols\n",
    "col_features = cols\n",
    "col_params = ct_col_params + fc_col_params"
   ]
  },
  {
   "cell_type": "code",
   "execution_count": 21,
   "metadata": {},
   "outputs": [
    {
     "name": "stdout",
     "output_type": "stream",
     "text": [
      "loading sbt from /home/surchs/sim_big/PROJECT/abide_hps/train_sbt_0_12.npz\n",
      "Stage 1\n",
      "Stage 2\n",
      "CV fold 1 done. Took 159.75s (159.75s), 159.75s total, 1437.72s to go.\n",
      "loading sbt from /home/surchs/sim_big/PROJECT/abide_hps/train_sbt_1_12.npz\n",
      "Stage 1\n",
      "Stage 2\n",
      "CV fold 2 done. Took 125.81s (142.78s), 285.56s total, 1142.23s to go.\n",
      "loading sbt from /home/surchs/sim_big/PROJECT/abide_hps/train_sbt_2_12.npz\n",
      "Stage 1\n",
      "Stage 2\n",
      "CV fold 3 done. Took 127.37s (137.64s), 412.93s total, 963.50s to go.\n",
      "loading sbt from /home/surchs/sim_big/PROJECT/abide_hps/train_sbt_3_12.npz\n",
      "Stage 1\n",
      "Stage 2\n",
      "CV fold 4 done. Took 146.78s (139.93s), 559.71s total, 839.57s to go.\n",
      "loading sbt from /home/surchs/sim_big/PROJECT/abide_hps/train_sbt_4_12.npz\n",
      "Stage 1\n",
      "Stage 2\n",
      "CV fold 5 done. Took 127.23s (137.39s), 686.94s total, 686.94s to go.\n",
      "loading sbt from /home/surchs/sim_big/PROJECT/abide_hps/train_sbt_5_12.npz\n",
      "Stage 1\n",
      "Stage 2\n",
      "CV fold 6 done. Took 122.51s (134.91s), 809.45s total, 539.64s to go.\n",
      "loading sbt from /home/surchs/sim_big/PROJECT/abide_hps/train_sbt_6_12.npz\n",
      "Stage 1\n",
      "Stage 2\n",
      "CV fold 7 done. Took 119.98s (132.78s), 929.43s total, 398.33s to go.\n",
      "loading sbt from /home/surchs/sim_big/PROJECT/abide_hps/train_sbt_7_12.npz\n",
      "Stage 1\n",
      "Stage 2\n",
      "CV fold 8 done. Took 132.48s (132.74s), 1061.91s total, 265.48s to go.\n",
      "loading sbt from /home/surchs/sim_big/PROJECT/abide_hps/train_sbt_8_12.npz\n",
      "Stage 1\n",
      "Stage 2\n",
      "CV fold 9 done. Took 141.12s (133.67s), 1203.03s total, 133.67s to go.\n",
      "loading sbt from /home/surchs/sim_big/PROJECT/abide_hps/train_sbt_9_12.npz\n",
      "Stage 1\n",
      "Stage 2\n",
      "CV fold 10 done. Took 125.20s (132.82s), 1328.24s total, 0.00s to go.\n"
     ]
    }
   ],
   "source": [
    "scores_s1_l = list()\n",
    "scores_s2_l = list()\n",
    "y_target_l = list()\n",
    "\n",
    "start = time.time()\n",
    "took = []\n",
    "skf = StratifiedKFold(n_splits=10)\n",
    "for cv_idx, (train_index, test_index) in enumerate(skf.split(sub_indices, labels)):\n",
    "    cv_start = time.time()\n",
    "    \n",
    "    train_p = train_resid_p.format(cv_idx)\n",
    "    sbt_p = train_sbt_p.format(cv_idx)\n",
    "    test_p = test_resid_p.format(cv_idx)\n",
    "    \n",
    "    # Get the train, and test sample\n",
    "    train_sample = sample.loc[train_index]\n",
    "    test_sample = sample.loc[test_index]\n",
    "    n_sub_train = train_sample.shape[0]\n",
    "    n_sub_test = test_sample.shape[0]\n",
    "    \n",
    "    # Replicate the subtyping process\n",
    "    # Extract the train and test data and regress nuisance factors\n",
    "    if not os.path.isfile(train_p):\n",
    "        train_resid_fc = regress_fc(train_sample, \n",
    "                                   'AGE_AT_SCAN + FD_scrubbed + Site', \n",
    "                                   n_vox, n_seed=n_seed, \n",
    "                                   seed_p=seed_p, sd_t=sd_t)\n",
    "\n",
    "        np.save(train_p, train_resid_fc)\n",
    "    else:\n",
    "        train_resid_fc = np.load(train_p)\n",
    "        \n",
    "    if not os.path.isfile(test_p):\n",
    "        test_resid_fc = regress_fc(test_sample, \n",
    "                                  'AGE_AT_SCAN + FD_scrubbed + Site', \n",
    "                                  n_vox, n_seed=n_seed, \n",
    "                                  seed_p=seed_p, sd_t=sd_t)\n",
    "        np.save(test_p, test_resid_fc)\n",
    "    else:\n",
    "        test_resid_fc = np.load(test_p)\n",
    "        \n",
    "    (train_resid_ct, mod_ct_train) = regress_ct(train_sample, 'AGE_AT_SCAN + Site', ct_p, ct_t)\n",
    "    (test_resid_ct, mod_ct_test) = regress_ct(test_sample, 'AGE_AT_SCAN + Site', ct_p, ct_t)\n",
    "    # Make the subtypes from the train data\n",
    "    \n",
    "    \n",
    "    if not os.path.isfile(sbt_p):\n",
    "        (subtypes_fc, train_weights_fc) = make_subtype_fc(train_resid_fc, n_subtypes=n_subtypes)\n",
    "        np.savez(sbt_p, subtypes_fc=subtypes_fc, train_weights_fc=train_weights_fc)\n",
    "    else:\n",
    "        print('loading sbt from {}'.format(sbt_p))\n",
    "        tmp = np.load(sbt_p)\n",
    "        subtypes_fc = tmp['subtypes_fc']\n",
    "        train_weights_fc = tmp['train_weights_fc']\n",
    "    \n",
    "    (subtypes_ct, train_weights_ct) = make_subtype_ct(train_resid_ct, n_subtypes=n_subtypes)\n",
    "    # Get the test weights\n",
    "    test_weights_fc = make_weights_fc(subtypes_fc, test_resid_fc)\n",
    "    test_weights_ct = make_weights_ct(subtypes_ct, test_resid_ct)\n",
    "    \n",
    "    # Build input data\n",
    "    train_fc = np.reshape(train_weights_fc, (n_sub_train, n_subtypes*n_seed))\n",
    "    test_fc = np.reshape(test_weights_fc, (n_sub_test, n_subtypes*n_seed))\n",
    "    train_w = np.concatenate((train_weights_ct, train_fc), 1)\n",
    "    test_w = np.concatenate((test_weights_ct, test_fc), 1)\n",
    "    \n",
    "    # Make sure we use the correct index or else there will be NaNs in the weight columns\n",
    "    w_data_train = pd.DataFrame(data=train_w, columns=cols, index=train_index)\n",
    "    data_train = train_sample.join(w_data_train)\n",
    "    w_data_test = pd.DataFrame(data=test_w, columns=cols, index=test_index)\n",
    "    data_test = test_sample.join(w_data_test)\n",
    "    \n",
    "    # Select the features\n",
    "    scaler = skl.preprocessing.StandardScaler()\n",
    "    x_train = data_train.loc[:, col_features]\n",
    "    # Normalize\n",
    "    X_train = scaler.fit_transform(x_train)\n",
    "    # Take the numeric diagnosis code, 0 is control, 1 is autism\n",
    "    y_train = data_train.loc[:, ['DX_CODE']].values.squeeze()\n",
    "\n",
    "    # Same for the test data\n",
    "    x_test = data_test.loc[:, col_features]\n",
    "    # Normalize, but use the fitted scalar of the training data\n",
    "    X_test = scaler.transform(x_test)\n",
    "    y_test = data_test.loc[:, ['DX_CODE']].values.squeeze()\n",
    "    \n",
    "    # Train the model\n",
    "    hps = high_confidence.TwoStagesPrediction(verbose=False,\n",
    "                                          n_iter=200,\n",
    "                                          shuffle_test_split=0.5,\n",
    "                                            gamma=1,\n",
    "                                          min_gamma=0.98,\n",
    "                                          thresh_ratio=0.8)\n",
    "    hps.fit(X_train, y_train)\n",
    "    scores, dic_results = hps.predict(X_test)\n",
    "    scores_s1_l.append(dic_results['s1_hat'])\n",
    "    scores_s2_l.append(dic_results['s2_hat'])\n",
    "    y_target_l.append(y_test)\n",
    "\n",
    "    current_duration = time.time()-cv_start\n",
    "    took.append(current_duration)\n",
    "    avg_time = np.mean(took)\n",
    "    elapsed_time = np.sum(took)\n",
    "    remaining_time = avg_time * (9-cv_idx)\n",
    "    \n",
    "    print('CV fold {} done. Took {:.2f}s ({:.2f}s), {:.2f}s total, {:.2f}s to go.'.format(cv_idx+1,\n",
    "                                                                              current_duration,\n",
    "                                                                              avg_time,\n",
    "                                                                              elapsed_time,\n",
    "                                                                              remaining_time))"
   ]
  },
  {
   "cell_type": "code",
   "execution_count": 22,
   "metadata": {},
   "outputs": [],
   "source": [
    "y = sample.DX_CODE.values.squeeze()"
   ]
  },
  {
   "cell_type": "code",
   "execution_count": 23,
   "metadata": {},
   "outputs": [],
   "source": [
    "ohe = skl.preprocessing.OneHotEncoder(sparse=False)\n",
    "ohe.fit(y.reshape(-1, 1))\n",
    "labels = ohe.transform(y.reshape(-1, 1))"
   ]
  },
  {
   "cell_type": "code",
   "execution_count": 24,
   "metadata": {},
   "outputs": [
    {
     "name": "stdout",
     "output_type": "stream",
     "text": [
      "##########################\n",
      "Stage 1 (BASE)\n",
      "Class 0 Precision: 58.12 Specificity: 56.04 Recall: 59.04 N: 191\n",
      "Class 1 Precision: 56.98 Specificity: 59.04 Recall: 56.04 N: 179\n",
      "Total Precision: 57.55 Specificity: 57.54 Recall: 57.54 N: 185\n",
      "Stage 2 (HPS)\n",
      "Class 0 Precision: 77.78 Specificity: 96.70 Recall: 11.17 N: 27\n",
      "Class 1 Precision: 84.00 Specificity: 97.87 Recall: 11.54 N: 25\n",
      "Total Precision: 80.89 Specificity: 97.29 Recall: 11.35 N: 26\n",
      "##########################\n"
     ]
    }
   ],
   "source": [
    "scores_s1_arr = np.vstack(scores_s1_l)\n",
    "scores_s2_arr = np.vstack(scores_s2_l)\n",
    "y_target_arr = np.hstack(y_target_l)\n",
    "\n",
    "########################\n",
    "print('##########################')\n",
    "# S1\n",
    "y_mb = ohe.transform(y_target_arr[:,np.newaxis])\n",
    "pred_y_ = scores_s1_arr\n",
    "\n",
    "print('Stage 1 (BASE)')\n",
    "hps_visu.print_scores(hps_visu.scores(y_mb, pred_y_))\n",
    "\n",
    "\n",
    "# S2\n",
    "y_mb = ohe.transform(y_target_arr[:,np.newaxis])\n",
    "pred_y_ = scores_s2_arr\n",
    "\n",
    "print('Stage 2 (HPS)')\n",
    "hps_visu.print_scores(hps_visu.scores(y_mb, pred_y_)) \n",
    "print('##########################')"
   ]
  },
  {
   "cell_type": "code",
   "execution_count": 25,
   "metadata": {},
   "outputs": [],
   "source": [
    "hps_asd = scores_s2_arr[:, 1]==1\n",
    "hps_con = scores_s2_arr[:, 1]==0\n",
    "true_asd = y_mb[:, 1]==1\n",
    "true_con = y_mb[:, 1]==0"
   ]
  },
  {
   "cell_type": "code",
   "execution_count": 59,
   "metadata": {},
   "outputs": [],
   "source": [
    "# Save everything\n",
    "# Save some of that data\n",
    "cv_out = '/home/surchs/sim_big/PROJECT/abide_hps/ohbm_out_onlybrain/'\n",
    "store_p = os.path.join(cv_out, 'cv_storage.npz')"
   ]
  },
  {
   "cell_type": "code",
   "execution_count": 60,
   "metadata": {},
   "outputs": [],
   "source": [
    "np.savez(store_p, \n",
    "         y_target_cv=y_target_arr,\n",
    "         scores_s1_arr=scores_s1_arr,\n",
    "         scores_s2_arr=scores_s2_arr,\n",
    "         y=y,\n",
    "         hit_probability=hps.training_hit_probability)"
   ]
  },
  {
   "cell_type": "code",
   "execution_count": 26,
   "metadata": {},
   "outputs": [],
   "source": [
    "sens = np.sum(hps_asd&true_asd)/np.sum(true_asd)"
   ]
  },
  {
   "cell_type": "code",
   "execution_count": 27,
   "metadata": {},
   "outputs": [
    {
     "data": {
      "text/plain": [
       "0.11538461538461539"
      ]
     },
     "execution_count": 27,
     "metadata": {},
     "output_type": "execute_result"
    }
   ],
   "source": [
    "sens"
   ]
  },
  {
   "cell_type": "code",
   "execution_count": 28,
   "metadata": {},
   "outputs": [],
   "source": [
    "spec = np.sum(true_con[hps_con])/np.sum(true_con)"
   ]
  },
  {
   "cell_type": "code",
   "execution_count": 29,
   "metadata": {},
   "outputs": [
    {
     "data": {
      "text/plain": [
       "0.9787234042553191"
      ]
     },
     "execution_count": 29,
     "metadata": {},
     "output_type": "execute_result"
    }
   ],
   "source": [
    "spec"
   ]
  },
  {
   "cell_type": "code",
   "execution_count": 30,
   "metadata": {},
   "outputs": [],
   "source": [
    "precision = np.sum(true_asd[hps_asd])/np.sum(hps_asd)"
   ]
  },
  {
   "cell_type": "code",
   "execution_count": 31,
   "metadata": {},
   "outputs": [
    {
     "data": {
      "text/plain": [
       "0.84"
      ]
     },
     "execution_count": 31,
     "metadata": {},
     "output_type": "execute_result"
    }
   ],
   "source": [
    "precision"
   ]
  },
  {
   "cell_type": "code",
   "execution_count": 32,
   "metadata": {},
   "outputs": [],
   "source": [
    "tn, fp, fn, tp = skl.metrics.confusion_matrix(y_mb[:, 1], scores_s2_arr[: , 1]).ravel().astype(float)"
   ]
  },
  {
   "cell_type": "code",
   "execution_count": null,
   "metadata": {},
   "outputs": [],
   "source": []
  },
  {
   "cell_type": "code",
   "execution_count": null,
   "metadata": {},
   "outputs": [],
   "source": []
  },
  {
   "cell_type": "code",
   "execution_count": 33,
   "metadata": {},
   "outputs": [],
   "source": [
    "p = np.sum(y_mb[:, 1])\n",
    "n = np.sum(y_mb[:, 0])"
   ]
  },
  {
   "cell_type": "code",
   "execution_count": 34,
   "metadata": {},
   "outputs": [],
   "source": [
    "tpr = tp/p\n",
    "fpr = fp/n\n",
    "\n",
    "fnr = fn/p\n",
    "tnr = tn/n"
   ]
  },
  {
   "cell_type": "code",
   "execution_count": 35,
   "metadata": {},
   "outputs": [
    {
     "data": {
      "text/plain": [
       "5.423076923076923"
      ]
     },
     "execution_count": 35,
     "metadata": {},
     "output_type": "execute_result"
    }
   ],
   "source": [
    "tpr/fpr"
   ]
  },
  {
   "cell_type": "code",
   "execution_count": 36,
   "metadata": {},
   "outputs": [
    {
     "data": {
      "text/plain": [
       "1.1063829787234043"
      ]
     },
     "execution_count": 36,
     "metadata": {},
     "output_type": "execute_result"
    }
   ],
   "source": [
    "tnr/fnr"
   ]
  },
  {
   "cell_type": "code",
   "execution_count": 37,
   "metadata": {},
   "outputs": [
    {
     "data": {
      "text/plain": [
       "0.02127659574468085"
      ]
     },
     "execution_count": 37,
     "metadata": {},
     "output_type": "execute_result"
    }
   ],
   "source": [
    "fpr"
   ]
  },
  {
   "cell_type": "code",
   "execution_count": 38,
   "metadata": {},
   "outputs": [
    {
     "data": {
      "text/plain": [
       "0.11538461538461539"
      ]
     },
     "execution_count": 38,
     "metadata": {},
     "output_type": "execute_result"
    }
   ],
   "source": [
    "tpr"
   ]
  },
  {
   "cell_type": "code",
   "execution_count": 39,
   "metadata": {},
   "outputs": [
    {
     "data": {
      "text/plain": [
       "4.0"
      ]
     },
     "execution_count": 39,
     "metadata": {},
     "output_type": "execute_result"
    }
   ],
   "source": [
    "fp"
   ]
  },
  {
   "cell_type": "code",
   "execution_count": 40,
   "metadata": {},
   "outputs": [
    {
     "data": {
      "text/plain": [
       "21.0"
      ]
     },
     "execution_count": 40,
     "metadata": {},
     "output_type": "execute_result"
    }
   ],
   "source": [
    "tp"
   ]
  },
  {
   "cell_type": "code",
   "execution_count": 41,
   "metadata": {},
   "outputs": [
    {
     "data": {
      "text/plain": [
       "161.0"
      ]
     },
     "execution_count": 41,
     "metadata": {},
     "output_type": "execute_result"
    }
   ],
   "source": [
    "fn"
   ]
  },
  {
   "cell_type": "code",
   "execution_count": 42,
   "metadata": {},
   "outputs": [
    {
     "data": {
      "text/plain": [
       "184.0"
      ]
     },
     "execution_count": 42,
     "metadata": {},
     "output_type": "execute_result"
    }
   ],
   "source": [
    "tn"
   ]
  },
  {
   "cell_type": "code",
   "execution_count": 43,
   "metadata": {},
   "outputs": [],
   "source": [
    "accuracy = (tp+tn)/(tp+fp+tn+fn)"
   ]
  },
  {
   "cell_type": "code",
   "execution_count": 44,
   "metadata": {},
   "outputs": [
    {
     "data": {
      "text/plain": [
       "0.5540540540540541"
      ]
     },
     "execution_count": 44,
     "metadata": {},
     "output_type": "execute_result"
    }
   ],
   "source": [
    "accuracy"
   ]
  },
  {
   "cell_type": "code",
   "execution_count": 45,
   "metadata": {},
   "outputs": [],
   "source": [
    "# Save some of that data\n",
    "cv_out = '/home/surchs/sim_big/PROJECT/abide_hps/ohbm_out_onlybrain/raw_figures/subtypes'"
   ]
  },
  {
   "cell_type": "code",
   "execution_count": null,
   "metadata": {},
   "outputs": [],
   "source": [
    "hps_proba_single = hps.training_hit_probability[y==1]>0.98"
   ]
  },
  {
   "cell_type": "code",
   "execution_count": null,
   "metadata": {},
   "outputs": [],
   "source": []
  },
  {
   "cell_type": "code",
   "execution_count": null,
   "metadata": {},
   "outputs": [],
   "source": []
  },
  {
   "cell_type": "code",
   "execution_count": 52,
   "metadata": {},
   "outputs": [
    {
     "data": {
      "text/plain": [
       "array([0.96116505, 0.90721649, 0.87962963, 1.        , 0.50549451,\n",
       "       0.05940594, 0.88043478, 0.65      , 0.01923077, 0.98979592,\n",
       "       0.59302326, 0.02884615, 0.62637363, 1.        , 0.68571429,\n",
       "       0.70833333, 0.8       , 0.97029703, 0.93457944, 0.08163265,\n",
       "       0.92631579, 0.34313725, 0.98039216, 0.37383178, 0.05208333,\n",
       "       1.        , 0.98113208, 0.46153846, 0.67272727, 0.37931034,\n",
       "       0.08411215, 0.7244898 , 0.98      , 0.55789474, 0.84693878,\n",
       "       0.12264151, 0.01041667, 0.83870968, 0.08064516, 0.        ,\n",
       "       0.82828283, 1.        , 0.59183673, 0.73786408, 0.12149533,\n",
       "       0.01020408, 1.        , 0.04464286, 0.48695652, 1.        ,\n",
       "       1.        , 0.98947368, 0.48113208, 0.88636364, 0.65656566,\n",
       "       0.74468085, 0.02083333, 0.82524272, 0.08510638, 0.63207547,\n",
       "       0.04672897, 0.62135922, 0.83333333, 1.        , 0.00934579,\n",
       "       0.4953271 , 1.        , 1.        , 0.51401869, 0.39325843,\n",
       "       1.        , 0.65048544, 0.16190476, 0.62244898, 0.78      ,\n",
       "       0.14130435, 0.05154639, 0.73584906, 0.64948454, 0.04938272,\n",
       "       0.12612613, 0.33027523, 0.03      , 0.42056075, 0.87254902,\n",
       "       0.10679612, 0.24786325, 0.93406593, 0.85227273, 0.78494624,\n",
       "       1.        , 0.0776699 , 0.20212766, 0.47727273, 0.41176471,\n",
       "       0.98888889, 0.51041667, 0.82882883, 0.60824742, 0.06481481,\n",
       "       0.        , 1.        , 1.        , 0.96296296, 1.        ,\n",
       "       0.87735849, 0.98863636, 0.22340426, 0.99099099, 0.20618557,\n",
       "       0.74468085, 0.99065421, 0.31034483, 0.95789474, 0.93939394,\n",
       "       0.92      , 0.84615385, 0.62626263, 0.01785714, 0.06666667,\n",
       "       0.4893617 , 0.23      , 0.97916667, 0.77083333, 0.82608696,\n",
       "       0.28571429, 0.39047619, 0.95283019, 1.        , 0.51041667,\n",
       "       0.94      , 0.07142857, 0.98039216, 0.08139535, 0.37142857,\n",
       "       0.76699029, 0.01      , 0.68      , 0.63829787, 0.42      ,\n",
       "       1.        , 0.15178571, 0.97115385, 0.95192308, 0.83018868,\n",
       "       0.77884615, 0.54545455, 0.5       , 0.13333333, 0.17977528,\n",
       "       0.45132743, 0.55357143, 0.        , 0.81609195, 1.        ,\n",
       "       0.81481481, 0.9673913 , 0.02777778, 0.32978723, 0.63461538,\n",
       "       0.81188119, 0.46902655, 0.71717172, 0.1588785 , 0.67368421,\n",
       "       0.        , 0.02      , 0.62857143, 0.29896907, 0.58139535,\n",
       "       0.89361702, 0.82692308, 0.04807692, 0.        , 0.99065421,\n",
       "       0.99009901, 0.06060606, 1.        , 0.98795181, 0.68518519,\n",
       "       0.63793103, 0.93577982, 0.69892473, 0.        , 0.77659574,\n",
       "       0.94174757, 0.93636364, 0.11650485, 0.98214286, 0.94949495,\n",
       "       0.56190476, 0.88461538, 0.02298851, 1.        , 1.        ,\n",
       "       1.        , 0.98947368, 0.79787234, 0.42528736, 0.        ,\n",
       "       0.04081633, 0.08510638, 0.74      , 0.23364486, 0.        ,\n",
       "       0.65263158, 1.        , 0.33673469, 0.75531915, 0.97849462,\n",
       "       0.89010989, 0.93069307, 0.00943396, 0.96774194, 1.        ,\n",
       "       1.        , 0.20212766, 0.78787879, 0.0462963 , 0.02752294,\n",
       "       0.87378641, 0.95833333, 1.        , 0.82      , 0.28431373,\n",
       "       0.95412844, 0.76041667, 0.80392157, 1.        , 1.        ,\n",
       "       0.21904762, 0.9245283 , 0.21      , 0.05263158, 0.15533981,\n",
       "       0.07291667, 0.96521739, 0.65740741, 0.58426966, 0.45263158,\n",
       "       0.03030303, 0.90384615, 0.96039604, 0.27192982, 0.59405941,\n",
       "       0.98863636, 1.        , 0.66326531, 1.        , 1.        ,\n",
       "       0.20588235, 0.55555556, 0.31578947, 0.34      , 0.19191919,\n",
       "       0.75247525, 0.31481481, 0.97849462, 0.94318182, 0.82      ,\n",
       "       0.79245283, 0.88421053, 0.99      , 0.04081633, 0.7752809 ,\n",
       "       0.98888889, 0.07368421, 0.99130435, 0.        , 0.44186047,\n",
       "       0.95      , 0.74      , 1.        , 0.05714286, 0.95049505,\n",
       "       0.86725664, 0.38679245, 0.08791209, 0.22580645, 0.28282828,\n",
       "       0.94318182, 0.48      , 1.        , 0.74757282, 0.35714286,\n",
       "       0.60377358, 0.28712871, 0.9009901 , 0.97916667, 0.99122807,\n",
       "       0.75257732, 0.94565217, 0.94623656, 1.        , 0.9893617 ,\n",
       "       1.        , 0.95918367, 0.17894737, 0.9893617 , 0.02752294,\n",
       "       0.96875   , 0.97272727, 0.01010101, 0.99065421, 0.56730769,\n",
       "       0.47747748, 0.97752809, 0.43925234, 0.67326733, 0.68888889,\n",
       "       1.        , 0.89473684, 0.06666667, 1.        , 0.94736842,\n",
       "       0.98901099, 0.73076923, 0.82291667, 1.        , 0.9245283 ,\n",
       "       0.44117647, 0.55555556, 1.        , 1.        , 0.        ,\n",
       "       0.74509804, 0.94736842, 0.97727273, 0.1682243 , 0.03333333,\n",
       "       0.95762712, 0.91346154, 0.98989899, 0.32692308, 0.46078431,\n",
       "       1.        , 0.98165138, 0.        , 0.82474227, 0.99074074,\n",
       "       1.        , 1.        , 0.00980392, 0.91089109, 0.95      ,\n",
       "       0.52040816, 0.69230769, 0.53608247, 0.86792453, 0.82474227,\n",
       "       1.        , 0.97087379, 0.50526316, 0.58252427, 0.91954023,\n",
       "       1.        , 0.1122449 , 0.99047619, 0.        , 0.97029703,\n",
       "       0.97087379, 0.72477064, 1.        , 0.01010101, 0.75757576,\n",
       "       0.69      , 0.        , 0.52747253, 0.31818182, 0.93203883])"
      ]
     },
     "execution_count": 52,
     "metadata": {},
     "output_type": "execute_result"
    }
   ],
   "source": [
    "hps.training_hit_probability"
   ]
  },
  {
   "cell_type": "code",
   "execution_count": null,
   "metadata": {},
   "outputs": [],
   "source": []
  },
  {
   "cell_type": "code",
   "execution_count": null,
   "metadata": {},
   "outputs": [],
   "source": []
  },
  {
   "cell_type": "code",
   "execution_count": null,
   "metadata": {},
   "outputs": [],
   "source": []
  },
  {
   "cell_type": "code",
   "execution_count": null,
   "metadata": {},
   "outputs": [],
   "source": []
  },
  {
   "cell_type": "code",
   "execution_count": null,
   "metadata": {},
   "outputs": [],
   "source": [
    "f = plt.figure(figsize=(0.8, 78.74), constrained_layout=True)\n",
    "ax = f.add_subplot(111)\n",
    "ax.set_yticks([])\n",
    "ax.set_xticks([])\n",
    "ax.set_axis_off()\n",
    "l_vec = np.zeros((2,1))\n",
    "l_vec[0, 0] = 1\n",
    "sbn.heatmap(clf_vec, linewidths=1, linecolor='white', ax=ax, cbar=False, cmap=sbn.xkcd_palette(['light grey', 'gold']))\n",
    "for i in range(370):\n",
    "    if i <150:\n",
    "        ax.add_patch(mpatches.Rectangle((0,i),1,1,linewidth=3,edgecolor='blue',facecolor='none', clip_on=False))\n",
    "    else:\n",
    "        ax.add_patch(mpatches.Rectangle((0,i),1,1,linewidth=3,edgecolor='red',facecolor='none', clip_on=False))\n",
    "f.savefig(os.path.join(cv_out, 'hps_class_vector.png'), dpi=200, transparent=True)"
   ]
  },
  {
   "cell_type": "code",
   "execution_count": null,
   "metadata": {},
   "outputs": [],
   "source": []
  },
  {
   "cell_type": "code",
   "execution_count": null,
   "metadata": {},
   "outputs": [],
   "source": []
  },
  {
   "cell_type": "code",
   "execution_count": null,
   "metadata": {},
   "outputs": [],
   "source": []
  },
  {
   "cell_type": "code",
   "execution_count": null,
   "metadata": {},
   "outputs": [],
   "source": []
  },
  {
   "cell_type": "code",
   "execution_count": null,
   "metadata": {},
   "outputs": [],
   "source": []
  },
  {
   "cell_type": "code",
   "execution_count": null,
   "metadata": {},
   "outputs": [],
   "source": []
  },
  {
   "cell_type": "code",
   "execution_count": null,
   "metadata": {},
   "outputs": [],
   "source": []
  },
  {
   "cell_type": "code",
   "execution_count": null,
   "metadata": {},
   "outputs": [],
   "source": []
  },
  {
   "cell_type": "code",
   "execution_count": null,
   "metadata": {},
   "outputs": [],
   "source": []
  },
  {
   "cell_type": "code",
   "execution_count": null,
   "metadata": {},
   "outputs": [],
   "source": []
  },
  {
   "cell_type": "code",
   "execution_count": null,
   "metadata": {},
   "outputs": [],
   "source": []
  },
  {
   "cell_type": "code",
   "execution_count": null,
   "metadata": {},
   "outputs": [],
   "source": []
  },
  {
   "cell_type": "code",
   "execution_count": null,
   "metadata": {},
   "outputs": [],
   "source": []
  },
  {
   "cell_type": "code",
   "execution_count": null,
   "metadata": {},
   "outputs": [],
   "source": []
  },
  {
   "cell_type": "code",
   "execution_count": null,
   "metadata": {},
   "outputs": [],
   "source": []
  },
  {
   "cell_type": "code",
   "execution_count": null,
   "metadata": {},
   "outputs": [],
   "source": []
  },
  {
   "cell_type": "code",
   "execution_count": null,
   "metadata": {},
   "outputs": [],
   "source": []
  },
  {
   "cell_type": "code",
   "execution_count": null,
   "metadata": {},
   "outputs": [],
   "source": []
  },
  {
   "cell_type": "code",
   "execution_count": null,
   "metadata": {},
   "outputs": [],
   "source": []
  },
  {
   "cell_type": "code",
   "execution_count": null,
   "metadata": {},
   "outputs": [],
   "source": []
  },
  {
   "cell_type": "code",
   "execution_count": null,
   "metadata": {},
   "outputs": [],
   "source": []
  },
  {
   "cell_type": "code",
   "execution_count": null,
   "metadata": {},
   "outputs": [],
   "source": []
  },
  {
   "cell_type": "code",
   "execution_count": null,
   "metadata": {},
   "outputs": [],
   "source": []
  },
  {
   "cell_type": "code",
   "execution_count": null,
   "metadata": {},
   "outputs": [],
   "source": []
  },
  {
   "cell_type": "code",
   "execution_count": null,
   "metadata": {},
   "outputs": [],
   "source": []
  },
  {
   "cell_type": "code",
   "execution_count": null,
   "metadata": {},
   "outputs": [],
   "source": []
  },
  {
   "cell_type": "code",
   "execution_count": null,
   "metadata": {},
   "outputs": [],
   "source": []
  },
  {
   "cell_type": "code",
   "execution_count": null,
   "metadata": {},
   "outputs": [],
   "source": []
  },
  {
   "cell_type": "code",
   "execution_count": null,
   "metadata": {},
   "outputs": [],
   "source": []
  },
  {
   "cell_type": "code",
   "execution_count": null,
   "metadata": {},
   "outputs": [],
   "source": []
  },
  {
   "cell_type": "code",
   "execution_count": null,
   "metadata": {},
   "outputs": [],
   "source": []
  },
  {
   "cell_type": "code",
   "execution_count": null,
   "metadata": {},
   "outputs": [],
   "source": []
  },
  {
   "cell_type": "code",
   "execution_count": null,
   "metadata": {},
   "outputs": [],
   "source": []
  },
  {
   "cell_type": "code",
   "execution_count": null,
   "metadata": {},
   "outputs": [],
   "source": []
  },
  {
   "cell_type": "code",
   "execution_count": null,
   "metadata": {},
   "outputs": [],
   "source": []
  },
  {
   "cell_type": "code",
   "execution_count": null,
   "metadata": {},
   "outputs": [],
   "source": []
  },
  {
   "cell_type": "code",
   "execution_count": null,
   "metadata": {},
   "outputs": [],
   "source": []
  },
  {
   "cell_type": "code",
   "execution_count": null,
   "metadata": {},
   "outputs": [],
   "source": []
  },
  {
   "cell_type": "code",
   "execution_count": null,
   "metadata": {},
   "outputs": [],
   "source": []
  },
  {
   "cell_type": "code",
   "execution_count": null,
   "metadata": {},
   "outputs": [],
   "source": []
  },
  {
   "cell_type": "code",
   "execution_count": null,
   "metadata": {},
   "outputs": [],
   "source": []
  },
  {
   "cell_type": "code",
   "execution_count": null,
   "metadata": {},
   "outputs": [],
   "source": []
  },
  {
   "cell_type": "code",
   "execution_count": null,
   "metadata": {},
   "outputs": [],
   "source": []
  },
  {
   "cell_type": "code",
   "execution_count": null,
   "metadata": {},
   "outputs": [],
   "source": []
  },
  {
   "cell_type": "code",
   "execution_count": null,
   "metadata": {},
   "outputs": [],
   "source": []
  },
  {
   "cell_type": "code",
   "execution_count": null,
   "metadata": {},
   "outputs": [],
   "source": []
  },
  {
   "cell_type": "code",
   "execution_count": null,
   "metadata": {},
   "outputs": [],
   "source": []
  },
  {
   "cell_type": "markdown",
   "metadata": {},
   "source": [
    "## Get the global average maps"
   ]
  },
  {
   "cell_type": "code",
   "execution_count": null,
   "metadata": {},
   "outputs": [],
   "source": []
  },
  {
   "cell_type": "code",
   "execution_count": null,
   "metadata": {},
   "outputs": [],
   "source": []
  },
  {
   "cell_type": "code",
   "execution_count": null,
   "metadata": {},
   "outputs": [],
   "source": []
  },
  {
   "cell_type": "code",
   "execution_count": null,
   "metadata": {},
   "outputs": [],
   "source": []
  },
  {
   "cell_type": "code",
   "execution_count": null,
   "metadata": {},
   "outputs": [],
   "source": []
  },
  {
   "cell_type": "code",
   "execution_count": null,
   "metadata": {},
   "outputs": [],
   "source": []
  },
  {
   "cell_type": "code",
   "execution_count": null,
   "metadata": {},
   "outputs": [],
   "source": []
  },
  {
   "cell_type": "code",
   "execution_count": null,
   "metadata": {},
   "outputs": [],
   "source": []
  },
  {
   "cell_type": "code",
   "execution_count": null,
   "metadata": {},
   "outputs": [],
   "source": [
    "# CT\n",
    "(resid_ct, mod_ct) = regress_ct(sample, 'AGE_AT_SCAN + Site', ct_p, ct_t)\n",
    "ct_avg = mod_ct.coef_[:, 0]\n",
    "ct_avg_l = ct_avg[:40962]\n",
    "ct_avg_r = ct_avg[40962:]\n",
    "# Save them\n",
    "np.savetxt(os.path.join(out_p, 'ct_avg_left.txt'),ct_avg_l)\n",
    "np.savetxt(os.path.join(out_p, 'ct_avg_right.txt'),ct_avg_r)"
   ]
  },
  {
   "cell_type": "code",
   "execution_count": null,
   "metadata": {},
   "outputs": [],
   "source": [
    "# FC\n",
    "if not os.path.isfile(avg_dump_p):\n",
    "    n_sub = sample.shape[0]\n",
    "    avg_fc = np.zeros((n_vox, n_seed))\n",
    "    dmat_seed = pat.dmatrix('AGE_AT_SCAN + FD_scrubbed + Site', data=sample)\n",
    "    for sid in range(n_seed):\n",
    "        # Build the regression model for the seed maps\n",
    "        mod = sln.LinearRegression(fit_intercept=False, normalize=False, n_jobs=-1)\n",
    "        sub_seed = np.zeros((n_sub, n_vox))\n",
    "        sps = skp.StandardScaler()\n",
    "        # Line index doesn't necessarily match continuous index\n",
    "        for rid, (rid_abs, row) in enumerate(sample.iterrows()):\n",
    "            p = os.path.join(seed_p, sd_t.format(row['SUB_ID']))\n",
    "            d = np.load(p)\n",
    "            sub_seed[rid, :] = d[sid, ...]\n",
    "        sps.fit(sub_seed)\n",
    "        avg_fc[:, sid] = sps.mean_\n",
    "    np.save(avg_dump_p, avg_fc)\n",
    "else:\n",
    "    avg_fc = np.load(avg_dump_p)"
   ]
  },
  {
   "cell_type": "markdown",
   "metadata": {},
   "source": [
    "## Train a model on the whole dataset"
   ]
  },
  {
   "cell_type": "code",
   "execution_count": 47,
   "metadata": {},
   "outputs": [
    {
     "name": "stdout",
     "output_type": "stream",
     "text": [
      "Stage 1\n",
      "Stage 2\n"
     ]
    },
    {
     "data": {
      "image/png": "[encoded data removed]",
      "text/plain": [
       "<Figure size 432x288 with 1 Axes>"
      ]
     },
     "metadata": {},
     "output_type": "display_data"
    },
    {
     "data": {
      "image/png": "[encoded data removed]",
      "text/plain": [
       "<Figure size 432x288 with 1 Axes>"
      ]
     },
     "metadata": {},
     "output_type": "display_data"
    }
   ],
   "source": [
    "n_sub = sample.shape[0]\n",
    "\n",
    "# Replicate the subtyping process\n",
    "# Extract the train and test data and regress nuisance factors\n",
    "resid_fc = regress_fc(sample, \n",
    "                           'AGE_AT_SCAN + FD_scrubbed + Site', \n",
    "                           n_vox, n_seed=n_seed, \n",
    "                           seed_p=seed_p, sd_t=sd_t)\n",
    "(resid_ct, mod_ct) = regress_ct(sample, 'AGE_AT_SCAN + Site', ct_p, ct_t)\n",
    "\n",
    "# Make the subtypes from the train data\n",
    "(subtypes_fc, weights_fc) = make_subtype_fc(resid_fc, n_subtypes=n_subtypes)\n",
    "(subtypes_ct, weights_ct) = make_subtype_ct(resid_ct, n_subtypes=n_subtypes)\n",
    "\n",
    "# Build input data\n",
    "fc = np.reshape(weights_fc, (n_sub, n_subtypes*n_seed))\n",
    "\n",
    "features = np.concatenate((weights_ct, fc), 1)\n",
    "\n",
    "# Make sure we use the correct index or else there will be NaNs in the weight columns\n",
    "feat_data = pd.DataFrame(data=features, columns=cols)\n",
    "data = sample.join(feat_data)\n",
    "\n",
    "# Select the features\n",
    "scaler = skl.preprocessing.StandardScaler()\n",
    "x_ = data.loc[:, col_features]\n",
    "# Normalize\n",
    "X = scaler.fit_transform(x_)\n",
    "# Take the numeric diagnosis code, 0 is control, 1 is autism\n",
    "y = data.loc[:, ['DX_CODE']].values.squeeze()\n",
    "\n",
    "# Train the model\n",
    "hps = high_confidence.TwoStagesPrediction(verbose=False,\n",
    "                                      n_iter=200,\n",
    "                                      shuffle_test_split=0.5,\n",
    "                                        gamma=1,\n",
    "                                      min_gamma=0.98,\n",
    "                                      thresh_ratio=0.8)\n",
    "\n",
    "hps.fit(X, y)\n",
    "x_ = data.loc[:, col_features]\n",
    "# Normalize\n",
    "X = scaler.fit_transform(x_)\n",
    "# Take the numeric diagnosis code, 0 is control, 1 is autism\n",
    "y = data.loc[:, ['DX_CODE']].values.squeeze()\n",
    "\n",
    "res_hitproba = hps.training_hit_probability\n",
    "plt.figure()\n",
    "plt.title('Class 0 hit probability distribution')\n",
    "plt.hist(hps.training_hit_probability[y==0],10);\n",
    "plt.figure()\n",
    "plt.title('Class 1 hit probability distribution')\n",
    "plt.hist(hps.training_hit_probability[y==1],10);"
   ]
  },
  {
   "cell_type": "code",
   "execution_count": 48,
   "metadata": {},
   "outputs": [],
   "source": [
    "hps_base_rate = np.sum(hps.training_hit_probability[y==1]>0.98)/len(hps.training_hit_probability[y==1])"
   ]
  },
  {
   "cell_type": "code",
   "execution_count": 49,
   "metadata": {},
   "outputs": [
    {
     "data": {
      "text/plain": [
       "0.1978021978021978"
      ]
     },
     "execution_count": 49,
     "metadata": {},
     "output_type": "execute_result"
    }
   ],
   "source": [
    "hps_base_rate"
   ]
  },
  {
   "cell_type": "code",
   "execution_count": 24,
   "metadata": {},
   "outputs": [
    {
     "data": {
      "text/plain": [
       "0.003787362637362637"
      ]
     },
     "execution_count": 24,
     "metadata": {},
     "output_type": "execute_result"
    }
   ],
   "source": [
    "hps_base_rate*0.0113"
   ]
  },
  {
   "cell_type": "markdown",
   "metadata": {},
   "source": [
    "Assuming that our ASD sample was prevalent, how common would the identified subtype be in a general population sample? Answer: about 0.33% incidence. So not very large indeed. Bot on the other hand, they would make up 1/3 of individuals with ASD. So if we could push the base rate to 10% based on pre-screening or something like that:"
   ]
  },
  {
   "cell_type": "code",
   "execution_count": 25,
   "metadata": {},
   "outputs": [
    {
     "data": {
      "text/plain": [
       "0.033516483516483515"
      ]
     },
     "execution_count": 25,
     "metadata": {},
     "output_type": "execute_result"
    }
   ],
   "source": [
    "hps_base_rate*0.1"
   ]
  },
  {
   "cell_type": "markdown",
   "metadata": {},
   "source": [
    "We'd already find about 3% of HPS cases in our screening sample. Not that many..."
   ]
  },
  {
   "cell_type": "code",
   "execution_count": 26,
   "metadata": {},
   "outputs": [
    {
     "name": "stdout",
     "output_type": "stream",
     "text": [
      "HPS base rate 33.52%\n"
     ]
    }
   ],
   "source": [
    "print('HPS base rate {:.2f}%'.format(hps_base_rate*100))"
   ]
  },
  {
   "cell_type": "markdown",
   "metadata": {},
   "source": [
    "## Review the contributing FC features"
   ]
  },
  {
   "cell_type": "code",
   "execution_count": 123,
   "metadata": {},
   "outputs": [],
   "source": [
    "# Get the feature weights of the second stage for class 2 (ASD)\n",
    "feature_weights = hps.confidencemodel.clfs[1].coef_\n",
    "non_zero_features = np.where(feature_weights!=0)[1]"
   ]
  },
  {
   "cell_type": "code",
   "execution_count": 124,
   "metadata": {},
   "outputs": [],
   "source": [
    "f_dc = {key:list() for key in ['net', 'sid', 'weight', 'name', 'net_name', 'kind', 'nonzero', 'risk']}\n",
    "for i in range(len(col_features)):\n",
    "    f_name = col_features[i]\n",
    "    if 'fc' in f_name:\n",
    "        # FC\n",
    "        net = col_params[i][0]\n",
    "        sid = col_params[i][1]\n",
    "        net_name = label.loc[label.roi==net+1].name.values[0]\n",
    "        kind = 'FC'\n",
    "    elif 'ct' in f_name:\n",
    "        # CT\n",
    "        net = None\n",
    "        sid = col_params[i][1]\n",
    "        net_name = None\n",
    "        kind = 'CT'\n",
    "    weight = feature_weights.flatten()[i]\n",
    "    \n",
    "    f_dc['net'].append(net)\n",
    "    f_dc['sid'].append(sid)\n",
    "    f_dc['weight'].append(weight)\n",
    "    f_dc['name'].append(f_name)\n",
    "    f_dc['net_name'].append(net_name)\n",
    "    f_dc['kind'].append(kind)\n",
    "    f_dc['nonzero'].append(weight!=0)\n",
    "    f_dc['risk'].append(weight>0)\n",
    "feature_data = pd.DataFrame(f_dc)\n",
    "feature_nonzero = feature_data.loc[feature_data.nonzero]"
   ]
  },
  {
   "cell_type": "code",
   "execution_count": 125,
   "metadata": {},
   "outputs": [],
   "source": [
    "f_sorted = feature_nonzero.sort_values(by=['net', 'sid'])\n",
    "tmp_feat_sort_ind = f_sorted.index.values\n",
    "f_sorted.reset_index(drop=True, inplace=True)\n",
    "\n",
    "net_ind = list()\n",
    "net_border = list()\n",
    "lbl = list()\n",
    "rbl = list()\n",
    "for nid in range(n_seed):\n",
    "    # Find the networks hits\n",
    "    h_ind = f_sorted.loc[f_sorted.net==nid].index.values\n",
    "    if not h_ind[0]-0.5 in net_border:\n",
    "        net_border.append(h_ind[0]-0.5)\n",
    "    net_border.append(h_ind[-1]+0.5)\n",
    "    lbl.append( h_ind[0]-0.5)\n",
    "    rbl.append( h_ind[-1]+0.5)\n",
    "        \n",
    "    if len(h_ind)<=2:\n",
    "        net_ind.append(h_ind[0]+0.5)\n",
    "    else:\n",
    "        net_ind.append(h_ind[1])\n",
    "# Add CT\n",
    "#net_ind.append(33)\n",
    "c_ind = np.array(net_ind)\n",
    "b_ind = np.array(net_border)\n",
    "lb = np.array(lbl)\n",
    "rb = np.array(rbl)"
   ]
  },
  {
   "cell_type": "code",
   "execution_count": 127,
   "metadata": {},
   "outputs": [],
   "source": [
    "from mpl_toolkits.axes_grid.parasite_axes import SubplotHost"
   ]
  },
  {
   "cell_type": "code",
   "execution_count": 128,
   "metadata": {},
   "outputs": [],
   "source": [
    "names = list(f_sorted.iloc[c_ind].net_name.values)\n",
    "names.append('Cortical Thickness')"
   ]
  },
  {
   "cell_type": "code",
   "execution_count": 183,
   "metadata": {},
   "outputs": [],
   "source": [
    "# Brain only model\n",
    "# Re-order the networks so the effects don't overlap\n",
    "new_net_order = ['MESOLIMBIC_NETWORK',\n",
    "                 'BASAL_GANGLIA_and_THALAMUS',\n",
    "                 'AUDITORY_NETWORK_and_POSTERIOR_INSULA',\n",
    "                 'VISUAL_NETWORK',\n",
    "                 'SOMATOMOTOR_NETWORK',\n",
    "                 'DEFAULT_MODE_NETWORK_posteromedial',\n",
    "                 'FRONTO_PARIETAL_NETWORK',\n",
    "                 'CEREBELLUM',\n",
    "                 'VENTRAL_VISUAL_STREAM_and_DORSAL_VISUAL_STREAM',\n",
    "                 'DEFAULT_MODE_NETWORK_lateral',\n",
    "                 'VENTRAL_ATTENTION_NETWORK_and_SALIENCE_NETWORK',\n",
    "                 'DEFAULT_MODE_NETWORK_anteromedial_and_left_ANGULAR_GYRUS',\n",
    "                 'Cortical Thickness']"
   ]
  },
  {
   "cell_type": "code",
   "execution_count": 184,
   "metadata": {},
   "outputs": [],
   "source": [
    "net_ind_l = list()\n",
    "# Get the FC indices for all subtypes\n",
    "for i in new_net_order:\n",
    "    for j in f_sorted.loc[f_sorted.net_name==i].index.values:\n",
    "        net_ind_l.append(j)\n",
    "# Add the CT indices for all subtypes\n",
    "for j in f_sorted.loc[f_sorted.net_name.isnull()].index.values:\n",
    "    net_ind_l.append(j)\n",
    "new_net_ind = np.array(net_ind_l)"
   ]
  },
  {
   "cell_type": "code",
   "execution_count": 185,
   "metadata": {},
   "outputs": [],
   "source": [
    "f_new_sorted = f_sorted.iloc[new_net_ind]\n",
    "# Give CT a network name so we can use it like that as well\n",
    "f_new_sorted.ix[f_new_sorted.kind=='CT', 'net_name'] = 'Cortical Thickness'\n",
    "# Reset the index\n",
    "f_new_sorted.reset_index(drop=False, inplace=True)"
   ]
  },
  {
   "cell_type": "code",
   "execution_count": 186,
   "metadata": {},
   "outputs": [],
   "source": [
    "# Make new names again\n",
    "net_ind_names = list()\n",
    "net_border_names = list()\n",
    "lbl_names = list()\n",
    "rbl_names = list()\n",
    "for n_name in new_net_order:\n",
    "    # Find the networks hits\n",
    "    h_ind = f_new_sorted.loc[f_new_sorted.net_name==n_name].index.values\n",
    "    if not h_ind[0]-0.5 in net_border_names:\n",
    "        net_border_names.append(h_ind[0]-0.5)\n",
    "    net_border_names.append(h_ind[-1]+0.5)\n",
    "    lbl_names.append( h_ind[0]-0.5)\n",
    "    rbl_names.append( h_ind[-1]+0.5)\n",
    "        \n",
    "    if len(h_ind)<=2:\n",
    "        net_ind_names.append(h_ind[0]+0.5)\n",
    "    else:\n",
    "        net_ind_names.append(h_ind[1])\n",
    "# Add CT\n",
    "#net_ind.append(33)\n",
    "c_ind_names = np.array(net_ind_names)\n",
    "b_ind_names = np.array(net_border_names)\n",
    "lb_names = np.array(lbl_names)\n",
    "rb_names = np.array(rbl_names)"
   ]
  },
  {
   "cell_type": "raw",
   "metadata": {},
   "source": [
    "# Show all the non-zero data\n",
    "f = plt.figure(figsize=(3,15), constrained_layout=True)\n",
    "#ax = SubplotHost(f, 111)\n",
    "ax = f.add_subplot(111)\n",
    "for idx, (l, r) in enumerate(zip(lbl, rbl)):\n",
    "    if idx%2==0:\n",
    "        ax.axhspan(l, r, facecolor='lightgrey', alpha=0.2)\n",
    "    else:\n",
    "        ax.axhspan(l, r, facecolor='grey', alpha=0.2)\n",
    "    ax.axhspan(33.5, 36.5, facecolor='lightblue', alpha=0.2)\n",
    "    ax.axhspan(36.5, 39.5, facecolor='darkgrey', alpha=0.2)\n",
    "#f.add_subplot(ax)\n",
    "#offset = 0, -25\n",
    "#ax2 = ax.twiny()\n",
    "#g = sbn.barplot(x='feature', y='weights', data=weights, hue='feature_type', ax=ax)\n",
    "g = sbn.barplot(x='weight', y='name', data=f_sorted.iloc[new_net_ind], hue='kind', ax=ax, ci=None, dodge=False, \n",
    "                palette=sbn.xkcd_palette(['yellow orange', 'cerulean', 'light grey']), orient='h')\n",
    "#g.set(xlabel='Feature Weights of HPS model', ylabel='')\n",
    "sbn.despine(left=True);\n",
    "#ax.set_xticklabels(ax.get_xticklabels(), rotation=90);\n",
    "ax.set_yticks(c_ind)\n",
    "ax.set_xlabel('')\n",
    "ax.set_ylabel('')\n",
    "ax.set_yticklabels([])\n",
    "ax.set_yticks([])\n",
    "ax.axvline(0, color='black')\n",
    "#for i in b_ind:\n",
    "#    ax.axvline(i, ymin=0.4, ymax=0.5, color='grey')\n",
    "#new_axisline = ax2.get_grid_helper().new_fixed_axis\n",
    "#ax2.axis[\"bottom\"] = new_axisline(loc=\"bottom\", axes=ax2, offset=offset)\n",
    "ax.legend_.remove()\n",
    "\n",
    "f.savefig(os.path.join(out_p, 'non-zero-features_no_name.png'), dpi=300, transparent=True)"
   ]
  },
  {
   "cell_type": "code",
   "execution_count": 187,
   "metadata": {},
   "outputs": [],
   "source": [
    "asd_indices = sample.loc[y==1].index.values\n",
    "hps_indices = asd_indices[np.where(hps.training_hit_probability[y==1]>0.95)]\n",
    "nonhps_indices = asd_indices[np.where(hps.training_hit_probability[y==1]<=0.95)]\n",
    "cond_arr = np.zeros(n_sub)\n",
    "cond_arr[hps_indices] = 2\n",
    "cond_arr[nonhps_indices] = 1"
   ]
  },
  {
   "cell_type": "code",
   "execution_count": 198,
   "metadata": {},
   "outputs": [],
   "source": [
    "# Make the traces\n",
    "features_all = data.loc[:, col_features].values\n",
    "# Sort features to what I use in the rest of the plots\n",
    "features_resort_like_others = features_all[:, tmp_feat_sort_ind]\n",
    "\n",
    "feat_scaler = skl.preprocessing.StandardScaler()\n",
    "features_all_scaled = feat_scaler.fit_transform(features_resort_like_others)\n",
    "n_nonzero_features = features_resort_like_others.shape[1]\n",
    "nonzero_feat_name = f_sorted.name.values\n",
    "# Resort the features again according to the new networks\n",
    "\n",
    "features_all_scaled_resorted = features_all_scaled[:, new_net_ind]\n",
    "feat_names_resorted = list(nonzero_feat_name[new_net_ind])\n",
    "\n",
    "trace_data = {'sub':[rid for rid, row in sample.iterrows() for fid in range(n_nonzero_features)],\n",
    "              'cond':[cond_arr[rid] for rid, row in sample.iterrows() for fid in range(n_nonzero_features)],\n",
    "              'weight':[features_all_scaled_resorted[rid, fid] for rid, row in sample.iterrows() for fid in range(n_nonzero_features)],\n",
    "              'feat':[fid for rid, row in sample.iterrows() for fid in range(n_nonzero_features)]}\n",
    "trace = pd.DataFrame(trace_data)\n",
    "trace['condition'] = trace['cond'].replace({0:'CON', 1:'iASD', 2:'pASD'})"
   ]
  },
  {
   "cell_type": "code",
   "execution_count": 199,
   "metadata": {},
   "outputs": [
    {
     "data": {
      "image/png": "[encoded data removed]",
      "text/plain": [
       "<Figure size 1440x720 with 1 Axes>"
      ]
     },
     "metadata": {},
     "output_type": "display_data"
    }
   ],
   "source": [
    "ff_names = [col_features[i] for i in non_zero_features[new_net_ind]]\n",
    "\n",
    "f = plt.figure(figsize=(20,10), constrained_layout=True)\n",
    "#ax = SubplotHost(f, 111)\n",
    "ax = f.add_subplot(111)\n",
    "qq = sbn.tsplot(time=\"feat\", value=\"weight\",\n",
    "           unit=\"sub\", condition=\"condition\",data=trace, ci=[10,50,90], ax=ax)\n",
    "ax.set_xticks(np.arange(n_nonzero_features))\n",
    "ax.set_xticklabels(feat_names_resorted, rotation=90);"
   ]
  },
  {
   "cell_type": "raw",
   "metadata": {},
   "source": [
    "# Show all the non-zero data\n",
    "\n",
    "f = plt.figure(figsize=(10,20), constrained_layout=True)\n",
    "#ax = SubplotHost(f, 111)\n",
    "ax = f.add_subplot(111)\n",
    "for idx, (l, r) in enumerate(zip(lbl, rbl)):\n",
    "    if idx%2==0:\n",
    "        ax.axhspan(l, r, facecolor='lightgrey', alpha=0.2)\n",
    "    else:\n",
    "        ax.axhspan(l, r, facecolor='grey', alpha=0.2)\n",
    "    ax.axhspan(33.5, 36.5, facecolor='lightblue', alpha=0.2)\n",
    "    ax.axhspan(36.5, 39.5, facecolor='darkgrey', alpha=0.2)\n",
    "#f.add_subplot(ax)\n",
    "#offset = 0, -25\n",
    "#ax2 = ax.twiny()\n",
    "#g = sbn.barplot(x='feature', y='weights', data=weights, hue='feature_type', ax=ax)\n",
    "g = sbn.barplot(x='weight', y='name', data=f_sorted.iloc[new_net_ind], hue='kind', ax=ax, ci=None, dodge=False, \n",
    "                palette=sbn.xkcd_palette(['yellow orange', 'cerulean', 'light grey']), orient='h')\n",
    "g.set(xlabel='Feature Weights of HPS model', ylabel='')\n",
    "sbn.despine();\n",
    "#ax.set_xticklabels(ax.get_xticklabels(), rotation=90);\n",
    "ax.set_yticks(c_ind)\n",
    "ax.set_yticklabels(new_net_order, rotation=0)\n",
    "ax.axvline(0, color='black')\n",
    "#for i in b_ind:\n",
    "#    ax.axvline(i, ymin=0.4, ymax=0.5, color='grey')\n",
    "#new_axisline = ax2.get_grid_helper().new_fixed_axis\n",
    "#ax2.axis[\"bottom\"] = new_axisline(loc=\"bottom\", axes=ax2, offset=offset)\n",
    "ax.legend_.remove()\n",
    "\n",
    "f.savefig(os.path.join(out_p, 'non-zero-features.png'), dpi=300, transparent=True)"
   ]
  },
  {
   "cell_type": "code",
   "execution_count": 200,
   "metadata": {},
   "outputs": [
    {
     "data": {
      "image/png": "[encoded data removed]",
      "text/plain": [
       "<Figure size 1116x288 with 1 Axes>"
      ]
     },
     "metadata": {},
     "output_type": "display_data"
    }
   ],
   "source": [
    "# Show the non-zero feature weights\n",
    "f = plt.figure(figsize=(15.5,4), constrained_layout=True)\n",
    "ax = f.add_subplot(111)\n",
    "\n",
    "ax.spines['top'].set_visible(False)\n",
    "ax.spines['bottom'].set_visible(False)\n",
    "ax.spines['right'].set_visible(False)\n",
    "\n",
    "for idx, (l, r) in enumerate(zip(lbl_names, rbl_names)):\n",
    "    if idx%2==0:\n",
    "        #ax.axvline(x=r, ymin=0.4, ymax=0.7, color='black')\n",
    "        ax.axvspan(l, r, facecolor='lightgrey', alpha=0.2)\n",
    "    else:\n",
    "        #ax.axvline(x=r, ymin=0.4, ymax=0.7, color='black')\n",
    "        ax.axvspan(l, r, facecolor='grey', alpha=0.2)\n",
    "#ax.axvspan(28.5, 31.5, facecolor='lightgrey', alpha=0.2)\n",
    "\n",
    "g = sbn.barplot(x='name', y='weight', data=f_sorted.iloc[new_net_ind], hue='kind', ax=ax, ci=None, dodge=False, \n",
    "                edgecolor=\"black\", facecolor='white')\n",
    "                #palette=sbn.xkcd_palette(['yellow orange', 'cerulean', 'light grey']), orient='v') #\n",
    "    \n",
    "ax.axhline(0, color='black')\n",
    "ax.legend_.remove()\n",
    "\n",
    "ax.set_xticks([]);\n",
    "ax.set_xlabel('');\n",
    "#ax.set_ylabel('Feature weight');\n",
    "ax.set_ylabel('');\n",
    "ax.set_xlim([-0.5, 31.5])\n",
    "\n",
    "f.savefig(os.path.join(out_p, 'non-zero-features_horizontal.png'), dpi=300, transparent=True)"
   ]
  },
  {
   "cell_type": "code",
   "execution_count": 201,
   "metadata": {},
   "outputs": [
    {
     "data": {
      "image/png": "[encoded data removed]",
      "text/plain": [
       "<Figure size 1116x288 with 1 Axes>"
      ]
     },
     "metadata": {},
     "output_type": "display_data"
    }
   ],
   "source": [
    "# Show the group trace only\n",
    "f = plt.figure(figsize=(15.5,4), constrained_layout=True)\n",
    "#ax = SubplotHost(f, 111)\n",
    "ax = f.add_subplot(111)\n",
    "\n",
    "ax.spines['top'].set_visible(False)\n",
    "#ax.spines['bottom'].set_visible(False)\n",
    "ax.spines['bottom'].set_position('zero')\n",
    "ax.spines['right'].set_visible(False)\n",
    "\n",
    "for idx, (l, r) in enumerate(zip(lbl_names, rbl_names)):\n",
    "    #ax.axvline(x=r, ymin=0.4, ymax=0.5, color='black')\n",
    "    if idx%2==0:\n",
    "        #ax.axvline(x=r, ymin=0.4, ymax=0.7, color='black')\n",
    "        ax.axvspan(l, r, facecolor='lightgrey', alpha=0.2)\n",
    "    else:\n",
    "        #ax.axvline(x=r, ymin=0.4, ymax=0.7, color='black')\n",
    "        ax.axvspan(l, r, facecolor='grey', alpha=0.2)\n",
    "ax.axvspan(28.5, 31.5, facecolor='lightgrey', alpha=0.2)\n",
    "\n",
    "#g = sbn.barplot(x='name', y='weight', data=f_sorted, hue='kind', ax=ax, ci=None, dodge=False, \n",
    "#                edgecolor=\"black\", facecolor='white')\n",
    "\n",
    "qq = sbn.tsplot(time=\"feat\", value=\"weight\",\n",
    "           unit=\"sub\", condition=\"condition\",data=trace, ci=[95], ax=ax,\n",
    "               color=sbn.xkcd_palette(['green', 'cerulean', 'gold']), alpha=0.5)\n",
    "\n",
    "\n",
    "#ax.axhline(0, color='black')\n",
    "#for i in b_ind:\n",
    "#    ax.axvline(i, ymin=0.4, ymax=0.5, color='grey')\n",
    "#new_axisline = ax2.get_grid_helper().new_fixed_axis\n",
    "#ax2.axis[\"bottom\"] = new_axisline(loc=\"bottom\", axes=ax2, offset=offset)\n",
    "ax.legend_.remove()\n",
    "ax.set_xticks(np.arange(n_nonzero_features));\n",
    "ax.set_xticklabels([])\n",
    "ax.set_xlabel('');\n",
    "#ax.set_ylabel('Feature loading');\n",
    "ax.set_ylabel('');\n",
    "ax.legend(loc='center left', bbox_to_anchor=(0.93, 0.85))\n",
    "#ax.set_xlim([-0.5, 31.5])\n",
    "\n",
    "f.savefig(os.path.join(out_p, 'feature_trace_horizontal.png'), dpi=300, transparent=True)"
   ]
  },
  {
   "cell_type": "code",
   "execution_count": 202,
   "metadata": {},
   "outputs": [
    {
     "data": {
      "text/plain": [
       "(-1.7448223617882945, 1.4345315553936406)"
      ]
     },
     "execution_count": 202,
     "metadata": {},
     "output_type": "execute_result"
    },
    {
     "data": {
      "image/png": "[encoded data removed]",
      "text/plain": [
       "<Figure size 1116x720 with 2 Axes>"
      ]
     },
     "metadata": {},
     "output_type": "display_data"
    }
   ],
   "source": [
    "# Show all the non-zero data\n",
    "#f = plt.figure(figsize=(15.5,4), constrained_layout=True)\n",
    "f = plt.figure(figsize=(15.5,10), constrained_layout=True)\n",
    "#ax = SubplotHost(f, 111)\n",
    "ax = f.add_subplot(111)\n",
    "ax2 = ax.twinx()\n",
    "\n",
    "ax.spines['top'].set_visible(False)\n",
    "ax.spines['bottom'].set_visible(False)\n",
    "ax2.spines['top'].set_visible(False)\n",
    "ax2.spines['bottom'].set_visible(False)\n",
    "\n",
    "for idx, (l, r) in enumerate(zip(lbl_names, rbl_names)):\n",
    "    ax.axvline(x=r, ymin=0.5, ymax=0.6, color='black')\n",
    "    #if idx%2==0:\n",
    "    #    ax.axvspan(l, r, facecolor='lightgrey', alpha=0.2)\n",
    "    #else:\n",
    "    #    ax.axvspan(l, r, facecolor='grey', alpha=0.2)\n",
    "#ax.axvspan(28.5, 31.5, facecolor='lightgrey', alpha=0.2)\n",
    "#ax.axvspan(36.5, 39.5, facecolor='grey', alpha=0.2)\n",
    "\n",
    "#g = sbn.barplot(x='feature', y='weights', data=weights, hue='feature_type', ax=ax)\n",
    "g = sbn.barplot(x='name', y='weight', data=f_new_sorted, hue='kind', ax=ax, ci=None, dodge=False, \n",
    "                edgecolor=\"black\", facecolor='white')\n",
    "                #palette=sbn.xkcd_palette(['yellow orange', 'cerulean', 'light grey']), orient='v') #\n",
    "#g.set(xlabel='Feature Weights of HPS model', ylabel='')\n",
    "\n",
    "qq = sbn.tsplot(time=\"feat\", value=\"weight\",\n",
    "           unit=\"sub\", condition=\"condition\",data=trace, ci=[95], ax=ax2,\n",
    "               color=sbn.xkcd_palette(['green', 'cerulean', 'gold']), alpha=0.5)\n",
    "#ax.set_xticks(np.arange(n_nonzero_features))\n",
    "#ax.set_xticklabels(feat_names_resorted, rotation=90);\n",
    "#sbn.despine(bottom=True);\n",
    "\n",
    "#ax.set_yticks(c_ind)\n",
    "#ax.set_yticklabels(names, rotation=0)\n",
    "ax.axhline(0, color='black')\n",
    "#for i in b_ind:\n",
    "#    ax.axvline(i, ymin=0.4, ymax=0.5, color='grey')\n",
    "#new_axisline = ax2.get_grid_helper().new_fixed_axis\n",
    "#ax2.axis[\"bottom\"] = new_axisline(loc=\"bottom\", axes=ax2, offset=offset)\n",
    "ax.legend_.remove()\n",
    "ax.set_xticks(c_ind_names);\n",
    "ax.set_xticklabels(new_net_order, rotation=90);\n",
    "#ax.set_xticklabels([])\n",
    "ax.set_xlabel('');\n",
    "ax.set_ylabel('Feature weight');\n",
    "ax2.set_ylabel('Feature loading');\n",
    "ax2.legend(loc='center left', bbox_to_anchor=(0.93, 0.85))\n",
    "ax.set_xlim([-0.5, 31.5])\n",
    "\n",
    "# Bring to same scale\n",
    "min_1, max_1 = ax.get_ylim()\n",
    "range_1 = max_1-min_1\n",
    "\n",
    "min_2, max_2 = ax2.get_ylim()\n",
    "range_2 = max_2-min_2\n",
    "\n",
    "new_range_2 = (max_2/max_1)*range_1\n",
    "new_min_2 = max_2 - new_range_2\n",
    "ax2.set_ylim([new_min_2, max_2])\n",
    "# If needed\n",
    "\n",
    "#f.savefig(os.path.join(out_p, 'non-zero-features_horizontal_combined.png'), dpi=300, transparent=True)"
   ]
  },
  {
   "cell_type": "code",
   "execution_count": 203,
   "metadata": {},
   "outputs": [
    {
     "data": {
      "text/html": [
       "<div>\n",
       "<style scoped>\n",
       "    .dataframe tbody tr th:only-of-type {\n",
       "        vertical-align: middle;\n",
       "    }\n",
       "\n",
       "    .dataframe tbody tr th {\n",
       "        vertical-align: top;\n",
       "    }\n",
       "\n",
       "    .dataframe thead th {\n",
       "        text-align: right;\n",
       "    }\n",
       "</style>\n",
       "<table border=\"1\" class=\"dataframe\">\n",
       "  <thead>\n",
       "    <tr style=\"text-align: right;\">\n",
       "      <th></th>\n",
       "      <th>index</th>\n",
       "      <th>net</th>\n",
       "      <th>sid</th>\n",
       "      <th>weight</th>\n",
       "      <th>name</th>\n",
       "      <th>net_name</th>\n",
       "      <th>kind</th>\n",
       "      <th>nonzero</th>\n",
       "      <th>risk</th>\n",
       "    </tr>\n",
       "  </thead>\n",
       "  <tbody>\n",
       "    <tr>\n",
       "      <th>27</th>\n",
       "      <td>18</td>\n",
       "      <td>7.0</td>\n",
       "      <td>0</td>\n",
       "      <td>2.435464</td>\n",
       "      <td>fc_n8_s1</td>\n",
       "      <td>DEFAULT_MODE_NETWORK_anteromedial_and_left_ANG...</td>\n",
       "      <td>FC</td>\n",
       "      <td>True</td>\n",
       "      <td>True</td>\n",
       "    </tr>\n",
       "    <tr>\n",
       "      <th>28</th>\n",
       "      <td>19</td>\n",
       "      <td>7.0</td>\n",
       "      <td>1</td>\n",
       "      <td>-0.614435</td>\n",
       "      <td>fc_n8_s2</td>\n",
       "      <td>DEFAULT_MODE_NETWORK_anteromedial_and_left_ANG...</td>\n",
       "      <td>FC</td>\n",
       "      <td>True</td>\n",
       "      <td>False</td>\n",
       "    </tr>\n",
       "    <tr>\n",
       "      <th>29</th>\n",
       "      <td>29</td>\n",
       "      <td>NaN</td>\n",
       "      <td>0</td>\n",
       "      <td>-0.821285</td>\n",
       "      <td>ct_s1</td>\n",
       "      <td>Cortical Thickness</td>\n",
       "      <td>CT</td>\n",
       "      <td>True</td>\n",
       "      <td>False</td>\n",
       "    </tr>\n",
       "    <tr>\n",
       "      <th>30</th>\n",
       "      <td>30</td>\n",
       "      <td>NaN</td>\n",
       "      <td>1</td>\n",
       "      <td>-1.085378</td>\n",
       "      <td>ct_s2</td>\n",
       "      <td>Cortical Thickness</td>\n",
       "      <td>CT</td>\n",
       "      <td>True</td>\n",
       "      <td>False</td>\n",
       "    </tr>\n",
       "    <tr>\n",
       "      <th>31</th>\n",
       "      <td>31</td>\n",
       "      <td>NaN</td>\n",
       "      <td>3</td>\n",
       "      <td>0.197110</td>\n",
       "      <td>ct_s4</td>\n",
       "      <td>Cortical Thickness</td>\n",
       "      <td>CT</td>\n",
       "      <td>True</td>\n",
       "      <td>True</td>\n",
       "    </tr>\n",
       "  </tbody>\n",
       "</table>\n",
       "</div>"
      ],
      "text/plain": [
       "    index  net  sid    weight      name  \\\n",
       "27     18  7.0    0  2.435464  fc_n8_s1   \n",
       "28     19  7.0    1 -0.614435  fc_n8_s2   \n",
       "29     29  NaN    0 -0.821285     ct_s1   \n",
       "30     30  NaN    1 -1.085378     ct_s2   \n",
       "31     31  NaN    3  0.197110     ct_s4   \n",
       "\n",
       "                                             net_name kind  nonzero   risk  \n",
       "27  DEFAULT_MODE_NETWORK_anteromedial_and_left_ANG...   FC     True   True  \n",
       "28  DEFAULT_MODE_NETWORK_anteromedial_and_left_ANG...   FC     True  False  \n",
       "29                                 Cortical Thickness   CT     True  False  \n",
       "30                                 Cortical Thickness   CT     True  False  \n",
       "31                                 Cortical Thickness   CT     True   True  "
      ]
     },
     "execution_count": 203,
     "metadata": {},
     "output_type": "execute_result"
    }
   ],
   "source": [
    "f_new_sorted.tail()"
   ]
  },
  {
   "cell_type": "code",
   "execution_count": 204,
   "metadata": {},
   "outputs": [
    {
     "data": {
      "text/html": [
       "<div>\n",
       "<style scoped>\n",
       "    .dataframe tbody tr th:only-of-type {\n",
       "        vertical-align: middle;\n",
       "    }\n",
       "\n",
       "    .dataframe tbody tr th {\n",
       "        vertical-align: top;\n",
       "    }\n",
       "\n",
       "    .dataframe thead th {\n",
       "        text-align: right;\n",
       "    }\n",
       "</style>\n",
       "<table border=\"1\" class=\"dataframe\">\n",
       "  <thead>\n",
       "    <tr style=\"text-align: right;\">\n",
       "      <th></th>\n",
       "      <th>net</th>\n",
       "      <th>sid</th>\n",
       "      <th>weight</th>\n",
       "      <th>name</th>\n",
       "      <th>net_name</th>\n",
       "      <th>kind</th>\n",
       "      <th>nonzero</th>\n",
       "      <th>risk</th>\n",
       "    </tr>\n",
       "  </thead>\n",
       "  <tbody>\n",
       "    <tr>\n",
       "      <th>38</th>\n",
       "      <td>10</td>\n",
       "      <td>2</td>\n",
       "      <td>1.829138</td>\n",
       "      <td>fc_n11_s3</td>\n",
       "      <td>VENTRAL_ATTENTION_NETWORK_and_SALIENCE_NETWORK</td>\n",
       "      <td>FC</td>\n",
       "      <td>True</td>\n",
       "      <td>True</td>\n",
       "    </tr>\n",
       "    <tr>\n",
       "      <th>49</th>\n",
       "      <td>9</td>\n",
       "      <td>3</td>\n",
       "      <td>2.013294</td>\n",
       "      <td>fc_n10_s4</td>\n",
       "      <td>FRONTO_PARIETAL_NETWORK</td>\n",
       "      <td>FC</td>\n",
       "      <td>True</td>\n",
       "      <td>True</td>\n",
       "    </tr>\n",
       "    <tr>\n",
       "      <th>42</th>\n",
       "      <td>2</td>\n",
       "      <td>3</td>\n",
       "      <td>2.210167</td>\n",
       "      <td>fc_n3_s4</td>\n",
       "      <td>MESOLIMBIC_NETWORK</td>\n",
       "      <td>FC</td>\n",
       "      <td>True</td>\n",
       "      <td>True</td>\n",
       "    </tr>\n",
       "    <tr>\n",
       "      <th>11</th>\n",
       "      <td>7</td>\n",
       "      <td>0</td>\n",
       "      <td>2.435464</td>\n",
       "      <td>fc_n8_s1</td>\n",
       "      <td>DEFAULT_MODE_NETWORK_anteromedial_and_left_ANG...</td>\n",
       "      <td>FC</td>\n",
       "      <td>True</td>\n",
       "      <td>True</td>\n",
       "    </tr>\n",
       "    <tr>\n",
       "      <th>45</th>\n",
       "      <td>5</td>\n",
       "      <td>3</td>\n",
       "      <td>2.488561</td>\n",
       "      <td>fc_n6_s4</td>\n",
       "      <td>DEFAULT_MODE_NETWORK_posteromedial</td>\n",
       "      <td>FC</td>\n",
       "      <td>True</td>\n",
       "      <td>True</td>\n",
       "    </tr>\n",
       "  </tbody>\n",
       "</table>\n",
       "</div>"
      ],
      "text/plain": [
       "    net  sid    weight       name  \\\n",
       "38   10    2  1.829138  fc_n11_s3   \n",
       "49    9    3  2.013294  fc_n10_s4   \n",
       "42    2    3  2.210167   fc_n3_s4   \n",
       "11    7    0  2.435464   fc_n8_s1   \n",
       "45    5    3  2.488561   fc_n6_s4   \n",
       "\n",
       "                                             net_name kind  nonzero  risk  \n",
       "38     VENTRAL_ATTENTION_NETWORK_and_SALIENCE_NETWORK   FC     True  True  \n",
       "49                            FRONTO_PARIETAL_NETWORK   FC     True  True  \n",
       "42                                 MESOLIMBIC_NETWORK   FC     True  True  \n",
       "11  DEFAULT_MODE_NETWORK_anteromedial_and_left_ANG...   FC     True  True  \n",
       "45                 DEFAULT_MODE_NETWORK_posteromedial   FC     True  True  "
      ]
     },
     "execution_count": 204,
     "metadata": {},
     "output_type": "execute_result"
    }
   ],
   "source": [
    "fc_data.tail()"
   ]
  },
  {
   "cell_type": "code",
   "execution_count": 205,
   "metadata": {},
   "outputs": [],
   "source": [
    "fc_data = feature_data.loc[feature_data.kind=='FC']\n",
    "fc_data.sort_values(by='weight', inplace=True)\n",
    "fc_data[['net', 'sid']] = fc_data[['net', 'sid']].astype(int)"
   ]
  },
  {
   "cell_type": "code",
   "execution_count": 50,
   "metadata": {},
   "outputs": [],
   "source": [
    "# How many networks are involved in the bottom 5 features\n",
    "protective_fc = fc_data.iloc[:5]['net'].unique()"
   ]
  },
  {
   "cell_type": "code",
   "execution_count": 51,
   "metadata": {},
   "outputs": [
    {
     "data": {
      "text/html": [
       "<div>\n",
       "<style scoped>\n",
       "    .dataframe tbody tr th:only-of-type {\n",
       "        vertical-align: middle;\n",
       "    }\n",
       "\n",
       "    .dataframe tbody tr th {\n",
       "        vertical-align: top;\n",
       "    }\n",
       "\n",
       "    .dataframe thead th {\n",
       "        text-align: right;\n",
       "    }\n",
       "</style>\n",
       "<table border=\"1\" class=\"dataframe\">\n",
       "  <thead>\n",
       "    <tr style=\"text-align: right;\">\n",
       "      <th></th>\n",
       "      <th>net</th>\n",
       "      <th>sid</th>\n",
       "      <th>weight</th>\n",
       "      <th>name</th>\n",
       "      <th>net_name</th>\n",
       "      <th>kind</th>\n",
       "      <th>nonzero</th>\n",
       "      <th>risk</th>\n",
       "    </tr>\n",
       "  </thead>\n",
       "  <tbody>\n",
       "    <tr>\n",
       "      <th>10</th>\n",
       "      <td>6</td>\n",
       "      <td>0</td>\n",
       "      <td>-3.087141</td>\n",
       "      <td>fc_n7_s1</td>\n",
       "      <td>SOMATOMOTOR_NETWORK</td>\n",
       "      <td>FC</td>\n",
       "      <td>True</td>\n",
       "      <td>False</td>\n",
       "    </tr>\n",
       "    <tr>\n",
       "      <th>51</th>\n",
       "      <td>11</td>\n",
       "      <td>3</td>\n",
       "      <td>-2.546750</td>\n",
       "      <td>fc_n12_s4</td>\n",
       "      <td>CEREBELLUM</td>\n",
       "      <td>FC</td>\n",
       "      <td>True</td>\n",
       "      <td>False</td>\n",
       "    </tr>\n",
       "    <tr>\n",
       "      <th>6</th>\n",
       "      <td>2</td>\n",
       "      <td>0</td>\n",
       "      <td>-1.336447</td>\n",
       "      <td>fc_n3_s1</td>\n",
       "      <td>MESOLIMBIC_NETWORK</td>\n",
       "      <td>FC</td>\n",
       "      <td>True</td>\n",
       "      <td>False</td>\n",
       "    </tr>\n",
       "    <tr>\n",
       "      <th>43</th>\n",
       "      <td>3</td>\n",
       "      <td>3</td>\n",
       "      <td>-1.325575</td>\n",
       "      <td>fc_n4_s4</td>\n",
       "      <td>DEFAULT_MODE_NETWORK_lateral</td>\n",
       "      <td>FC</td>\n",
       "      <td>True</td>\n",
       "      <td>False</td>\n",
       "    </tr>\n",
       "    <tr>\n",
       "      <th>32</th>\n",
       "      <td>4</td>\n",
       "      <td>2</td>\n",
       "      <td>-1.151390</td>\n",
       "      <td>fc_n5_s3</td>\n",
       "      <td>VISUAL_NETWORK</td>\n",
       "      <td>FC</td>\n",
       "      <td>True</td>\n",
       "      <td>False</td>\n",
       "    </tr>\n",
       "  </tbody>\n",
       "</table>\n",
       "</div>"
      ],
      "text/plain": [
       "    net  sid    weight       name                      net_name kind  nonzero  \\\n",
       "10    6    0 -3.087141   fc_n7_s1           SOMATOMOTOR_NETWORK   FC     True   \n",
       "51   11    3 -2.546750  fc_n12_s4                    CEREBELLUM   FC     True   \n",
       "6     2    0 -1.336447   fc_n3_s1            MESOLIMBIC_NETWORK   FC     True   \n",
       "43    3    3 -1.325575   fc_n4_s4  DEFAULT_MODE_NETWORK_lateral   FC     True   \n",
       "32    4    2 -1.151390   fc_n5_s3                VISUAL_NETWORK   FC     True   \n",
       "\n",
       "     risk  \n",
       "10  False  \n",
       "51  False  \n",
       "6   False  \n",
       "43  False  \n",
       "32  False  "
      ]
     },
     "execution_count": 51,
     "metadata": {},
     "output_type": "execute_result"
    }
   ],
   "source": [
    "fc_data.iloc[:5]"
   ]
  },
  {
   "cell_type": "code",
   "execution_count": 52,
   "metadata": {},
   "outputs": [],
   "source": [
    "# How many networks are involved in the top 5 features\n",
    "risk_fc = fc_data.iloc[::-1][:5]['net'].unique()"
   ]
  },
  {
   "cell_type": "code",
   "execution_count": 53,
   "metadata": {},
   "outputs": [
    {
     "data": {
      "text/html": [
       "<div>\n",
       "<style scoped>\n",
       "    .dataframe tbody tr th:only-of-type {\n",
       "        vertical-align: middle;\n",
       "    }\n",
       "\n",
       "    .dataframe tbody tr th {\n",
       "        vertical-align: top;\n",
       "    }\n",
       "\n",
       "    .dataframe thead th {\n",
       "        text-align: right;\n",
       "    }\n",
       "</style>\n",
       "<table border=\"1\" class=\"dataframe\">\n",
       "  <thead>\n",
       "    <tr style=\"text-align: right;\">\n",
       "      <th></th>\n",
       "      <th>net</th>\n",
       "      <th>sid</th>\n",
       "      <th>weight</th>\n",
       "      <th>name</th>\n",
       "      <th>net_name</th>\n",
       "      <th>kind</th>\n",
       "      <th>nonzero</th>\n",
       "      <th>risk</th>\n",
       "    </tr>\n",
       "  </thead>\n",
       "  <tbody>\n",
       "    <tr>\n",
       "      <th>45</th>\n",
       "      <td>5</td>\n",
       "      <td>3</td>\n",
       "      <td>2.488561</td>\n",
       "      <td>fc_n6_s4</td>\n",
       "      <td>DEFAULT_MODE_NETWORK_posteromedial</td>\n",
       "      <td>FC</td>\n",
       "      <td>True</td>\n",
       "      <td>True</td>\n",
       "    </tr>\n",
       "    <tr>\n",
       "      <th>11</th>\n",
       "      <td>7</td>\n",
       "      <td>0</td>\n",
       "      <td>2.435464</td>\n",
       "      <td>fc_n8_s1</td>\n",
       "      <td>DEFAULT_MODE_NETWORK_anteromedial_and_left_ANG...</td>\n",
       "      <td>FC</td>\n",
       "      <td>True</td>\n",
       "      <td>True</td>\n",
       "    </tr>\n",
       "    <tr>\n",
       "      <th>42</th>\n",
       "      <td>2</td>\n",
       "      <td>3</td>\n",
       "      <td>2.210167</td>\n",
       "      <td>fc_n3_s4</td>\n",
       "      <td>MESOLIMBIC_NETWORK</td>\n",
       "      <td>FC</td>\n",
       "      <td>True</td>\n",
       "      <td>True</td>\n",
       "    </tr>\n",
       "    <tr>\n",
       "      <th>49</th>\n",
       "      <td>9</td>\n",
       "      <td>3</td>\n",
       "      <td>2.013294</td>\n",
       "      <td>fc_n10_s4</td>\n",
       "      <td>FRONTO_PARIETAL_NETWORK</td>\n",
       "      <td>FC</td>\n",
       "      <td>True</td>\n",
       "      <td>True</td>\n",
       "    </tr>\n",
       "    <tr>\n",
       "      <th>38</th>\n",
       "      <td>10</td>\n",
       "      <td>2</td>\n",
       "      <td>1.829138</td>\n",
       "      <td>fc_n11_s3</td>\n",
       "      <td>VENTRAL_ATTENTION_NETWORK_and_SALIENCE_NETWORK</td>\n",
       "      <td>FC</td>\n",
       "      <td>True</td>\n",
       "      <td>True</td>\n",
       "    </tr>\n",
       "  </tbody>\n",
       "</table>\n",
       "</div>"
      ],
      "text/plain": [
       "    net  sid    weight       name  \\\n",
       "45    5    3  2.488561   fc_n6_s4   \n",
       "11    7    0  2.435464   fc_n8_s1   \n",
       "42    2    3  2.210167   fc_n3_s4   \n",
       "49    9    3  2.013294  fc_n10_s4   \n",
       "38   10    2  1.829138  fc_n11_s3   \n",
       "\n",
       "                                             net_name kind  nonzero  risk  \n",
       "45                 DEFAULT_MODE_NETWORK_posteromedial   FC     True  True  \n",
       "11  DEFAULT_MODE_NETWORK_anteromedial_and_left_ANG...   FC     True  True  \n",
       "42                                 MESOLIMBIC_NETWORK   FC     True  True  \n",
       "49                            FRONTO_PARIETAL_NETWORK   FC     True  True  \n",
       "38     VENTRAL_ATTENTION_NETWORK_and_SALIENCE_NETWORK   FC     True  True  "
      ]
     },
     "execution_count": 53,
     "metadata": {},
     "output_type": "execute_result"
    }
   ],
   "source": [
    "fc_data.iloc[::-1][:5]"
   ]
  },
  {
   "cell_type": "code",
   "execution_count": null,
   "metadata": {},
   "outputs": [],
   "source": [
    "set(risk_fc).union(protective_fc)"
   ]
  },
  {
   "cell_type": "code",
   "execution_count": null,
   "metadata": {},
   "outputs": [],
   "source": [
    "len(set(risk_fc).union(protective_fc))"
   ]
  },
  {
   "cell_type": "code",
   "execution_count": null,
   "metadata": {},
   "outputs": [],
   "source": [
    "# Show me the top 5 features\n",
    "for rid, (tmp, row) in enumerate(fc_data.iloc[::-1][:5].iterrows()):\n",
    "    f = plt.figure(figsize=(8,4), constrained_layout=True)\n",
    "    ax1 = f.add_subplot(111) \n",
    "    #ax2 = f.add_subplot(122)\n",
    "    # Show me the subtype\n",
    "    n_name = label.loc[label.roi==row['net']+1].name.values[0]\n",
    "    vol = np.zeros(mask.shape)\n",
    "    vol[mask] = subtypes_fc[row['sid'], :, row['net']]\n",
    "    img = nib.Nifti1Image(vol, affine=mask_i.affine)\n",
    "    \n",
    "    a_vol = np.zeros(mask.shape)\n",
    "    a_vol[atlas==row['net']+1] = 1\n",
    "    a_img = nib.Nifti1Image(a_vol, affine=mask_i.affine)\n",
    "    \n",
    "    display = nlp.plot_stat_map(img, cut_coords=(0,0,0), axes=ax1, colorbar=False, draw_cross=False, cmap=plt.cm.RdBu_r)\n",
    "    display.add_contours(a_img, levels=[.5], colors='black') \n",
    "    \n",
    "    a_vol = np.zeros(mask.shape)\n",
    "    a_vol[atlas==row['net']+1] = 1\n",
    "    a_img = nib.Nifti1Image(a_vol, affine=mask_i.affine)\n",
    "    f.savefig(os.path.join(out_p, 'fc_sbt_risk_{}_{}_{}.png'.format(rid, row['sid']+1, n_name)), dpi=300, transparent=True)"
   ]
  },
  {
   "cell_type": "code",
   "execution_count": null,
   "metadata": {},
   "outputs": [],
   "source": [
    "# Show me the top 5 features\n",
    "for rid, (tmp, row) in enumerate(fc_data.iloc[:5].iterrows()):\n",
    "    f = plt.figure(figsize=(8,4), constrained_layout=True)\n",
    "    ax1 = f.add_subplot(111) \n",
    "    #ax2 = f.add_subplot(122)\n",
    "    # Show me the subtype\n",
    "    n_name = label.loc[label.roi==row['net']+1].label.values[0]\n",
    "    vol = np.zeros(mask.shape)\n",
    "    vol[mask] = subtypes_fc[row['sid'], :, row['net']]\n",
    "    img = nib.Nifti1Image(vol, affine=mask_i.affine)\n",
    "    \n",
    "    a_vol = np.zeros(mask.shape)\n",
    "    a_vol[atlas==row['net']+1] = 1\n",
    "    a_img = nib.Nifti1Image(a_vol, affine=mask_i.affine)\n",
    "    \n",
    "    display = nlp.plot_stat_map(img, cut_coords=(0,0,0), axes=ax1, colorbar=False, draw_cross=False, cmap=plt.cm.RdBu_r)\n",
    "    display.add_contours(a_img, levels=[.5], colors='black') \n",
    "    \n",
    "    a_vol = np.zeros(mask.shape)\n",
    "    a_vol[atlas==row['net']+1] = 1\n",
    "    a_img = nib.Nifti1Image(a_vol, affine=mask_i.affine)\n",
    "    f.savefig(os.path.join(out_p, 'fc_sbt_protective_{}_{}_{}.png'.format(rid, row['sid']+1, n_name)), dpi=300, transparent=True)"
   ]
  },
  {
   "cell_type": "markdown",
   "metadata": {},
   "source": [
    "## Save the average maps"
   ]
  },
  {
   "cell_type": "code",
   "execution_count": null,
   "metadata": {},
   "outputs": [],
   "source": [
    "avg_fc.shape"
   ]
  },
  {
   "cell_type": "code",
   "execution_count": null,
   "metadata": {},
   "outputs": [],
   "source": [
    "np.min(avg_fc, 1)"
   ]
  },
  {
   "cell_type": "code",
   "execution_count": null,
   "metadata": {},
   "outputs": [],
   "source": [
    "for nid in range(n_seed):\n",
    "    f = plt.figure(figsize=(8,4))\n",
    "    ax1 = f.add_subplot(111) \n",
    "    #ax2 = f.add_subplot(122)\n",
    "    # Show me the subtype\n",
    "    n_name = label.loc[label.roi==nid+1].label.values[0]\n",
    "    vol = np.zeros(mask.shape)\n",
    "    vol[mask] = avg_fc[:, nid]\n",
    "    img = nib.Nifti1Image(vol, affine=mask_i.affine)\n",
    "    \n",
    "    a_vol = np.zeros(mask.shape)\n",
    "    a_vol[atlas==nid+1] = 1\n",
    "    a_img = nib.Nifti1Image(a_vol, affine=mask_i.affine)\n",
    "    \n",
    "    display = nlp.plot_anat(cut_coords=(0,0,0), axes=ax1, draw_cross=False)\n",
    "    display.add_overlay(img, cmap=plt.cm.viridis, colorbar=False, vmin=0)\n",
    "    display.add_contours(a_img, levels=[.5], colors='black')\n",
    "    f.savefig(os.path.join(out_p, 'fc_avg_{}.png'.format(n_name)), dpi=300, transparent=True)"
   ]
  },
  {
   "cell_type": "code",
   "execution_count": null,
   "metadata": {},
   "outputs": [],
   "source": [
    "# Get the CT subtypes\n",
    "for i in range(n_subtypes):\n",
    "    ct_l = subtypes_ct[i, :40962]\n",
    "    ct_r = subtypes_ct[i, :40962]\n",
    "    np.savetxt(os.path.join(out_p, 'ct_{}_left.txt'.format(i)),ct_l)\n",
    "    np.savetxt(os.path.join(out_p, 'ct_{}_right.txt'.format(i)),ct_r)"
   ]
  },
  {
   "cell_type": "markdown",
   "metadata": {},
   "source": [
    "## Get best slice for network"
   ]
  },
  {
   "cell_type": "code",
   "execution_count": null,
   "metadata": {},
   "outputs": [],
   "source": [
    "fc_data.loc[:4]"
   ]
  },
  {
   "cell_type": "code",
   "execution_count": null,
   "metadata": {},
   "outputs": [],
   "source": []
  },
  {
   "cell_type": "markdown",
   "metadata": {},
   "source": [
    "## Which are the features that are not zero"
   ]
  },
  {
   "cell_type": "markdown",
   "metadata": {},
   "source": [
    "## Make the average positive feature (first 10)"
   ]
  },
  {
   "cell_type": "code",
   "execution_count": null,
   "metadata": {},
   "outputs": [],
   "source": [
    "for i in sort_idx[:10]:\n",
    "    print(col_params[i])"
   ]
  },
  {
   "cell_type": "code",
   "execution_count": null,
   "metadata": {},
   "outputs": [],
   "source": [
    "pos_feat = np.zeros(subtypes_fc.shape[1])\n",
    "q = 0\n",
    "for i in sort_idx[-3:]:\n",
    "    tmp = col_params[i]\n",
    "    if feature_weights[:, i]<0:\n",
    "        continue\n",
    "    if tmp[0] is None:\n",
    "        continue\n",
    "    if tmp[0]<0:\n",
    "        continue\n",
    "    pos_feat += subtypes_fc[tmp[1], :, tmp[0]]\n",
    "    q+=1\n",
    "pos_feat = pos_feat/q\n",
    "\n",
    "\n",
    "pos_vol = np.zeros(mask.shape)\n",
    "pos_vol[mask] = pos_feat\n",
    "pos_img = nib.Nifti1Image(pos_vol, affine=mask_i.affine)\n",
    "nlp.plot_stat_map(pos_img, cut_coords=(0,0,0))"
   ]
  },
  {
   "cell_type": "code",
   "execution_count": null,
   "metadata": {},
   "outputs": [],
   "source": [
    "feature_weights.shape"
   ]
  },
  {
   "cell_type": "code",
   "execution_count": null,
   "metadata": {},
   "outputs": [],
   "source": [
    "neg_feat = np.zeros(subtypes_fc.shape[1])\n",
    "q = 0\n",
    "for i in sort_idx[:10]:\n",
    "    tmp = col_params[i]\n",
    "    if feature_weights[:, i]>0:\n",
    "        continue\n",
    "    if tmp[0] is None:\n",
    "        continue\n",
    "    if tmp[0]<0:\n",
    "        continue\n",
    "    neg_feat += subtypes_fc[tmp[1], :, tmp[0]]\n",
    "    q+=1\n",
    "neg_feat = neg_feat/q\n",
    "\n",
    "\n",
    "neg_vol = np.zeros(mask.shape)\n",
    "neg_vol[mask] = neg_feat\n",
    "neg_img = nib.Nifti1Image(neg_vol, affine=mask_i.affine)\n",
    "nlp.plot_stat_map(neg_img, cut_coords=(0,0,0))"
   ]
  },
  {
   "cell_type": "markdown",
   "metadata": {},
   "source": [
    "## Attempt a validation"
   ]
  },
  {
   "cell_type": "code",
   "execution_count": null,
   "metadata": {},
   "outputs": [],
   "source": [
    "y = sample.DX_CODE.values.squeeze()\n",
    "ohe = skl.preprocessing.OneHotEncoder(sparse=False)\n",
    "ohe.fit(y.reshape(-1, 1))\n",
    "labels = ohe.transform(y.reshape(-1, 1))"
   ]
  },
  {
   "cell_type": "code",
   "execution_count": null,
   "metadata": {},
   "outputs": [],
   "source": [
    "# Load data\n",
    "validation_p = os.path.join(root_p, 'PROJECT/abide_hps/pheno', 'validation_abide1.csv')\n",
    "validation = pd.read_csv(validation_p)\n",
    "validation['DX_CODE'] = validation['DX_GROUP'].replace({'Autism':1, 'Control':0})\n",
    "n_sub_valid = validation.shape[0]"
   ]
  },
  {
   "cell_type": "code",
   "execution_count": null,
   "metadata": {},
   "outputs": [],
   "source": [
    "valid_resid_fc = regress_fc(validation, \n",
    "                            'AGE_AT_SCAN + FD_scrubbed + Site', \n",
    "                            n_vox, n_seed=n_seed, \n",
    "                            seed_p=seed_p, sd_t=sd_t)\n",
    "(valid_resid_ct, valid_mod_ct) = regress_ct(validation, 'AGE_AT_SCAN + Site', ct_p, ct_t)\n",
    "valid_weights_fc = make_weights_fc(subtypes_fc[0], valid_resid_fc)\n",
    "valid_weights_ct = make_weights_ct(subtypes_ct[0], valid_resid_ct)\n",
    "\n",
    "valid_fc = np.reshape(valid_weights_fc, (n_sub_valid, n_subtypes*n_seed))\n",
    "valid_w = np.concatenate((valid_weights_ct, valid_fc), 1)\n",
    "\n",
    "w_data_valid = pd.DataFrame(data=valid_w, columns=cols)\n",
    "data_valid = validation.join(w_data_valid)"
   ]
  },
  {
   "cell_type": "code",
   "execution_count": null,
   "metadata": {},
   "outputs": [],
   "source": [
    "x_valid = data_valid.loc[:, col_features]\n",
    "X_valid = scaler.transform(x_valid)\n",
    "y_valid = data_valid.loc[:, ['DX_CODE']].values.squeeze()\n",
    "\n",
    "scores_valid, dic_results_valid = hps.predict(X_valid)"
   ]
  },
  {
   "cell_type": "code",
   "execution_count": null,
   "metadata": {},
   "outputs": [],
   "source": [
    "scores_s1_valid = dic_results_valid['s1_hat']\n",
    "scores_s2_valid = dic_results_valid['s2_hat']"
   ]
  },
  {
   "cell_type": "code",
   "execution_count": null,
   "metadata": {},
   "outputs": [],
   "source": [
    "########################\n",
    "print('##########################')\n",
    "# S1\n",
    "y_mb_valid = ohe.transform(y_valid[:,np.newaxis])\n",
    "pred_y_valid = scores_s1_valid\n",
    "\n",
    "print('Stage 1 (BASE)')\n",
    "hps_visu.print_scores(hps_visu.scores(y_mb_valid, pred_y_valid))\n",
    "\n",
    "\n",
    "# S2\n",
    "y_mb = ohe.transform(y_valid[:,np.newaxis])\n",
    "pred_y_valid = scores_s2_valid\n",
    "\n",
    "print('Stage 2 (HPS)')\n",
    "hps_visu.print_scores(hps_visu.scores(y_mb_valid, pred_y_valid)) \n",
    "print('##########################')"
   ]
  },
  {
   "cell_type": "markdown",
   "metadata": {},
   "source": [
    "Well, that isn't so amazing now, is it? But it's also not worlds apart in terms of specificity. I mean the precision suffers greatly and overall the model doesn't appear that nice anymore. But it's not so horrible now."
   ]
  },
  {
   "cell_type": "code",
   "execution_count": null,
   "metadata": {},
   "outputs": [],
   "source": [
    "tn, fp, fn, tp = skl.metrics.confusion_matrix(y_mb_valid[:, 1], scores_s2_valid[: , 1]).ravel().astype(float)"
   ]
  },
  {
   "cell_type": "code",
   "execution_count": null,
   "metadata": {},
   "outputs": [],
   "source": [
    "tp"
   ]
  },
  {
   "cell_type": "code",
   "execution_count": null,
   "metadata": {},
   "outputs": [],
   "source": [
    "fp"
   ]
  },
  {
   "cell_type": "code",
   "execution_count": null,
   "metadata": {},
   "outputs": [],
   "source": [
    "tn"
   ]
  },
  {
   "cell_type": "code",
   "execution_count": null,
   "metadata": {},
   "outputs": [],
   "source": []
  },
  {
   "cell_type": "code",
   "execution_count": null,
   "metadata": {},
   "outputs": [],
   "source": [
    "fn"
   ]
  },
  {
   "cell_type": "markdown",
   "metadata": {},
   "source": [
    "## Tell me something about these guys"
   ]
  },
  {
   "cell_type": "code",
   "execution_count": null,
   "metadata": {},
   "outputs": [],
   "source": [
    "import statsmodels.api as sm\n",
    "from statsmodels.formula.api import ols\n",
    "from statsmodels.stats.multicomp import pairwise_tukeyhsd"
   ]
  },
  {
   "cell_type": "code",
   "execution_count": null,
   "metadata": {},
   "outputs": [],
   "source": [
    "HPS_ind_valid = pred_y_valid[:, 1]==1"
   ]
  },
  {
   "cell_type": "code",
   "execution_count": null,
   "metadata": {},
   "outputs": [],
   "source": [
    "# Give me three classes here\n",
    "asd_hps_valid = [True if HPS_ind_valid[rid]==1 and row['DX_GROUP']=='Autism' else False for rid, row in validation.iterrows()]\n",
    "asd_ns_valid = [True if HPS_ind_valid[rid]==0 and row['DX_GROUP']=='Autism' else False for rid, row in validation.iterrows()]\n",
    "tdc_hps_valid = [True if HPS_ind_valid[rid]==1 and row['DX_GROUP']=='Control' else False for rid, row in validation.iterrows()]\n",
    "tdc_ns_valid = [True if HPS_ind_valid[rid]==0 and row['DX_GROUP']=='Control' else False for rid, row in validation.iterrows()]\n",
    "group = list()\n",
    "for rid, row in validation.iterrows():\n",
    "    if asd_hps_valid[rid]:\n",
    "        group.append('ASD_HPS')\n",
    "    elif asd_ns_valid[rid]:\n",
    "        group.append('ASD_NS')\n",
    "    elif tdc_hps_valid[rid]:\n",
    "        group.append('TDC_HPS')\n",
    "    else:\n",
    "        group.append('TDC_NS')\n",
    "results_validation = validation.copy()\n",
    "results_validation['Group'] = group\n",
    "# Remove missing values\n",
    "results_validation.replace({col:{-9999:None} for col in results_validation.columns}, inplace=True)"
   ]
  },
  {
   "cell_type": "code",
   "execution_count": null,
   "metadata": {},
   "outputs": [],
   "source": [
    "sbn.barplot(x='Group', y='AGE_AT_SCAN', data=results_validation)"
   ]
  },
  {
   "cell_type": "code",
   "execution_count": null,
   "metadata": {},
   "outputs": [],
   "source": [
    "sbn.barplot(x='Group', y='BV', data=results_validation)"
   ]
  },
  {
   "cell_type": "code",
   "execution_count": null,
   "metadata": {},
   "outputs": [],
   "source": [
    "sbn.barplot(x='Group', y='FD_scrubbed', data=results_validation)"
   ]
  },
  {
   "cell_type": "code",
   "execution_count": null,
   "metadata": {},
   "outputs": [],
   "source": [
    "sbn.barplot(x='Group', y='FIQ', data=results_validation)"
   ]
  },
  {
   "cell_type": "code",
   "execution_count": null,
   "metadata": {},
   "outputs": [],
   "source": []
  },
  {
   "cell_type": "code",
   "execution_count": null,
   "metadata": {},
   "outputs": [],
   "source": []
  },
  {
   "cell_type": "code",
   "execution_count": null,
   "metadata": {},
   "outputs": [],
   "source": []
  },
  {
   "cell_type": "code",
   "execution_count": null,
   "metadata": {},
   "outputs": [],
   "source": [
    "y_pred = scores_s2_arr\n",
    "HPS_ind = y_pred[:, 1]==1"
   ]
  },
  {
   "cell_type": "code",
   "execution_count": null,
   "metadata": {},
   "outputs": [],
   "source": [
    "# Give me three classes here\n",
    "asd_hps = [True if HPS_ind[rid]==1 and row['DX_GROUP']=='Autism' else False for rid, row in sample.iterrows()]\n",
    "asd_ns = [True if HPS_ind[rid]==0 and row['DX_GROUP']=='Autism' else False for rid, row in sample.iterrows()]\n",
    "tdc = [True if row['DX_GROUP']=='Control' else False for rid, row in sample.iterrows()]\n",
    "group = list()\n",
    "for rid, row in sample.iterrows():\n",
    "    if asd_hps[rid]:\n",
    "        group.append('ASD_HPS')\n",
    "    elif asd_ns[rid]:\n",
    "        group.append('ASD_NS')\n",
    "    else:\n",
    "        group.append('TDC')\n",
    "results = sample.copy()\n",
    "results['Group'] = group\n",
    "# Remove missing values\n",
    "results.replace({col:{-9999:None} for col in results.columns}, inplace=True)"
   ]
  },
  {
   "cell_type": "code",
   "execution_count": null,
   "metadata": {},
   "outputs": [],
   "source": [
    "import statsmodels.api as sm\n",
    "from statsmodels.formula.api import ols\n",
    "from statsmodels.stats.multicomp import pairwise_tukeyhsd"
   ]
  },
  {
   "cell_type": "code",
   "execution_count": null,
   "metadata": {},
   "outputs": [],
   "source": [
    "sbn.barplot(x='Group', y='AGE_AT_SCAN', data=results)"
   ]
  },
  {
   "cell_type": "code",
   "execution_count": null,
   "metadata": {},
   "outputs": [],
   "source": [
    "lm = ols('AGE_AT_SCAN ~ Group',\n",
    "               data=results).fit()\n",
    "table = sm.stats.anova_lm(lm, typ=2)\n",
    "table"
   ]
  },
  {
   "cell_type": "code",
   "execution_count": null,
   "metadata": {},
   "outputs": [],
   "source": [
    "sbn.barplot(x='Group', y='BV', data=results)"
   ]
  },
  {
   "cell_type": "code",
   "execution_count": null,
   "metadata": {},
   "outputs": [],
   "source": [
    "lm = ols('BV ~ Group',\n",
    "               data=results).fit()\n",
    "table = sm.stats.anova_lm(lm, typ=2)\n",
    "table"
   ]
  },
  {
   "cell_type": "code",
   "execution_count": null,
   "metadata": {},
   "outputs": [],
   "source": [
    "sbn.barplot(x='Group', y='FD_scrubbed', data=results)"
   ]
  },
  {
   "cell_type": "code",
   "execution_count": null,
   "metadata": {},
   "outputs": [],
   "source": [
    "lm = ols('FD_scrubbed ~ Group',\n",
    "               data=results).fit()\n",
    "table = sm.stats.anova_lm(lm, typ=2)\n",
    "table"
   ]
  },
  {
   "cell_type": "code",
   "execution_count": null,
   "metadata": {},
   "outputs": [],
   "source": [
    "sbn.barplot(x='Group', y='FIQ', data=results)"
   ]
  },
  {
   "cell_type": "code",
   "execution_count": null,
   "metadata": {},
   "outputs": [],
   "source": [
    "sbn.barplot(x='Group', y='VIQ', data=results)"
   ]
  },
  {
   "cell_type": "code",
   "execution_count": null,
   "metadata": {},
   "outputs": [],
   "source": [
    "sbn.barplot(x='Group', y='PIQ', data=results)"
   ]
  },
  {
   "cell_type": "code",
   "execution_count": null,
   "metadata": {},
   "outputs": [],
   "source": [
    "sbn.barplot(x='Group', y='SRS_RAW_TOTAL', data=results)"
   ]
  },
  {
   "cell_type": "code",
   "execution_count": null,
   "metadata": {},
   "outputs": [],
   "source": [
    "sbn.barplot(x='Group', y='Gotham_Severity', data=results)"
   ]
  },
  {
   "cell_type": "code",
   "execution_count": null,
   "metadata": {},
   "outputs": [],
   "source": [
    "sbn.barplot(x='Group', y='HANDEDNESS_SCORES', data=results)"
   ]
  },
  {
   "cell_type": "code",
   "execution_count": null,
   "metadata": {},
   "outputs": [],
   "source": [
    "f = plt.figure(figsize=(18, 6))\n",
    "ax1 = f.add_subplot(131)\n",
    "ax2 = f.add_subplot(132)\n",
    "ax3 = f.add_subplot(133)\n",
    "for rid, g in enumerate(results.groupby('Group')):\n",
    "    ax = f.add_subplot(1,3,rid+1)\n",
    "    g[1]['DSM_IV_TR'].value_counts().plot.pie(ax=ax)\n",
    "    ax.set_title(g[0])"
   ]
  },
  {
   "cell_type": "code",
   "execution_count": null,
   "metadata": {},
   "outputs": [],
   "source": []
  }
 ],
 "metadata": {
  "kernelspec": {
   "display_name": "p36 (hbm)",
   "language": "python",
   "name": "hbm"
  },
  "language_info": {
   "codemirror_mode": {
    "name": "ipython",
    "version": 3
   },
   "file_extension": ".py",
   "mimetype": "text/x-python",
   "name": "python",
   "nbconvert_exporter": "python",
   "pygments_lexer": "ipython3",
   "version": "3.6.5"
  }
 },
 "nbformat": 4,
 "nbformat_minor": 2
}
