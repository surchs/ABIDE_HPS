{
 "cells": [
  {
   "cell_type": "markdown",
   "metadata": {},
   "source": [
    "# Get the HPS model to run\n",
    "- get the inputs correct\n",
    "- run through all steps\n",
    "- get an accuracy estimate"
   ]
  },
  {
   "cell_type": "code",
   "execution_count": 1,
   "metadata": {},
   "outputs": [],
   "source": [
    "import os\n",
    "import sys\n",
    "sys.path.append('/home/surchs/git/Proteus/')\n",
    "import proteus.predic as pp\n",
    "\n",
    "import numpy as np\n",
    "import pandas as pd\n",
    "import nibabel as nib\n",
    "import sklearn as skl\n",
    "import scipy.io as sio\n",
    "from sklearn.model_selection import StratifiedKFold"
   ]
  },
  {
   "cell_type": "code",
   "execution_count": 2,
   "metadata": {},
   "outputs": [],
   "source": [
    "# Paths\n",
    "root_p = '/home/surchs/sim_big/PROJECT/abide_hps/'\n",
    "# Pheno\n",
    "sample_p = os.path.join(root_p, 'pheno', 'psm_abide1.csv')\n",
    "# Data\n",
    "resid_ct_p = os.path.join(root_p, 'residual', 'ct_30mm_residual_psm.npy')\n",
    "resid_fc_p = os.path.join(root_p, 'residual', 'sd_30mm_residual_psm.npy')\n",
    "mask_p = os.path.join(root_p, 'mask', 'MIST_mask.nii.gz')\n",
    "subtype_fc_p = os.path.join(root_p, 'subtypes', 'subtypes_fc.npz')\n",
    "subtype_ct_p = os.path.join(root_p, 'subtypes', 'subtypes_ct.npz')"
   ]
  },
  {
   "cell_type": "code",
   "execution_count": 3,
   "metadata": {},
   "outputs": [],
   "source": [
    "# Load data\n",
    "sample = pd.read_csv(sample_p)\n",
    "s_fc = np.load(subtype_fc_p)\n",
    "s_ct = np.load(subtype_ct_p)"
   ]
  },
  {
   "cell_type": "code",
   "execution_count": 5,
   "metadata": {},
   "outputs": [
    {
     "data": {
      "text/plain": [
       "['order', 'part', 'subtypes', 'dist', 'weights']"
      ]
     },
     "execution_count": 5,
     "metadata": {},
     "output_type": "execute_result"
    }
   ],
   "source": [
    "s_fc.keys()"
   ]
  },
  {
   "cell_type": "code",
   "execution_count": 12,
   "metadata": {},
   "outputs": [
    {
     "data": {
      "text/plain": [
       "(370, 5, 20)"
      ]
     },
     "execution_count": 12,
     "metadata": {},
     "output_type": "execute_result"
    }
   ],
   "source": [
    "s_fc['weights'].shape"
   ]
  },
  {
   "cell_type": "code",
   "execution_count": 17,
   "metadata": {},
   "outputs": [],
   "source": [
    "fc_weights = np.reshape(s_fc['weights'], (370, 5*20))\n",
    "fc_cols = ['n{}_s{}'.format(nid+1, sid+1) for nid in range(20) for sid in range(5)]"
   ]
  },
  {
   "cell_type": "code",
   "execution_count": 39,
   "metadata": {},
   "outputs": [
    {
     "data": {
      "text/plain": [
       "array([ 0.3354422 ,  0.21626221,  0.22588092, -0.35625959, -0.04217152,\n",
       "        0.13375107, -0.12295154,  0.30385151, -0.01731082,  0.09485153])"
      ]
     },
     "execution_count": 39,
     "metadata": {},
     "output_type": "execute_result"
    }
   ],
   "source": [
    "s_fc['weights'][:10, 2, 0]"
   ]
  },
  {
   "cell_type": "code",
   "execution_count": 6,
   "metadata": {},
   "outputs": [],
   "source": [
    "w = s_fc['weights']"
   ]
  },
  {
   "cell_type": "code",
   "execution_count": 8,
   "metadata": {},
   "outputs": [
    {
     "data": {
      "text/plain": [
       "array([[[ 0.06344403,  0.06344403,  0.06344403,  0.06344403,  0.06344403,\n",
       "          0.06344403,  0.06344403,  0.06344403,  0.06344403,  0.06344403,\n",
       "          0.06344403,  0.06344403,  0.06344403,  0.06344403,  0.06344403,\n",
       "          0.06344403,  0.06344403,  0.06344403,  0.06344403,  0.06344403],\n",
       "        [-0.24807208, -0.24807208, -0.24807208, -0.24807208, -0.24807208,\n",
       "         -0.24807208, -0.24807208, -0.24807208, -0.24807208, -0.24807208,\n",
       "         -0.24807208, -0.24807208, -0.24807208, -0.24807208, -0.24807208,\n",
       "         -0.24807208, -0.24807208, -0.24807208, -0.24807208, -0.24807208],\n",
       "        [ 0.3354422 ,  0.3354422 ,  0.3354422 ,  0.3354422 ,  0.3354422 ,\n",
       "          0.3354422 ,  0.3354422 ,  0.3354422 ,  0.3354422 ,  0.3354422 ,\n",
       "          0.3354422 ,  0.3354422 ,  0.3354422 ,  0.3354422 ,  0.3354422 ,\n",
       "          0.3354422 ,  0.3354422 ,  0.3354422 ,  0.3354422 ,  0.3354422 ],\n",
       "        [-0.11274887, -0.11274887, -0.11274887, -0.11274887, -0.11274887,\n",
       "         -0.11274887, -0.11274887, -0.11274887, -0.11274887, -0.11274887,\n",
       "         -0.11274887, -0.11274887, -0.11274887, -0.11274887, -0.11274887,\n",
       "         -0.11274887, -0.11274887, -0.11274887, -0.11274887, -0.11274887],\n",
       "        [-0.03271695, -0.03271695, -0.03271695, -0.03271695, -0.03271695,\n",
       "         -0.03271695, -0.03271695, -0.03271695, -0.03271695, -0.03271695,\n",
       "         -0.03271695, -0.03271695, -0.03271695, -0.03271695, -0.03271695,\n",
       "         -0.03271695, -0.03271695, -0.03271695, -0.03271695, -0.03271695]],\n",
       "\n",
       "       [[ 0.08203333,  0.08203333,  0.08203333,  0.08203333,  0.08203333,\n",
       "          0.08203333,  0.08203333,  0.08203333,  0.08203333,  0.08203333,\n",
       "          0.08203333,  0.08203333,  0.08203333,  0.08203333,  0.08203333,\n",
       "          0.08203333,  0.08203333,  0.08203333,  0.08203333,  0.08203333],\n",
       "        [-0.20046572, -0.20046572, -0.20046572, -0.20046572, -0.20046572,\n",
       "         -0.20046572, -0.20046572, -0.20046572, -0.20046572, -0.20046572,\n",
       "         -0.20046572, -0.20046572, -0.20046572, -0.20046572, -0.20046572,\n",
       "         -0.20046572, -0.20046572, -0.20046572, -0.20046572, -0.20046572],\n",
       "        [ 0.21626221,  0.21626221,  0.21626221,  0.21626221,  0.21626221,\n",
       "          0.21626221,  0.21626221,  0.21626221,  0.21626221,  0.21626221,\n",
       "          0.21626221,  0.21626221,  0.21626221,  0.21626221,  0.21626221,\n",
       "          0.21626221,  0.21626221,  0.21626221,  0.21626221,  0.21626221],\n",
       "        [-0.00405277, -0.00405277, -0.00405277, -0.00405277, -0.00405277,\n",
       "         -0.00405277, -0.00405277, -0.00405277, -0.00405277, -0.00405277,\n",
       "         -0.00405277, -0.00405277, -0.00405277, -0.00405277, -0.00405277,\n",
       "         -0.00405277, -0.00405277, -0.00405277, -0.00405277, -0.00405277],\n",
       "        [-0.08769149, -0.08769149, -0.08769149, -0.08769149, -0.08769149,\n",
       "         -0.08769149, -0.08769149, -0.08769149, -0.08769149, -0.08769149,\n",
       "         -0.08769149, -0.08769149, -0.08769149, -0.08769149, -0.08769149,\n",
       "         -0.08769149, -0.08769149, -0.08769149, -0.08769149, -0.08769149]],\n",
       "\n",
       "       [[ 0.1300488 ,  0.1300488 ,  0.1300488 ,  0.1300488 ,  0.1300488 ,\n",
       "          0.1300488 ,  0.1300488 ,  0.1300488 ,  0.1300488 ,  0.1300488 ,\n",
       "          0.1300488 ,  0.1300488 ,  0.1300488 ,  0.1300488 ,  0.1300488 ,\n",
       "          0.1300488 ,  0.1300488 ,  0.1300488 ,  0.1300488 ,  0.1300488 ],\n",
       "        [-0.19388233, -0.19388233, -0.19388233, -0.19388233, -0.19388233,\n",
       "         -0.19388233, -0.19388233, -0.19388233, -0.19388233, -0.19388233,\n",
       "         -0.19388233, -0.19388233, -0.19388233, -0.19388233, -0.19388233,\n",
       "         -0.19388233, -0.19388233, -0.19388233, -0.19388233, -0.19388233],\n",
       "        [ 0.22588092,  0.22588092,  0.22588092,  0.22588092,  0.22588092,\n",
       "          0.22588092,  0.22588092,  0.22588092,  0.22588092,  0.22588092,\n",
       "          0.22588092,  0.22588092,  0.22588092,  0.22588092,  0.22588092,\n",
       "          0.22588092,  0.22588092,  0.22588092,  0.22588092,  0.22588092],\n",
       "        [-0.03493382, -0.03493382, -0.03493382, -0.03493382, -0.03493382,\n",
       "         -0.03493382, -0.03493382, -0.03493382, -0.03493382, -0.03493382,\n",
       "         -0.03493382, -0.03493382, -0.03493382, -0.03493382, -0.03493382,\n",
       "         -0.03493382, -0.03493382, -0.03493382, -0.03493382, -0.03493382],\n",
       "        [-0.18215113, -0.18215113, -0.18215113, -0.18215113, -0.18215113,\n",
       "         -0.18215113, -0.18215113, -0.18215113, -0.18215113, -0.18215113,\n",
       "         -0.18215113, -0.18215113, -0.18215113, -0.18215113, -0.18215113,\n",
       "         -0.18215113, -0.18215113, -0.18215113, -0.18215113, -0.18215113]]])"
      ]
     },
     "execution_count": 8,
     "metadata": {},
     "output_type": "execute_result"
    }
   ],
   "source": [
    "w[:3]"
   ]
  },
  {
   "cell_type": "code",
   "execution_count": 7,
   "metadata": {},
   "outputs": [
    {
     "data": {
      "text/plain": [
       "(370, 5, 20)"
      ]
     },
     "execution_count": 7,
     "metadata": {},
     "output_type": "execute_result"
    }
   ],
   "source": [
    "w.shape"
   ]
  },
  {
   "cell_type": "code",
   "execution_count": 33,
   "metadata": {},
   "outputs": [
    {
     "data": {
      "text/plain": [
       "array([ 0.06344403,  0.08203333,  0.1300488 , -0.35      ,  0.00798571,\n",
       "        0.1411863 , -0.02476743,  0.01724024, -0.07803099,  0.12310752])"
      ]
     },
     "execution_count": 33,
     "metadata": {},
     "output_type": "execute_result"
    }
   ],
   "source": [
    "fc_weights[:10, 6]"
   ]
  },
  {
   "cell_type": "code",
   "execution_count": 22,
   "metadata": {},
   "outputs": [
    {
     "data": {
      "text/plain": [
       "11"
      ]
     },
     "execution_count": 22,
     "metadata": {},
     "output_type": "execute_result"
    }
   ],
   "source": [
    "fc_cols.index('n3_s2')"
   ]
  },
  {
   "cell_type": "code",
   "execution_count": 15,
   "metadata": {},
   "outputs": [
    {
     "data": {
      "text/plain": [
       "(370, 100)"
      ]
     },
     "execution_count": 15,
     "metadata": {},
     "output_type": "execute_result"
    }
   ],
   "source": [
    "fc_weights.shape"
   ]
  },
  {
   "cell_type": "code",
   "execution_count": 9,
   "metadata": {},
   "outputs": [
    {
     "ename": "AttributeError",
     "evalue": "'NpzFile' object has no attribute 'shape'",
     "output_type": "error",
     "traceback": [
      "\u001b[0;31m---------------------------------------------------------------------------\u001b[0m",
      "\u001b[0;31mAttributeError\u001b[0m                            Traceback (most recent call last)",
      "\u001b[0;32m<ipython-input-9-be06921ea3aa>\u001b[0m in \u001b[0;36m<module>\u001b[0;34m()\u001b[0m\n\u001b[0;32m----> 1\u001b[0;31m \u001b[0ms_fc\u001b[0m\u001b[0;34m.\u001b[0m\u001b[0mshape\u001b[0m\u001b[0;34m\u001b[0m\u001b[0m\n\u001b[0m",
      "\u001b[0;31mAttributeError\u001b[0m: 'NpzFile' object has no attribute 'shape'"
     ]
    }
   ],
   "source": []
  },
  {
   "cell_type": "code",
   "execution_count": null,
   "metadata": {},
   "outputs": [],
   "source": []
  },
  {
   "cell_type": "code",
   "execution_count": null,
   "metadata": {},
   "outputs": [],
   "source": [
    "# Build features\n",
    "x_ = sample"
   ]
  },
  {
   "cell_type": "code",
   "execution_count": 6,
   "metadata": {},
   "outputs": [],
   "source": [
    "scaler = skl.preprocessing.StandardScaler()"
   ]
  },
  {
   "cell_type": "code",
   "execution_count": null,
   "metadata": {},
   "outputs": [],
   "source": [
    "skf = StratifiedKFold(n_splits=3)\n"
   ]
  },
  {
   "cell_type": "code",
   "execution_count": null,
   "metadata": {},
   "outputs": [],
   "source": [
    "skl.preprocessing"
   ]
  },
  {
   "cell_type": "code",
   "execution_count": null,
   "metadata": {},
   "outputs": [],
   "source": []
  },
  {
   "cell_type": "code",
   "execution_count": null,
   "metadata": {},
   "outputs": [],
   "source": []
  },
  {
   "cell_type": "code",
   "execution_count": null,
   "metadata": {},
   "outputs": [],
   "source": []
  },
  {
   "cell_type": "code",
   "execution_count": null,
   "metadata": {},
   "outputs": [],
   "source": []
  },
  {
   "cell_type": "code",
   "execution_count": 4,
   "metadata": {},
   "outputs": [
    {
     "ename": "AttributeError",
     "evalue": "module 'Proteus' has no attribute 'predic'",
     "output_type": "error",
     "traceback": [
      "\u001b[0;31m---------------------------------------------------------------------------\u001b[0m",
      "\u001b[0;31mAttributeError\u001b[0m                            Traceback (most recent call last)",
      "\u001b[0;32m<ipython-input-4-cd628bd73f19>\u001b[0m in \u001b[0;36m<module>\u001b[0;34m()\u001b[0m\n\u001b[0;32m----> 1\u001b[0;31m \u001b[0mpt\u001b[0m\u001b[0;34m.\u001b[0m\u001b[0mpredic\u001b[0m\u001b[0;34m\u001b[0m\u001b[0m\n\u001b[0m",
      "\u001b[0;31mAttributeError\u001b[0m: module 'Proteus' has no attribute 'predic'"
     ]
    }
   ],
   "source": [
    "pt.predic"
   ]
  },
  {
   "cell_type": "code",
   "execution_count": null,
   "metadata": {},
   "outputs": [],
   "source": [
    "import pandas as pd\n",
    "import scipy.io\n",
    "from os import listdir\n",
    "from sklearn.utils import shuffle\n",
    "from sklearn import preprocessing\n",
    "from nilearn import plotting\n",
    "#from proteus.io import util\n",
    "from proteus.visu import sbp_visu\n",
    "\n",
    "import glob,os\n",
    "import nibabel as nib\n",
    "\n",
    "\n",
    "import pickle\n",
    "from proteus.predic import high_confidence\n",
    "import numpy as np\n",
    "import pandas as pd\n",
    "from proteus.predic import prediction\n",
    "from sklearn import preprocessing\n",
    "from sklearn.model_selection import StratifiedKFold\n",
    "\n",
    "from sklearn import metrics\n",
    "\n",
    "import matplotlib.pyplot as plt\n",
    "from matplotlib import cm\n",
    "import seaborn as sns\n",
    "\n",
    "import statsmodels.formula.api as smf\n",
    "import statsmodels.api as sm\n",
    "from statsmodels.stats.multicomp import pairwise_tukeyhsd\n",
    "\n",
    "from copy import deepcopy"
   ]
  }
 ],
 "metadata": {
  "kernelspec": {
   "display_name": "Python 3",
   "language": "python",
   "name": "python3"
  },
  "language_info": {
   "codemirror_mode": {
    "name": "ipython",
    "version": 3
   },
   "file_extension": ".py",
   "mimetype": "text/x-python",
   "name": "python",
   "nbconvert_exporter": "python",
   "pygments_lexer": "ipython3",
   "version": "3.5.4"
  }
 },
 "nbformat": 4,
 "nbformat_minor": 2
}
