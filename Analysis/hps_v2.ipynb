{
 "cells": [
  {
   "cell_type": "markdown",
   "metadata": {},
   "source": [
    "# Get the HPS model to run\n",
    "- get the inputs correct\n",
    "- run through all steps\n",
    "- get an accuracy estimate"
   ]
  },
  {
   "cell_type": "code",
   "execution_count": 1,
   "metadata": {},
   "outputs": [],
   "source": [
    "%matplotlib inline"
   ]
  },
  {
   "cell_type": "code",
   "execution_count": 2,
   "metadata": {},
   "outputs": [],
   "source": [
    "import os\n",
    "import sys\n",
    "sys.path.append('/home/surchs/git/HPS')\n",
    "from hps.predic import high_confidence\n",
    "from hps.visu import hps_visu\n",
    "#from proteus.predic import prediction\n",
    "\n",
    "import numpy as np\n",
    "import pandas as pd\n",
    "import nibabel as nib\n",
    "import sklearn as skl\n",
    "import scipy.io as sio\n",
    "import seaborn as sbn\n",
    "from matplotlib import pyplot as plt\n",
    "from sklearn.model_selection import StratifiedKFold"
   ]
  },
  {
   "cell_type": "code",
   "execution_count": 3,
   "metadata": {},
   "outputs": [
    {
     "data": {
      "text/plain": [
       "32"
      ]
     },
     "execution_count": 3,
     "metadata": {},
     "output_type": "execute_result"
    }
   ],
   "source": [
    "os.cpu_count()"
   ]
  },
  {
   "cell_type": "code",
   "execution_count": 4,
   "metadata": {},
   "outputs": [],
   "source": [
    "import warnings\n",
    "warnings.filterwarnings('ignore')"
   ]
  },
  {
   "cell_type": "code",
   "execution_count": 5,
   "metadata": {},
   "outputs": [],
   "source": [
    "# Paths\n",
    "root_p = '/home/surchs/sim_big/PROJECT/abide_hps/'\n",
    "# Pheno\n",
    "sample_p = os.path.join(root_p, 'pheno', 'psm_abide1.csv')\n",
    "# Data\n",
    "resid_ct_p = os.path.join(root_p, 'residual', 'ct_30mm_residual_psm.npy')\n",
    "resid_fc_p = os.path.join(root_p, 'residual', 'sd_30mm_residual_psm.npy')\n",
    "mask_p = os.path.join(root_p, 'mask', 'MIST_mask.nii.gz')\n",
    "subtype_fc_p = os.path.join(root_p, 'subtypes', 'subtypes_fc.npz')\n",
    "subtype_ct_p = os.path.join(root_p, 'subtypes', 'subtypes_ct.npz')"
   ]
  },
  {
   "cell_type": "code",
   "execution_count": 6,
   "metadata": {},
   "outputs": [],
   "source": [
    "# Load data\n",
    "sample = pd.read_csv(sample_p)\n",
    "sample['DX_CODE'] = sample['DX_GROUP'].replace({'Autism':1, 'Control':0})\n",
    "s_fc = np.load(subtype_fc_p)\n",
    "s_ct = np.load(subtype_ct_p)"
   ]
  },
  {
   "cell_type": "code",
   "execution_count": 7,
   "metadata": {},
   "outputs": [],
   "source": [
    "# Reshape FC to add to the table\n",
    "fc_weights = np.reshape(s_fc['weights'], (370, 5*20))\n",
    "fc_cols = ['fc_n{}_s{}'.format(nid+1, sid+1) for sid in range(5) for nid in range(20)]\n",
    "# Same for CT\n",
    "ct_weights = s_ct['weights']\n",
    "ct_cols = ['ct_s{}'.format(sid+1) for sid in range(5)]\n",
    "# Combine both\n",
    "weights = np.concatenate((ct_weights, fc_weights),1)\n",
    "cols = ct_cols + fc_cols\n",
    "# Into a pandas DF\n",
    "w_data = pd.DataFrame(data=weights, columns=cols)\n",
    "# Combine both for the full dataset\n",
    "dataset = sample.join(w_data)"
   ]
  },
  {
   "cell_type": "code",
   "execution_count": 8,
   "metadata": {},
   "outputs": [],
   "source": [
    "# Select the features\n",
    "scaler = skl.preprocessing.StandardScaler()\n",
    "# Add BV to the subtype weights\n",
    "col_features = ['BV', 'AGE_AT_SCAN', 'FD_scrubbed', ] + cols\n",
    "\n",
    "# Build features\n",
    "x_ = dataset.loc[:, col_features]\n",
    "# Take the numeric diagnosis code\n",
    "y = dataset.loc[:, ['DX_CODE']].values.squeeze()\n",
    "# Normalize\n",
    "X = scaler.fit_transform(x_)"
   ]
  },
  {
   "cell_type": "markdown",
   "metadata": {},
   "source": [
    "# Run the CV model"
   ]
  },
  {
   "cell_type": "code",
   "execution_count": 9,
   "metadata": {},
   "outputs": [],
   "source": [
    "ohe = skl.preprocessing.OneHotEncoder(sparse=False)\n",
    "ohe.fit(y.reshape(-1, 1))\n",
    "labels = ohe.transform(y.reshape(-1, 1))"
   ]
  },
  {
   "cell_type": "code",
   "execution_count": 10,
   "metadata": {
    "scrolled": true
   },
   "outputs": [
    {
     "name": "stdout",
     "output_type": "stream",
     "text": [
      "Stage 1\n",
      "Stage 2\n",
      "CV fold 1 classifying...\n",
      "Stage 1\n",
      "Stage 2\n",
      "CV fold 2 classifying...\n",
      "Stage 1\n",
      "Stage 2\n",
      "CV fold 3 classifying...\n",
      "Stage 1\n",
      "Stage 2\n",
      "CV fold 4 classifying...\n",
      "Stage 1\n",
      "Stage 2\n",
      "CV fold 5 classifying...\n",
      "Stage 1\n",
      "Stage 2\n",
      "CV fold 6 classifying...\n",
      "Stage 1\n",
      "Stage 2\n",
      "CV fold 7 classifying...\n",
      "Stage 1\n",
      "Stage 2\n",
      "CV fold 8 classifying...\n",
      "Stage 1\n",
      "Stage 2\n",
      "CV fold 9 classifying...\n",
      "Stage 1\n",
      "Stage 2\n",
      "CV fold 10 classifying...\n"
     ]
    },
    {
     "data": {
      "image/png": "[encoded data removed]",
      "text/plain": [
       "<matplotlib.figure.Figure at 0x2b7115ac8cf8>"
      ]
     },
     "metadata": {},
     "output_type": "display_data"
    },
    {
     "data": {
      "image/png": "[encoded data removed]",
      "text/plain": [
       "<matplotlib.figure.Figure at 0x2b711f75b860>"
      ]
     },
     "metadata": {},
     "output_type": "display_data"
    },
    {
     "data": {
      "image/png": "[encoded data removed]",
      "text/plain": [
       "<matplotlib.figure.Figure at 0x2b711f746ba8>"
      ]
     },
     "metadata": {},
     "output_type": "display_data"
    },
    {
     "data": {
      "image/png": "[encoded data removed]",
      "text/plain": [
       "<matplotlib.figure.Figure at 0x2b711fd3c278>"
      ]
     },
     "metadata": {},
     "output_type": "display_data"
    },
    {
     "data": {
      "image/png": "[encoded data removed]",
      "text/plain": [
       "<matplotlib.figure.Figure at 0x2b711f746eb8>"
      ]
     },
     "metadata": {},
     "output_type": "display_data"
    },
    {
     "data": {
      "image/png": "[encoded data removed]",
      "text/plain": [
       "<matplotlib.figure.Figure at 0x2b711fd8d908>"
      ]
     },
     "metadata": {},
     "output_type": "display_data"
    },
    {
     "data": {
      "image/png": "[encoded data removed]",
      "text/plain": [
       "<matplotlib.figure.Figure at 0x2b711f767978>"
      ]
     },
     "metadata": {},
     "output_type": "display_data"
    },
    {
     "data": {
      "image/png": "[encoded data removed]",
      "text/plain": [
       "<matplotlib.figure.Figure at 0x2b711fe1c668>"
      ]
     },
     "metadata": {},
     "output_type": "display_data"
    },
    {
     "data": {
      "image/png": "[encoded data removed]",
      "text/plain": [
       "<matplotlib.figure.Figure at 0x2b711f114d30>"
      ]
     },
     "metadata": {},
     "output_type": "display_data"
    },
    {
     "data": {
      "image/png": "[encoded data removed]",
      "text/plain": [
       "<matplotlib.figure.Figure at 0x2b711fe8c240>"
      ]
     },
     "metadata": {},
     "output_type": "display_data"
    },
    {
     "data": {
      "image/png": "[encoded data removed]",
      "text/plain": [
       "<matplotlib.figure.Figure at 0x2b711f10fb00>"
      ]
     },
     "metadata": {},
     "output_type": "display_data"
    },
    {
     "data": {
      "image/png": "[encoded data removed]",
      "text/plain": [
       "<matplotlib.figure.Figure at 0x2b711fee2da0>"
      ]
     },
     "metadata": {},
     "output_type": "display_data"
    },
    {
     "data": {
      "image/png": "[encoded data removed]",
      "text/plain": [
       "<matplotlib.figure.Figure at 0x2b711fd80f60>"
      ]
     },
     "metadata": {},
     "output_type": "display_data"
    },
    {
     "data": {
      "image/png": "[encoded data removed]",
      "text/plain": [
       "<matplotlib.figure.Figure at 0x2b711ff55a20>"
      ]
     },
     "metadata": {},
     "output_type": "display_data"
    },
    {
     "data": {
      "image/png": "[encoded data removed]",
      "text/plain": [
       "<matplotlib.figure.Figure at 0x2b711f11bdd8>"
      ]
     },
     "metadata": {},
     "output_type": "display_data"
    },
    {
     "data": {
      "image/png": "[encoded data removed]",
      "text/plain": [
       "<matplotlib.figure.Figure at 0x2b711ffd9550>"
      ]
     },
     "metadata": {},
     "output_type": "display_data"
    },
    {
     "data": {
      "image/png": "[encoded data removed]",
      "text/plain": [
       "<matplotlib.figure.Figure at 0x2b711fdeff98>"
      ]
     },
     "metadata": {},
     "output_type": "display_data"
    },
    {
     "data": {
      "image/png": "[encoded data removed]",
      "text/plain": [
       "<matplotlib.figure.Figure at 0x2b7132409c88>"
      ]
     },
     "metadata": {},
     "output_type": "display_data"
    },
    {
     "data": {
      "image/png": "[encoded data removed]",
      "text/plain": [
       "<matplotlib.figure.Figure at 0x2b713243ee80>"
      ]
     },
     "metadata": {},
     "output_type": "display_data"
    },
    {
     "data": {
      "image/png": "[encoded data removed]",
      "text/plain": [
       "<matplotlib.figure.Figure at 0x2b713248ab38>"
      ]
     },
     "metadata": {},
     "output_type": "display_data"
    }
   ],
   "source": [
    "scores_s1=[]\n",
    "scores_s2 = []\n",
    "y_target = []\n",
    "\n",
    "skf = StratifiedKFold(n_splits=10)\n",
    "it = 1\n",
    "for train_index, val_index in skf.split(X,y):\n",
    "    X_training, X_val = X[train_index], X[val_index]\n",
    "    y_training, y_val = y[train_index], y[val_index]\n",
    "        \n",
    "    hps = high_confidence.TwoStagesPrediction(verbose=False,\n",
    "                                          n_iter=1000,\n",
    "                                          shuffle_test_split=0.5,\n",
    "                                            gamma=1,\n",
    "                                          min_gamma=0.95,\n",
    "                                          thresh_ratio=0.1)\n",
    "    \n",
    "    hps.fit(X_training, y_training)\n",
    "    \n",
    "    scores, dic_results = hps.predict(X_val)\n",
    "    \n",
    "    # Test in validation sample\n",
    "    acc = skl.metrics.accuracy_score(y_val, (dic_results['s1_df'][:,0]>0).astype(float))\n",
    "    tmp_mask = (dic_results['s2_hat'][:,1]>0) & (dic_results['s1_df'][:,0]>0)\n",
    "    acc_s2 = skl.metrics.accuracy_score(y_val, (dic_results['s2_df'][:,1]>0).astype(float))\n",
    "    \n",
    "    scores_s1.append(dic_results['s1_hat'])\n",
    "    scores_s2.append(dic_results['s2_hat'])\n",
    "    \n",
    "    print('CV fold {} classifying...'.format(it))\n",
    "    it += 1\n",
    "    \n",
    "    plt.figure()\n",
    "    plt.hist(hps.training_hit_probability[y_training==0],10)\n",
    "    plt.figure()\n",
    "    plt.hist(hps.training_hit_probability[y_training==1],10)\n",
    "    \n",
    "    y_target.append(y_val)"
   ]
  },
  {
   "cell_type": "code",
   "execution_count": 11,
   "metadata": {},
   "outputs": [
    {
     "name": "stdout",
     "output_type": "stream",
     "text": [
      "##########################\n",
      "Stage 1 (BASE)\n",
      "Class 0 Precision: 58.64 Specificity: 56.59 Recall: 59.57 N: 191\n",
      "Class 1 Precision: 57.54 Specificity: 59.57 Recall: 56.59 N: 179\n",
      "Total Precision: 58.09 Specificity: 58.08 Recall: 58.08 N: 185\n",
      "Stage 2 (HPS)\n",
      "Class 0 Precision: 78.05 Specificity: 95.05 Recall: 17.02 N: 41\n",
      "Class 1 Precision: 82.93 Specificity: 96.28 Recall: 18.68 N: 41\n",
      "Total Precision: 80.49 Specificity: 95.67 Recall: 17.85 N: 41\n",
      "##########################\n"
     ]
    }
   ],
   "source": [
    "scores_s1 = np.vstack(scores_s1)\n",
    "scores_s2 = np.vstack(scores_s2)\n",
    "y_target = np.hstack(y_target)\n",
    "\n",
    "########################\n",
    "print('##########################')\n",
    "# S1\n",
    "y_mb = ohe.transform(y_target[:,np.newaxis])\n",
    "pred_y_ = scores_s1\n",
    "\n",
    "print('Stage 1 (BASE)')\n",
    "hps_visu.print_scores(hps_visu.scores(y_mb, pred_y_))\n",
    "\n",
    "\n",
    "# S2\n",
    "y_mb = ohe.transform(y_target[:,np.newaxis])\n",
    "pred_y_ = scores_s2\n",
    "\n",
    "print('Stage 2 (HPS)')\n",
    "hps_visu.print_scores(hps_visu.scores(y_mb, pred_y_)) \n",
    "print('##########################')"
   ]
  },
  {
   "cell_type": "markdown",
   "metadata": {},
   "source": [
    "That looks pretty good, let's run this on the entire training set and see if it generalizes to the validation set"
   ]
  },
  {
   "cell_type": "markdown",
   "metadata": {},
   "source": [
    "# Run the one-pass model"
   ]
  },
  {
   "cell_type": "code",
   "execution_count": 21,
   "metadata": {},
   "outputs": [
    {
     "name": "stdout",
     "output_type": "stream",
     "text": [
      "Stage 1\n",
      "Stage 2\n"
     ]
    },
    {
     "data": {
      "text/plain": [
       "(array([ 23.,  17.,  15.,  11.,  12.,  12.,   9.,  12.,  18.,  53.]),\n",
       " array([ 0. ,  0.1,  0.2,  0.3,  0.4,  0.5,  0.6,  0.7,  0.8,  0.9,  1. ]),\n",
       " <a list of 10 Patch objects>)"
      ]
     },
     "execution_count": 21,
     "metadata": {},
     "output_type": "execute_result"
    },
    {
     "data": {
      "image/png": "[encoded data removed]",
      "text/plain": [
       "<matplotlib.figure.Figure at 0x2b70ef92b5f8>"
      ]
     },
     "metadata": {},
     "output_type": "display_data"
    },
    {
     "data": {
      "image/png": "[encoded data removed]",
      "text/plain": [
       "<matplotlib.figure.Figure at 0x2b713252fe48>"
      ]
     },
     "metadata": {},
     "output_type": "display_data"
    }
   ],
   "source": [
    "res_hitproba = []\n",
    "\n",
    "hps = high_confidence.TwoStagesPrediction(verbose=False,\n",
    "                                          n_iter=1000,\n",
    "                                          shuffle_test_split=0.5,\n",
    "                                          min_gamma=0.95,\n",
    "                                          thresh_ratio=0.1)\n",
    "hps.fit(X,y)\n",
    "res_hitproba = hps.training_hit_probability\n",
    "\n",
    "plt.figure()\n",
    "plt.title('Class 0 hit probability distribution')\n",
    "plt.hist(hps.training_hit_probability[y==0],10)\n",
    "plt.figure()\n",
    "plt.title('Class 1 hit probability distribution')\n",
    "plt.hist(hps.training_hit_probability[y==1],10)"
   ]
  },
  {
   "cell_type": "code",
   "execution_count": 22,
   "metadata": {},
   "outputs": [],
   "source": [
    "array_results, dict_results = hps.predict(X)"
   ]
  },
  {
   "cell_type": "code",
   "execution_count": 19,
   "metadata": {},
   "outputs": [],
   "source": [
    "#ind_hps = (dict_results['s1_df'].flatten()>0).astype(float)\n",
    "ind_hps = (dic_results['s2_df'][:,1]>0).astype(float)\n",
    "ind_hps2 = dict_results['s2_df'].flatten()>0\n",
    "lr_decision = dic_results['s2_df'][:,1]"
   ]
  },
  {
   "cell_type": "code",
   "execution_count": 20,
   "metadata": {},
   "outputs": [
    {
     "data": {
      "text/plain": [
       "array([-13.64991049, -22.9309682 , -12.43052258, -19.19481548,\n",
       "       -14.50928935, -17.89568315, -10.47382893, -33.82002969,\n",
       "       -31.86493711,  -6.696328  , -19.39497256, -11.3859038 ,\n",
       "       -17.23383328,  -9.58479378,  -8.6284886 , -21.0083904 ,\n",
       "       -13.61532876, -37.96888878,  -4.9150826 , -28.89765683,\n",
       "        -7.82159816,   2.40134455, -24.21836014,   0.14253776,\n",
       "       -20.40552568,  -1.20844632,   3.29176785, -19.64244466,\n",
       "        -3.08011854, -22.72058524,  -3.98733363, -12.43204797,\n",
       "       -19.69846905, -11.37219413, -18.82016804,   0.61362516])"
      ]
     },
     "execution_count": 20,
     "metadata": {},
     "output_type": "execute_result"
    }
   ],
   "source": [
    "lr_decision"
   ]
  },
  {
   "cell_type": "code",
   "execution_count": 17,
   "metadata": {},
   "outputs": [
    {
     "data": {
      "text/plain": [
       "(370,)"
      ]
     },
     "execution_count": 17,
     "metadata": {},
     "output_type": "execute_result"
    }
   ],
   "source": [
    "y.shape"
   ]
  },
  {
   "cell_type": "code",
   "execution_count": 18,
   "metadata": {},
   "outputs": [
    {
     "data": {
      "text/plain": [
       "4.0"
      ]
     },
     "execution_count": 18,
     "metadata": {},
     "output_type": "execute_result"
    }
   ],
   "source": [
    "np.sum(ind_hps)"
   ]
  },
  {
   "cell_type": "code",
   "execution_count": null,
   "metadata": {},
   "outputs": [],
   "source": []
  },
  {
   "cell_type": "code",
   "execution_count": 16,
   "metadata": {},
   "outputs": [
    {
     "ename": "ValueError",
     "evalue": "Found input variables with inconsistent numbers of samples: [370, 36]",
     "output_type": "error",
     "traceback": [
      "\u001b[0;31m---------------------------------------------------------------------------\u001b[0m",
      "\u001b[0;31mValueError\u001b[0m                                Traceback (most recent call last)",
      "\u001b[0;32m<ipython-input-16-991bd7ca44e9>\u001b[0m in \u001b[0;36m<module>\u001b[0;34m()\u001b[0m\n\u001b[0;32m----> 1\u001b[0;31m \u001b[0mprint\u001b[0m\u001b[0;34m(\u001b[0m\u001b[0mskl\u001b[0m\u001b[0;34m.\u001b[0m\u001b[0mmetrics\u001b[0m\u001b[0;34m.\u001b[0m\u001b[0mclassification_report\u001b[0m\u001b[0;34m(\u001b[0m\u001b[0my\u001b[0m\u001b[0;34m,\u001b[0m \u001b[0mind_hps\u001b[0m\u001b[0;34m)\u001b[0m\u001b[0;34m)\u001b[0m\u001b[0;34m\u001b[0m\u001b[0m\n\u001b[0m",
      "\u001b[0;32m~/venv/py35/lib/python3.5/site-packages/sklearn/metrics/classification.py\u001b[0m in \u001b[0;36mclassification_report\u001b[0;34m(y_true, y_pred, labels, target_names, sample_weight, digits)\u001b[0m\n\u001b[1;32m   1444\u001b[0m                                                   \u001b[0mlabels\u001b[0m\u001b[0;34m=\u001b[0m\u001b[0mlabels\u001b[0m\u001b[0;34m,\u001b[0m\u001b[0;34m\u001b[0m\u001b[0m\n\u001b[1;32m   1445\u001b[0m                                                   \u001b[0maverage\u001b[0m\u001b[0;34m=\u001b[0m\u001b[0;32mNone\u001b[0m\u001b[0;34m,\u001b[0m\u001b[0;34m\u001b[0m\u001b[0m\n\u001b[0;32m-> 1446\u001b[0;31m                                                   sample_weight=sample_weight)\n\u001b[0m\u001b[1;32m   1447\u001b[0m \u001b[0;34m\u001b[0m\u001b[0m\n\u001b[1;32m   1448\u001b[0m     \u001b[0mrow_fmt\u001b[0m \u001b[0;34m=\u001b[0m \u001b[0;34mu'{:>{width}s} '\u001b[0m \u001b[0;34m+\u001b[0m \u001b[0;34mu' {:>9.{digits}f}'\u001b[0m \u001b[0;34m*\u001b[0m \u001b[0;36m3\u001b[0m \u001b[0;34m+\u001b[0m \u001b[0;34mu' {:>9}\\n'\u001b[0m\u001b[0;34m\u001b[0m\u001b[0m\n",
      "\u001b[0;32m~/venv/py35/lib/python3.5/site-packages/sklearn/metrics/classification.py\u001b[0m in \u001b[0;36mprecision_recall_fscore_support\u001b[0;34m(y_true, y_pred, beta, labels, pos_label, average, warn_for, sample_weight)\u001b[0m\n\u001b[1;32m   1023\u001b[0m         \u001b[0;32mraise\u001b[0m \u001b[0mValueError\u001b[0m\u001b[0;34m(\u001b[0m\u001b[0;34m\"beta should be >0 in the F-beta score\"\u001b[0m\u001b[0;34m)\u001b[0m\u001b[0;34m\u001b[0m\u001b[0m\n\u001b[1;32m   1024\u001b[0m \u001b[0;34m\u001b[0m\u001b[0m\n\u001b[0;32m-> 1025\u001b[0;31m     \u001b[0my_type\u001b[0m\u001b[0;34m,\u001b[0m \u001b[0my_true\u001b[0m\u001b[0;34m,\u001b[0m \u001b[0my_pred\u001b[0m \u001b[0;34m=\u001b[0m \u001b[0m_check_targets\u001b[0m\u001b[0;34m(\u001b[0m\u001b[0my_true\u001b[0m\u001b[0;34m,\u001b[0m \u001b[0my_pred\u001b[0m\u001b[0;34m)\u001b[0m\u001b[0;34m\u001b[0m\u001b[0m\n\u001b[0m\u001b[1;32m   1026\u001b[0m     \u001b[0mpresent_labels\u001b[0m \u001b[0;34m=\u001b[0m \u001b[0munique_labels\u001b[0m\u001b[0;34m(\u001b[0m\u001b[0my_true\u001b[0m\u001b[0;34m,\u001b[0m \u001b[0my_pred\u001b[0m\u001b[0;34m)\u001b[0m\u001b[0;34m\u001b[0m\u001b[0m\n\u001b[1;32m   1027\u001b[0m \u001b[0;34m\u001b[0m\u001b[0m\n",
      "\u001b[0;32m~/venv/py35/lib/python3.5/site-packages/sklearn/metrics/classification.py\u001b[0m in \u001b[0;36m_check_targets\u001b[0;34m(y_true, y_pred)\u001b[0m\n\u001b[1;32m     69\u001b[0m     \u001b[0my_pred\u001b[0m \u001b[0;34m:\u001b[0m \u001b[0marray\u001b[0m \u001b[0;32mor\u001b[0m \u001b[0mindicator\u001b[0m \u001b[0mmatrix\u001b[0m\u001b[0;34m\u001b[0m\u001b[0m\n\u001b[1;32m     70\u001b[0m     \"\"\"\n\u001b[0;32m---> 71\u001b[0;31m     \u001b[0mcheck_consistent_length\u001b[0m\u001b[0;34m(\u001b[0m\u001b[0my_true\u001b[0m\u001b[0;34m,\u001b[0m \u001b[0my_pred\u001b[0m\u001b[0;34m)\u001b[0m\u001b[0;34m\u001b[0m\u001b[0m\n\u001b[0m\u001b[1;32m     72\u001b[0m     \u001b[0mtype_true\u001b[0m \u001b[0;34m=\u001b[0m \u001b[0mtype_of_target\u001b[0m\u001b[0;34m(\u001b[0m\u001b[0my_true\u001b[0m\u001b[0;34m)\u001b[0m\u001b[0;34m\u001b[0m\u001b[0m\n\u001b[1;32m     73\u001b[0m     \u001b[0mtype_pred\u001b[0m \u001b[0;34m=\u001b[0m \u001b[0mtype_of_target\u001b[0m\u001b[0;34m(\u001b[0m\u001b[0my_pred\u001b[0m\u001b[0;34m)\u001b[0m\u001b[0;34m\u001b[0m\u001b[0m\n",
      "\u001b[0;32m~/venv/py35/lib/python3.5/site-packages/sklearn/utils/validation.py\u001b[0m in \u001b[0;36mcheck_consistent_length\u001b[0;34m(*arrays)\u001b[0m\n\u001b[1;32m    202\u001b[0m     \u001b[0;32mif\u001b[0m \u001b[0mlen\u001b[0m\u001b[0;34m(\u001b[0m\u001b[0muniques\u001b[0m\u001b[0;34m)\u001b[0m \u001b[0;34m>\u001b[0m \u001b[0;36m1\u001b[0m\u001b[0;34m:\u001b[0m\u001b[0;34m\u001b[0m\u001b[0m\n\u001b[1;32m    203\u001b[0m         raise ValueError(\"Found input variables with inconsistent numbers of\"\n\u001b[0;32m--> 204\u001b[0;31m                          \" samples: %r\" % [int(l) for l in lengths])\n\u001b[0m\u001b[1;32m    205\u001b[0m \u001b[0;34m\u001b[0m\u001b[0m\n\u001b[1;32m    206\u001b[0m \u001b[0;34m\u001b[0m\u001b[0m\n",
      "\u001b[0;31mValueError\u001b[0m: Found input variables with inconsistent numbers of samples: [370, 36]"
     ]
    }
   ],
   "source": [
    "print(skl.metrics.classification_report(y, ind_hps))"
   ]
  },
  {
   "cell_type": "code",
   "execution_count": 133,
   "metadata": {},
   "outputs": [
    {
     "data": {
      "text/plain": [
       "36.0"
      ]
     },
     "execution_count": 133,
     "metadata": {},
     "output_type": "execute_result"
    }
   ],
   "source": [
    "np.sum(ind_hps)"
   ]
  },
  {
   "cell_type": "code",
   "execution_count": null,
   "metadata": {},
   "outputs": [],
   "source": []
  },
  {
   "cell_type": "code",
   "execution_count": 107,
   "metadata": {},
   "outputs": [
    {
     "data": {
      "text/plain": [
       "array([[-0.999682  ],\n",
       "       [-1.00010451],\n",
       "       [-0.99958017],\n",
       "       [-1.28754845],\n",
       "       [ 0.76546756],\n",
       "       [ 0.46094141],\n",
       "       [-0.34641986],\n",
       "       [-0.0581914 ],\n",
       "       [-1.45933182],\n",
       "       [ 1.0904185 ],\n",
       "       [-0.10594713],\n",
       "       [-0.58554593],\n",
       "       [ 0.27967111],\n",
       "       [ 0.68252858],\n",
       "       [ 0.89817051],\n",
       "       [ 0.14788048],\n",
       "       [ 0.93210404],\n",
       "       [ 1.27799012],\n",
       "       [ 0.79131711],\n",
       "       [-0.64880773],\n",
       "       [ 0.74454123],\n",
       "       [-0.90876294],\n",
       "       [-0.60965746],\n",
       "       [-0.86471239],\n",
       "       [ 0.80257736],\n",
       "       [-1.00042504],\n",
       "       [-0.86907491],\n",
       "       [-0.71984639],\n",
       "       [ 0.07850339],\n",
       "       [ 0.57402586],\n",
       "       [-0.10843399],\n",
       "       [ 0.42420916],\n",
       "       [-1.56643376],\n",
       "       [-0.99989916],\n",
       "       [ 0.5019665 ],\n",
       "       [ 0.67224713],\n",
       "       [-0.1789051 ],\n",
       "       [-0.45604225],\n",
       "       [ 0.31722857],\n",
       "       [-0.06726867],\n",
       "       [ 0.38933004],\n",
       "       [ 1.12659779],\n",
       "       [-0.17588938],\n",
       "       [ 1.03112507],\n",
       "       [-0.08767509],\n",
       "       [ 1.24070266],\n",
       "       [ 1.59611641],\n",
       "       [-0.99967796],\n",
       "       [ 0.25346371],\n",
       "       [-1.30828077],\n",
       "       [-0.97343116],\n",
       "       [ 0.67814176],\n",
       "       [-0.07355078],\n",
       "       [ 0.60261839],\n",
       "       [-0.17807252],\n",
       "       [-0.99980201],\n",
       "       [ 0.60253469],\n",
       "       [ 0.00290683],\n",
       "       [ 0.19002261],\n",
       "       [-0.26210704],\n",
       "       [-0.31310799],\n",
       "       [ 1.0003275 ],\n",
       "       [ 0.99975852],\n",
       "       [-1.38025398],\n",
       "       [ 0.2014728 ],\n",
       "       [ 0.14474666],\n",
       "       [ 0.97967963],\n",
       "       [-1.01789779],\n",
       "       [ 0.30064209],\n",
       "       [ 0.10749189],\n",
       "       [ 0.94902132],\n",
       "       [ 0.23215851],\n",
       "       [-0.06672145],\n",
       "       [ 1.00013984],\n",
       "       [ 0.16216602],\n",
       "       [ 0.43438148],\n",
       "       [-0.73223007],\n",
       "       [ 1.02295632],\n",
       "       [ 0.2050265 ],\n",
       "       [-0.27096696],\n",
       "       [ 0.56416209],\n",
       "       [ 0.03961081],\n",
       "       [-0.29669388],\n",
       "       [-0.33393219],\n",
       "       [ 0.82492597],\n",
       "       [-0.20939439],\n",
       "       [-0.60036715],\n",
       "       [ 1.00043443],\n",
       "       [-0.11966154],\n",
       "       [ 0.94574571],\n",
       "       [ 1.24812233],\n",
       "       [-0.54162025],\n",
       "       [ 0.04746875],\n",
       "       [-0.05949831],\n",
       "       [-0.12871378],\n",
       "       [ 1.26416418],\n",
       "       [ 0.05597034],\n",
       "       [ 0.32629407],\n",
       "       [ 0.31798861],\n",
       "       [-0.35116999],\n",
       "       [-2.15053144],\n",
       "       [ 2.08056137],\n",
       "       [ 1.00025522],\n",
       "       [ 1.10429925],\n",
       "       [ 1.31325559],\n",
       "       [ 1.28632931],\n",
       "       [ 1.18641369],\n",
       "       [-0.12522852],\n",
       "       [ 0.99981094],\n",
       "       [-0.042225  ],\n",
       "       [-0.05154191],\n",
       "       [ 1.42380531],\n",
       "       [ 0.18508616],\n",
       "       [ 0.517517  ],\n",
       "       [ 0.98621114],\n",
       "       [ 0.65191791],\n",
       "       [ 0.88680719],\n",
       "       [ 0.25408031],\n",
       "       [-1.51219346],\n",
       "       [-0.90459117],\n",
       "       [-0.64915511],\n",
       "       [ 0.12373934],\n",
       "       [-1.53226181],\n",
       "       [-1.17584874],\n",
       "       [-1.00041846],\n",
       "       [ 0.07513496],\n",
       "       [-0.74997907],\n",
       "       [-1.00014943],\n",
       "       [-1.5359718 ],\n",
       "       [ 1.09177835],\n",
       "       [-0.00662206],\n",
       "       [ 0.94290573],\n",
       "       [-1.00039044],\n",
       "       [ 0.41075186],\n",
       "       [ 0.63727931],\n",
       "       [-0.3799131 ],\n",
       "       [ 0.61325377],\n",
       "       [-0.54999108],\n",
       "       [-0.19716267],\n",
       "       [-0.14431033],\n",
       "       [-0.65485016],\n",
       "       [-0.03961033],\n",
       "       [-0.99983283],\n",
       "       [-0.8338076 ],\n",
       "       [-0.96297318],\n",
       "       [-0.18064349],\n",
       "       [ 0.06246159],\n",
       "       [-0.34543844],\n",
       "       [ 0.58327751],\n",
       "       [ 0.47626848],\n",
       "       [-0.40207185],\n",
       "       [-0.81287092],\n",
       "       [ 0.73368618],\n",
       "       [-0.99987465],\n",
       "       [-1.20307527],\n",
       "       [-1.4698068 ],\n",
       "       [-0.99969199],\n",
       "       [ 0.47156907],\n",
       "       [-0.49646491],\n",
       "       [-0.25192518],\n",
       "       [-1.0000648 ],\n",
       "       [ 0.06706376],\n",
       "       [-1.00028925],\n",
       "       [-0.14254124],\n",
       "       [-0.59830851],\n",
       "       [ 0.77991972],\n",
       "       [ 0.66634503],\n",
       "       [-0.00528787],\n",
       "       [-0.23384356],\n",
       "       [-0.22349102],\n",
       "       [-0.65607688],\n",
       "       [-0.53453847],\n",
       "       [-0.67961061],\n",
       "       [-0.9853942 ],\n",
       "       [ 1.87117597],\n",
       "       [ 0.34372849],\n",
       "       [-0.73819239],\n",
       "       [ 0.917253  ],\n",
       "       [ 0.99975448],\n",
       "       [ 0.71689192],\n",
       "       [ 0.21906073],\n",
       "       [ 1.13299502],\n",
       "       [ 0.84289693],\n",
       "       [-1.37170148],\n",
       "       [ 0.85480181],\n",
       "       [-0.1506429 ],\n",
       "       [ 0.76415805],\n",
       "       [ 0.3151647 ],\n",
       "       [-0.99965882],\n",
       "       [-0.93536499],\n",
       "       [ 0.49084228],\n",
       "       [-1.68542577],\n",
       "       [ 0.95027269],\n",
       "       [-1.19347522],\n",
       "       [-1.00018998],\n",
       "       [-1.00044048],\n",
       "       [-1.06263747],\n",
       "       [ 0.3543045 ],\n",
       "       [ 0.37382757],\n",
       "       [ 1.06921822],\n",
       "       [-0.23839898],\n",
       "       [-0.04496914],\n",
       "       [ 0.60636923],\n",
       "       [ 0.09715899],\n",
       "       [-1.66212836],\n",
       "       [ 0.52203812],\n",
       "       [ 1.23986609],\n",
       "       [ 0.75968641],\n",
       "       [ 0.49241531],\n",
       "       [ 1.07654116],\n",
       "       [ 0.33032922],\n",
       "       [ 0.99439235],\n",
       "       [ 0.06950498],\n",
       "       [ 0.9997952 ],\n",
       "       [ 1.23710638],\n",
       "       [ 0.65487022],\n",
       "       [ 0.0452165 ],\n",
       "       [ 0.57441798],\n",
       "       [ 0.17857306],\n",
       "       [-0.10220266],\n",
       "       [-0.08970823],\n",
       "       [-0.67072366],\n",
       "       [-1.83647286],\n",
       "       [-0.99950292],\n",
       "       [ 0.52997382],\n",
       "       [-1.28542292],\n",
       "       [-0.4546142 ],\n",
       "       [-1.00002101],\n",
       "       [-1.49303368],\n",
       "       [-1.2531475 ],\n",
       "       [-0.92515834],\n",
       "       [-0.64205893],\n",
       "       [ 0.10168462],\n",
       "       [ 0.61608364],\n",
       "       [-0.2699196 ],\n",
       "       [ 0.09728206],\n",
       "       [ 0.93003013],\n",
       "       [-0.20025199],\n",
       "       [ 0.37645232],\n",
       "       [-0.84240383],\n",
       "       [-0.68143752],\n",
       "       [ 0.67242731],\n",
       "       [ 1.53899911],\n",
       "       [-0.18025074],\n",
       "       [ 0.3671348 ],\n",
       "       [ 1.34001334],\n",
       "       [ 0.83412783],\n",
       "       [ 1.00013971],\n",
       "       [ 1.51549835],\n",
       "       [ 1.77491327],\n",
       "       [-0.38395743],\n",
       "       [ 1.00013889],\n",
       "       [-0.42726422],\n",
       "       [-0.1634583 ],\n",
       "       [-0.24502539],\n",
       "       [ 0.99989757],\n",
       "       [-0.30601598],\n",
       "       [-0.99977957],\n",
       "       [-0.9040353 ],\n",
       "       [-0.20098418],\n",
       "       [ 0.22062471],\n",
       "       [-1.23553682],\n",
       "       [-1.23970173],\n",
       "       [ 0.18394069],\n",
       "       [-0.47955966],\n",
       "       [ 0.08906149],\n",
       "       [ 0.64430499],\n",
       "       [-0.59019976],\n",
       "       [ 0.29011644],\n",
       "       [-0.39727645],\n",
       "       [-0.36116013],\n",
       "       [-1.00031714],\n",
       "       [-2.13647924],\n",
       "       [ 0.71668954],\n",
       "       [-1.00044491],\n",
       "       [-0.6569537 ],\n",
       "       [-0.35897753],\n",
       "       [ 0.30462335],\n",
       "       [ 0.86384906],\n",
       "       [-0.20329371],\n",
       "       [ 0.27067079],\n",
       "       [ 0.20120268],\n",
       "       [ 1.19141631],\n",
       "       [ 0.30250304],\n",
       "       [-0.00584707],\n",
       "       [ 0.22783741],\n",
       "       [-0.35907821],\n",
       "       [-0.50226404],\n",
       "       [-0.76277654],\n",
       "       [-0.9311057 ],\n",
       "       [ 0.08851261],\n",
       "       [-0.37424125],\n",
       "       [-0.46603592],\n",
       "       [-1.53205163],\n",
       "       [-0.97652166],\n",
       "       [-2.05382006],\n",
       "       [-0.91192421],\n",
       "       [-0.15293847],\n",
       "       [-1.3106264 ],\n",
       "       [ 0.01921119],\n",
       "       [-0.58168495],\n",
       "       [-0.56120749],\n",
       "       [ 0.87263676],\n",
       "       [-1.02498578],\n",
       "       [-0.54419091],\n",
       "       [-0.31832683],\n",
       "       [-0.49125393],\n",
       "       [-0.02955634],\n",
       "       [-0.42125672],\n",
       "       [-0.87668486],\n",
       "       [-1.62782295],\n",
       "       [-0.23004478],\n",
       "       [ 0.42476762],\n",
       "       [-0.97910366],\n",
       "       [-0.36686366],\n",
       "       [-0.99987934],\n",
       "       [-0.62816351],\n",
       "       [-1.32155439],\n",
       "       [-0.72075855],\n",
       "       [-0.22963791],\n",
       "       [-0.56515513],\n",
       "       [ 0.05188624],\n",
       "       [-1.05602267],\n",
       "       [-0.99603371],\n",
       "       [ 0.84875138],\n",
       "       [ 0.1131641 ],\n",
       "       [-0.73388187],\n",
       "       [-1.30898935],\n",
       "       [ 0.43010343],\n",
       "       [ 0.70444523],\n",
       "       [-1.45358237],\n",
       "       [-0.63671881],\n",
       "       [-1.85492547],\n",
       "       [ 0.08679391],\n",
       "       [ 0.7387845 ],\n",
       "       [ 1.68248792],\n",
       "       [ 1.42895946],\n",
       "       [-1.95350324],\n",
       "       [ 1.01986711],\n",
       "       [ 0.76111548],\n",
       "       [ 1.6215369 ],\n",
       "       [ 1.46599446],\n",
       "       [-0.29152395],\n",
       "       [ 1.00043182],\n",
       "       [ 1.71110001],\n",
       "       [ 0.21580891],\n",
       "       [-0.1271668 ],\n",
       "       [ 0.50840227],\n",
       "       [ 0.293903  ],\n",
       "       [ 0.42670572],\n",
       "       [ 2.22742346],\n",
       "       [ 0.81823575],\n",
       "       [ 0.26924062],\n",
       "       [-0.3499577 ],\n",
       "       [ 0.49555254],\n",
       "       [ 1.27426304],\n",
       "       [-0.47470009],\n",
       "       [ 1.60147327],\n",
       "       [-0.24472013],\n",
       "       [ 0.86014047],\n",
       "       [ 0.99955565],\n",
       "       [-0.37219011],\n",
       "       [ 0.65082076],\n",
       "       [-0.3140903 ],\n",
       "       [ 0.56757233],\n",
       "       [-0.02227337],\n",
       "       [-1.1279532 ],\n",
       "       [-0.08098708],\n",
       "       [ 0.11867245],\n",
       "       [ 1.1374889 ]])"
      ]
     },
     "execution_count": 107,
     "metadata": {},
     "output_type": "execute_result"
    }
   ],
   "source": [
    "dict_results['s1_df']"
   ]
  },
  {
   "cell_type": "code",
   "execution_count": 103,
   "metadata": {},
   "outputs": [
    {
     "data": {
      "text/plain": [
       "179"
      ]
     },
     "execution_count": 103,
     "metadata": {},
     "output_type": "execute_result"
    }
   ],
   "source": [
    "np.sum(ind_hps)"
   ]
  },
  {
   "cell_type": "code",
   "execution_count": 94,
   "metadata": {
    "scrolled": false
   },
   "outputs": [
    {
     "data": {
      "text/plain": [
       "dict_keys(['s1_hat', 'hcdf', 's2_df', 's1_df', 'hcjoint', 's2_hat', 'hitproba'])"
      ]
     },
     "execution_count": 94,
     "metadata": {},
     "output_type": "execute_result"
    }
   ],
   "source": [
    "dict_results.keys()"
   ]
  },
  {
   "cell_type": "markdown",
   "metadata": {},
   "source": [
    "## Get a hold of the feature weights in the model"
   ]
  },
  {
   "cell_type": "code",
   "execution_count": 67,
   "metadata": {},
   "outputs": [],
   "source": [
    "feature_weights = hps.confidencemodel.clfs[1].coef_\n",
    "non_zero = np.where(feature_weights!=0)[1]"
   ]
  },
  {
   "cell_type": "code",
   "execution_count": 81,
   "metadata": {},
   "outputs": [],
   "source": [
    "col_nonzero = [col_features[ind] for ind in non_zero]\n",
    "feature_type = list()\n",
    "for col in col_nonzero:\n",
    "    if 'ct' in col:\n",
    "        feature_type.append('Anatomical')\n",
    "    elif 'fc' in col:\n",
    "        feature_type.append('Functional')\n",
    "    else:\n",
    "        feature_type.append('Phenotype')\n",
    "data = {'weights':feature_weights[0, non_zero],\n",
    "            'feature':col_nonzero,\n",
    "            'feature_type':feature_type}\n",
    "weights = pd.DataFrame(data=data)"
   ]
  },
  {
   "cell_type": "code",
   "execution_count": 88,
   "metadata": {},
   "outputs": [
    {
     "data": {
      "text/plain": [
       "(array([ 0,  1,  2,  3,  4,  5,  6,  7,  8,  9, 10, 11, 12, 13, 14, 15, 16,\n",
       "        17, 18, 19, 20, 21, 22, 23, 24, 25, 26, 27, 28, 29, 30, 31, 32, 33,\n",
       "        34, 35, 36, 37, 38, 39]), <a list of 40 Text xticklabel objects>)"
      ]
     },
     "execution_count": 88,
     "metadata": {},
     "output_type": "execute_result"
    },
    {
     "data": {
      "image/png": "[encoded data removed]",
      "text/plain": [
       "<matplotlib.figure.Figure at 0x2b4cb1f6cf60>"
      ]
     },
     "metadata": {},
     "output_type": "display_data"
    }
   ],
   "source": [
    "f = plt.figure(figsize=(20,10))\n",
    "ax = f.add_subplot(111)\n",
    "#g = sbn.barplot(x='feature', y='weights', data=weights, hue='feature_type', ax=ax)\n",
    "g = sbn.barplot(x='feature', y='weights', data=weights, ax=ax)\n",
    "plt.xticks(rotation=90)"
   ]
  },
  {
   "cell_type": "markdown",
   "metadata": {},
   "source": [
    "Check the composition of these groups"
   ]
  },
  {
   "cell_type": "code",
   "execution_count": null,
   "metadata": {},
   "outputs": [],
   "source": []
  },
  {
   "cell_type": "code",
   "execution_count": 87,
   "metadata": {},
   "outputs": [
    {
     "data": {
      "image/png": "[encoded data removed]",
      "text/plain": [
       "<matplotlib.figure.Figure at 0x2b4cb1f233c8>"
      ]
     },
     "metadata": {},
     "output_type": "display_data"
    }
   ],
   "source": [
    "plt.hist(hps.training_hit_probability,20)\n",
    "plt.ylim(0,100)\n",
    "plt.rcParams.update({'font.size': 18})"
   ]
  },
  {
   "cell_type": "code",
   "execution_count": 16,
   "metadata": {},
   "outputs": [
    {
     "ename": "NameError",
     "evalue": "name 'visu_demo' is not defined",
     "output_type": "error",
     "traceback": [
      "\u001b[0;31m---------------------------------------------------------------------------\u001b[0m",
      "\u001b[0;31mNameError\u001b[0m                                 Traceback (most recent call last)",
      "\u001b[0;32m<ipython-input-16-40e81bdf8e59>\u001b[0m in \u001b[0;36m<module>\u001b[0;34m()\u001b[0m\n\u001b[1;32m      5\u001b[0m \u001b[0max1\u001b[0m\u001b[0;34m.\u001b[0m\u001b[0maxis\u001b[0m\u001b[0;34m(\u001b[0m\u001b[0;34m'off'\u001b[0m\u001b[0;34m)\u001b[0m\u001b[0;34m\u001b[0m\u001b[0m\n\u001b[1;32m      6\u001b[0m \u001b[0max1\u001b[0m\u001b[0;34m.\u001b[0m\u001b[0mset_title\u001b[0m\u001b[0;34m(\u001b[0m\u001b[0;34m\"True classes\"\u001b[0m\u001b[0;34m)\u001b[0m\u001b[0;34m\u001b[0m\u001b[0m\n\u001b[0;32m----> 7\u001b[0;31m \u001b[0mvisu_demo\u001b[0m\u001b[0;34m.\u001b[0m\u001b[0mscatter_points\u001b[0m\u001b[0;34m(\u001b[0m\u001b[0mX\u001b[0m\u001b[0;34m,\u001b[0m\u001b[0my\u001b[0m\u001b[0;34m,\u001b[0m\u001b[0mnew_fig\u001b[0m\u001b[0;34m=\u001b[0m\u001b[0;32mFalse\u001b[0m\u001b[0;34m,\u001b[0m\u001b[0max1\u001b[0m\u001b[0;34m=\u001b[0m\u001b[0max1\u001b[0m\u001b[0;34m)\u001b[0m\u001b[0;34m\u001b[0m\u001b[0m\n\u001b[0m\u001b[1;32m      8\u001b[0m \u001b[0;34m\u001b[0m\u001b[0m\n\u001b[1;32m      9\u001b[0m \u001b[0max1\u001b[0m \u001b[0;34m=\u001b[0m \u001b[0mfig\u001b[0m\u001b[0;34m.\u001b[0m\u001b[0madd_subplot\u001b[0m\u001b[0;34m(\u001b[0m\u001b[0;36m1\u001b[0m\u001b[0;34m,\u001b[0m\u001b[0;36m4\u001b[0m\u001b[0;34m,\u001b[0m\u001b[0;36m2\u001b[0m\u001b[0;34m)\u001b[0m\u001b[0;34m\u001b[0m\u001b[0m\n",
      "\u001b[0;31mNameError\u001b[0m: name 'visu_demo' is not defined"
     ]
    },
    {
     "data": {
      "image/png": "[encoded data removed]",
      "text/plain": [
       "<matplotlib.figure.Figure at 0x2b4c9f9d6390>"
      ]
     },
     "metadata": {},
     "output_type": "display_data"
    }
   ],
   "source": [
    "# Visualize the results\n",
    "sbn.set_style(\"white\")\n",
    "fig = plt.figure(figsize=(3*4,3,))\n",
    "ax1 = fig.add_subplot(1,4,1)\n",
    "ax1.axis('off')\n",
    "ax1.set_title(\"True classes\")\n",
    "visu_demo.scatter_points(X,y,new_fig=False,ax1=ax1)\n",
    "\n",
    "ax1 = fig.add_subplot(1,4,2)\n",
    "ax1.axis('off')\n",
    "ax1.set_title(\"Basic\")\n",
    "visu_demo.plot_2classes(X,y,hps,show_class=[-1],ax1=ax1)\n",
    "\n",
    "ax1 = fig.add_subplot(1,4,3)\n",
    "ax1.axis('off')\n",
    "ax1.set_title(\"Hit probabilities\")\n",
    "visu_demo.scatter_points(X,y,new_fig=False,res_hitproba=res_hitproba,ax1=ax1)\n",
    "\n",
    "ax1 = fig.add_subplot(1,4,4)\n",
    "ax1.axis('off')\n",
    "ax1.set_title(\"Easy red cases\")\n",
    "visu_demo.plot_2classes(X,y,hps,show_class=[1],ax1=ax1)"
   ]
  },
  {
   "cell_type": "code",
   "execution_count": 7,
   "metadata": {
    "scrolled": true
   },
   "outputs": [
    {
     "name": "stdout",
     "output_type": "stream",
     "text": [
      "Stage 1\n",
      "Proba:\n",
      "[ 0.2125      0.97560976  0.64566929  0.82945736  0.38076923  0.21982759\n",
      "  0.          1.          0.888       0.82        0.97265625  0.95901639\n",
      "  0.91891892  0.2987013   0.46692607  0.69411765  0.66938776  1.\n",
      "  0.23505976  0.1719457   0.94274809  0.628       0.53125     0.76734694\n",
      "  0.          0.05703422  0.98755187  0.53696498  0.072       0.98739496\n",
      "  0.87966805  0.99630996  0.88284519  0.26492537  0.99193548  0.23236515\n",
      "  0.94163424  0.352       0.74152542  0.72246696  0.36821705  0.09375\n",
      "  0.06410256  0.62686567  0.76694915  0.72101449  0.91093117  0.68510638\n",
      "  0.02991453  0.0122449   1.          0.75925926  0.01731602  0.82239382\n",
      "  1.          0.781893    0.36781609  0.94693878  0.94605809  0.00796813\n",
      "  0.88235294  0.05220884  0.57874016  0.05283019  0.8266129   0.98804781\n",
      "  0.09615385  0.96995708  0.00757576  0.99598394  0.97975709  0.95\n",
      "  0.99588477  0.3515625   0.28346457  0.00377358  0.45041322  0.04032258\n",
      "  0.93869732  0.29718876  0.          0.71146245  0.99637681  0.89105058\n",
      "  0.65306122  0.9486166   0.70818505  0.68584071  0.22357724  0.97560976\n",
      "  0.98275862  0.56108597  0.13059701  0.52307692  0.6125      0.21673004\n",
      "  0.60474308  0.75409836  0.99595142  0.884       0.01111111  0.98387097\n",
      "  0.74468085  0.71372549  0.98387097  1.          0.17886179  0.98734177\n",
      "  0.27848101  0.13438735  0.07053942  0.40585774  0.98062016  0.14229249\n",
      "  0.63900415  0.06302521  0.          0.59307359  0.94262295  0.37354086\n",
      "  0.31363636  0.98739496  0.97165992  0.7892562   1.          1.\n",
      "  0.12916667  0.95833333  0.04280156  0.07058824  0.03041825  0.98062016\n",
      "  0.6322314   0.988       0.91891892  0.71705426  0.1171875   0.99641577\n",
      "  0.97368421  0.07086614  0.3875      0.35080645  0.17768595  0.75098814\n",
      "  0.10646388  0.27586207  0.73306773  0.92276423  1.          0.28685259\n",
      "  0.79591837  0.64        0.21912351  0.0530303   0.33891213  0.56420233\n",
      "  0.57194245  0.10569106  0.99180328  0.44758065  0.064       0.43307087\n",
      "  0.68253968  0.99159664  0.99606299  0.84100418  0.49130435  0.90946502\n",
      "  0.90434783  1.          0.90839695  1.          0.96837945  0.85770751\n",
      "  0.98804781  0.35714286  0.97297297  0.67058824  0.0292887   0.99193548\n",
      "  0.89166667  0.71138211  0.45606695  0.218107    0.62790698  0.703125    1.\n",
      "  0.89626556  0.27509294  0.67765568  0.74336283  0.375       0.92277992\n",
      "  0.953125    0.92094862  0.90688259  0.97211155  0.624       0.97058824\n",
      "  0.992       0.01310044  0.636       0.90842491  0.98780488  0.37549407\n",
      "  0.02631579  0.99130435  0.93333333  0.99598394  0.47520661  0.83730159\n",
      "  1.          1.          0.04115226  0.99618321  0.84836066  1.\n",
      "  0.99256506  0.14347826  0.9875      1.          0.18918919  0.37743191\n",
      "  0.46062992  0.22368421  0.596       1.          0.7518797   0.25954198\n",
      "  0.092       0.92063492  1.          0.40080972  0.99206349  0.43076923\n",
      "  0.97975709  0.91320755  0.02941176  0.98046875  0.37547893  0.71376812\n",
      "  0.6125      0.01680672  0.00743494  0.30508475  0.90277778]\n",
      "Average hm score 0.138211382114\n",
      "Stage 2\n",
      "Adjusted gamma:  0.99\n",
      "Adjusted gamma:  0.99\n",
      "Classifying TDC vs ASD...\n",
      "[ 0.  0.  0.  0.  1.  1.  0.  1.  0.  1.  0.  0.  0.  1.  1.  0.  1.  1.\n",
      "  1.  0.  1.  1.  0.  0.  1.  0.  0.  0.  1.  1.  0.  1.  0.  0.  1.  1.\n",
      "  1.  0.  0.  0.  0.  1.  0.  1.  1.  1.  1.  0.  1.  0.  1.  1.  0.  0.\n",
      "  1.  0.  1.  1.  0.  0.  0.  1.  1.  0.  1.  0.  1.  0.  0.  0.  1.  0.\n",
      "  0.  1.  0.  1.  0.  1.  0.  0.  1.  1.  0.  1.  1.  0.  0.  1.  0.  1.\n",
      "  1.  0.  0.  0.  1.  1.  0.  0.  0.  1.  0.  0.  0.  1.  0.  1.  1.  1.\n",
      "  1.  1.  1.  0.  0.  0.  0.  1.  0.  0.  0.  0.  1.  0.  1.  1.]\n",
      "Stage 1\n",
      "Proba:\n",
      "[ 0.74688797  0.77042802  0.98        0.88235294  0.406639    0.32472325\n",
      "  0.18828452  0.22014925  0.02916667  0.99186992  0.18503937  0.10852713\n",
      "  0.47307692  0.35344828  0.83935743  0.6322314   0.644       0.96\n",
      "  0.640625    0.40983607  0.62934363  0.74193548  0.87136929  0.87937743\n",
      "  0.068       0.59745763  0.7753304   0.35271318  0.3359375   0.84848485\n",
      "  0.50972763  0.38039216  0.85470085  0.42537313  0.62857143  0.23728814\n",
      "  0.24796748  0.76086957  0.23481781  0.5498008   0.59276018  0.83969466\n",
      "  0.424       0.9609375   0.84255319  0.08301887  0.93469388  0.2244898\n",
      "  0.4486692   1.          0.90039841  0.86324786  0.27307692  0.82857143\n",
      "  0.51502146  0.89015152  0.12449799  0.51012146  0.58467742  0.17407407\n",
      "  0.19047619  0.74131274  0.80478088  0.91153846  0.34156379  0.28806584\n",
      "  0.7394636   0.7734375   0.48163265  0.80912863  0.85258964  0.71372549\n",
      "  0.38554217  0.87007874  0.37164751  0.743083    0.12648221  0.95289855\n",
      "  0.37354086  0.24897959  0.67588933  0.17437722  0.28318584  0.08130081\n",
      "  0.69918699  0.50431034  0.33031674  0.55597015  0.41923077  0.73333333\n",
      "  0.80232558  0.13833992  0.52697095  0.3697479   0.52362205  0.54716981\n",
      "  0.97520661  0.91935484  0.80722892  0.4904943   0.6798419   0.93442623\n",
      "  0.83805668  0.008       0.52592593  0.06451613  0.83829787  0.0745098\n",
      "  0.02822581  0.60330579  0.02845528  0.37130802  0.21518987  0.55335968\n",
      "  0.6473029   0.55648536  0.876       0.69111969  0.68217054  0.18359375\n",
      "  0.70609319  0.21428571  0.13385827  0.48333333  0.27058824  0.33333333\n",
      "  0.8852459   0.17898833  0.70454545  0.95378151  0.92712551  0.90082645\n",
      "  0.99206349  0.93495935  0.42083333  0.65909091  0.307393    0.27843137\n",
      "  0.09885932  0.80620155  0.14876033  0.37903226  0.12396694  0.44664032\n",
      "  0.0418251   0.59003831  0.54581673  0.77235772  1.          0.0876494\n",
      "  0.9755102   0.848       0.69322709  0.11742424  0.0083682   0.62645914\n",
      "  0.5971223   0.54065041  0.88934426  0.50806452  0.756       0.29133858\n",
      "  0.51984127  0.28991597  0.5         1.          0.76086957  0.75720165\n",
      "  0.64347826  0.93442623  0.9389313   0.99595142  0.64031621  0.39920949\n",
      "  0.97609562  0.5112782   0.71042471  0.43921569  0.15899582  1.\n",
      "  0.60833333  0.70325203  0.67782427  0.41975309  0.47286822  0.5859375\n",
      "  0.96747967  0.29460581  0.04460967  0.94505495  0.69469027  0.46982759\n",
      "  0.47876448  0.80078125  0.50988142  0.69230769  0.89243028  0.528\n",
      "  0.98739496  0.912       0.24454148  0.208       0.84615385  0.99593496\n",
      "  0.07905138  0.19172932  0.9826087   0.5625      0.94779116  0.37190083\n",
      "  0.81746032  0.98084291  0.98154982  0.04526749  0.95038168  0.76229508\n",
      "  0.9755102   0.96654275  0.23913043  0.49583333  0.95185185  0.40540541\n",
      "  0.3618677   0.52362205  0.84210526  0.812       1.          0.76315789\n",
      "  0.77480916  0.268       0.56349206  0.98084291  0.17408907  0.90873016\n",
      "  0.05384615  0.61538462  0.90943396  0.31092437  0.70703125  0.22605364\n",
      "  0.55797101  0.25833333  0.00420168  0.43122677  0.43220339  0.84722222]\n",
      "Average hm score 0.0365853658537\n",
      "Stage 2\n",
      "Adjusted gamma:  0.99\n",
      "Adjusted gamma:  0.99\n",
      "Classifying TDC vs ASD...\n",
      "[ 0.  1.  0.  0.  1.  0.  0.  1.  1.  1.  1.  1.  1.  0.  1.  0.  0.  1.\n",
      "  0.  1.  0.  0.  1.  1.  0.  0.  1.  0.  1.  0.  0.  0.  0.  1.  0.  0.\n",
      "  0.  1.  0.  1.  0.  1.  1.  1.  1.  1.  0.  0.  0.  1.  1.  0.  0.  1.\n",
      "  1.  0.  0.  1.  1.  0.  0.  0.  1.  0.  0.  0.  0.  0.  1.  0.  0.  0.\n",
      "  0.  1.  1.  1.  0.  1.  1.  0.  0.  1.  1.  0.  1.  1.  0.  1.  1.  0.\n",
      "  1.  1.  0.  1.  0.  1.  1.  0.  0.  0.  1.  0.  1.  0.  0.  0.  0.  1.\n",
      "  0.  1.  1.  1.  1.  1.  1.  0.  0.  0.  1.  1.  0.  0.  1.  0.]\n",
      "Stage 1\n",
      "Proba:\n",
      "[ 0.67206478  0.48605578  0.78448276  0.96062992  0.06225681  0.07692308\n",
      "  0.74712644  0.25726141  0.00398406  0.9375      0.56756757  0.05106383\n",
      "  0.60995851  0.99583333  0.64313725  0.72289157  0.85596708  0.92936803\n",
      "  0.74693878  0.05928854  0.45736434  0.94756554  0.60728745  0.83587786\n",
      "  0.03265306  0.72764228  0.71666667  0.66403162  0.23333333  0.50943396\n",
      "  0.1733871   0.85        0.96638655  0.85770751  0.35983264  0.0503876\n",
      "  0.09126984  0.68503937  0.1902834   0.09375     0.93975904  1.\n",
      "  0.33204633  0.94927536  0.20416667  0.00787402  0.97761194  0.01265823\n",
      "  0.36144578  0.9957265   0.96168582  0.848       0.45849802  0.73360656\n",
      "  0.69348659  0.81124498  0.03781513  0.17343173  0.18951613  0.248\n",
      "  0.08494208  0.832       0.94318182  0.98380567  0.10077519  0.46396396\n",
      "  1.          0.99583333  0.8372093   0.65163934  0.75100402  0.79916318\n",
      "  0.31939163  0.90839695  0.81322957  0.54022989  0.10612245  0.94594595\n",
      "  0.88492063  0.52083333  0.35775862  0.38181818  0.07317073  0.22222222\n",
      "  0.70472441  0.21969697  0.27459016  0.94936709  0.78174603  0.76339286\n",
      "  0.99196787  0.22540984  0.54347826  0.38461538  0.12446352  0.992\n",
      "  0.35564854  0.58203125  0.5546875   0.02978723  0.          0.99137931\n",
      "  0.88257576  0.928       0.87301587  0.98367347  0.9665272   0.40316206\n",
      "  0.86307054  0.08368201  0.4484127   0.91385768  0.79693487  0.79133858\n",
      "  0.85        0.68283582  0.784       0.68796992  0.02390438  0.02197802\n",
      "  0.744       0.10655738  0.992       0.7007874   0.91764706  0.59633028\n",
      "  0.56557377  0.69402985  0.99183673  0.11406844  0.39669421  0.01532567\n",
      "  0.67982456  0.4047619   0.2519084   0.72556391  0.0204918   0.88416988\n",
      "  0.54545455  0.23076923  0.58008658  0.17283951  0.93415638  0.82083333\n",
      "  0.89219331  0.64885496  0.1124498   0.72348485  0.2962963   0.01716738\n",
      "  0.43548387  0.58467742  0.07142857  0.58964143  0.88627451  0.92477876\n",
      "  0.88663968  0.1369863   0.10655738  0.29149798  0.9140625   0.70081967\n",
      "  0.79497908  0.28915663  0.80246914  0.03278689  0.12156863  0.70384615\n",
      "  0.53012048  0.64143426  0.8340081   0.82625483  0.16460905  0.00409836\n",
      "  0.99612403  0.82857143  0.10756972  0.90871369  0.96168582  0.75294118\n",
      "  0.60076046  0.80645161  0.45041322  0.00396825  0.94468085  0.62445415\n",
      "  0.75105485  0.12        0.93625498  0.90987124  0.02040816  0.94296578\n",
      "  0.08823529  0.992       0.98431373  0.99061033  0.95582329  0.6440678\n",
      "  0.31501832  0.          0.17959184  0.49603175  0.765625    0.12790698\n",
      "  0.00404858  0.86454183  0.91796875  0.69322709  0.46456693  0.97637795\n",
      "  0.72222222  0.91729323  0.34262948  0.95528455  0.97285068  0.95437262\n",
      "  0.27131783  0.72767857  0.37109375  0.19762846  0.58102767  0.66390041\n",
      "  0.99601594  0.83870968  0.12222222  0.9787234   0.89230769  0.50746269\n",
      "  0.97609562  0.96946565  0.90038314  0.75918367  0.4875      0.01153846\n",
      "  0.44489796  0.42322097  0.60344828  0.42682927  0.26337449  0.04489796\n",
      "  0.96197719  0.89837398  0.73360656  0.10727969  0.95769231  0.85833333\n",
      "  0.132       0.72047244]\n"
     ]
    },
    {
     "name": "stdout",
     "output_type": "stream",
     "text": [
      "Average hm score 0.0564516129032\n",
      "Stage 2\n",
      "Adjusted gamma:  0.99\n",
      "Adjusted gamma:  0.99\n",
      "Classifying TDC vs ASD...\n",
      "[ 0.  1.  1.  0.  1.  1.  1.  1.  1.  1.  0.  1.  0.  0.  1.  1.  0.  1.\n",
      "  1.  0.  0.  0.  1.  0.  0.  1.  0.  0.  1.  1.  1.  1.  0.  1.  1.  1.\n",
      "  1.  1.  0.  1.  0.  1.  1.  1.  1.  0.  0.  0.  1.  1.  0.  1.  0.  0.\n",
      "  1.  0.  0.  1.  0.  1.  0.  0.  0.  0.  1.  0.  0.  0.  0.  0.  0.  1.\n",
      "  0.  1.  0.  0.  1.  1.  0.  0.  1.  1.  0.  0.  0.  0.  1.  1.  1.  0.\n",
      "  1.  1.  1.  1.  0.  1.  1.  1.  0.  1.  0.  0.  1.  1.  1.  0.  1.  1.\n",
      "  0.  1.  0.  1.  1.  1.  1.  0.  1.  0.  0.  1.  0.  1.]\n"
     ]
    }
   ],
   "source": [
    "# Prep store\n",
    "store = {key:list() for key in ['accuracy_overall',\n",
    "                                'accuracy_asd',\n",
    "                                'precision_asd',\n",
    "                                'precision_tdc',\n",
    "                                'recall_asd',\n",
    "                                'recall_tdc',\n",
    "                                'f1_asd',\n",
    "                                'f1_tdc'\n",
    "                               ]}\n",
    "\n",
    "# Run the model and see where that gets us\n",
    "skf = StratifiedKFold(n_splits=3)\n",
    "for train_index, val_index in skf.split(x_,y_):\n",
    "    X_training, X_val = x_[train_index], x_[val_index]\n",
    "    y_training, y_val = y_[train_index], y_[val_index]\n",
    "    \n",
    "    hpc = high_confidence.TwoStagesPrediction(\n",
    "        n_iter=500,\n",
    "        shuffle_test_split=0.5,\n",
    "        min_gamma=.99,\n",
    "        thresh_ratio=0.1)\n",
    "    \n",
    "    hpc.fit(X_training, X_training, y_training)\n",
    "    _, dic_results = hpc.predict(X_val, X_val)\n",
    "    acc = skl.metrics.accuracy_score(y_val, (dic_results['s1df'][:,0]>0).astype(float))\n",
    "    store['accuracy_overall'].append(acc)\n",
    "    \n",
    "    # Get the guys we think are ASD\n",
    "    pos_mask = (dic_results['s2df'][:,1]>0)\n",
    "    acc_s2 = skl.metrics.accuracy_score(y_val[pos_mask], (dic_results['s1df'][:,0]>0).astype(float)[pos_mask])\n",
    "    store['accuracy_asd'].append(acc_s2)\n",
    "    \n",
    "    print('Classifying TDC vs ASD...')\n",
    "    print((dic_results['s1df'][:,0]>0).astype(float))\n",
    "    \n",
    "    y_pred = (dic_results['s1df'][:,0]>0).astype(float)\n",
    "    # Compute precision of the classifier for ASD\n",
    "    asd_p = skl.metrics.precision_score(y_val, y_pred, pos_label=1)\n",
    "    store['precision_asd'].append(asd_p)\n",
    "    # Compute precision of the classifier for TDC\n",
    "    tdc_p = skl.metrics.precision_score(y_val, y_pred, pos_label=0)\n",
    "    store['precision_tdc'].append(tdc_p)\n",
    "    # Recall Ratio of ASD label\n",
    "    asd_r = skl.metrics.recall_score(y_val, y_pred, pos_label=1)\n",
    "    store['recall_asd'].append(asd_r)\n",
    "    # Recall Ratio of TDC label\n",
    "    tdc_r = skl.metrics.recall_score(y_val, y_pred, pos_label=0)\n",
    "    store['recall_tdc'].append(tdc_r)\n",
    "    # F1 Ratio of ASD label\n",
    "    asd_f = skl.metrics.f1_score(y_val, y_pred, pos_label=1)\n",
    "    store['f1_asd'].append(asd_f)\n",
    "    # Recall Ratio of TDC label\n",
    "    tdc_f = skl.metrics.f1_score(y_val, y_pred, pos_label=0)\n",
    "    store['f1_tdc'].append(tdc_f)"
   ]
  },
  {
   "cell_type": "code",
   "execution_count": 9,
   "metadata": {},
   "outputs": [
    {
     "name": "stdout",
     "output_type": "stream",
     "text": [
      "Mean stage 1 validation accuracy:  0.57055349903\n",
      "Mean stage 2 accuracy:  0.583333333333\n",
      "Mean precision for ASD:  0.56087467309\n",
      "Mean precision for TDC:  0.580796980797\n",
      "Mean recall for ASD:  0.566484517304\n",
      "Mean recall for TDC:  0.574500768049\n",
      "Mean f1 score for ASD:  0.563040771864\n",
      "Mean f1 score for TDC:  0.576976716813\n"
     ]
    }
   ],
   "source": [
    "#print(scores_ad_cn)\n",
    "print('Mean stage 1 validation accuracy: ',np.mean(store['accuracy_overall']))\n",
    "#print(scores_s2)\n",
    "print('Mean stage 2 accuracy: ', np.mean(store['accuracy_asd']))\n",
    "#print(ad_precision)\n",
    "print('Mean precision for ASD: ',np.mean(store['precision_asd']))\n",
    "#print(cn_precision)\n",
    "print('Mean precision for TDC: ',np.mean(store['precision_tdc']))\n",
    "#print(ad_recall)\n",
    "print('Mean recall for ASD: ',np.mean(store['recall_asd']))\n",
    "#print(cn_recall)\n",
    "print('Mean recall for TDC: ',np.mean(store['recall_tdc']))\n",
    "#print(ad_f1_score)\n",
    "print('Mean f1 score for ASD: ',np.mean(store['f1_asd']))\n",
    "#print(cn_f1_score)\n",
    "print('Mean f1 score for TDC: ',np.mean(store['f1_tdc']))"
   ]
  },
  {
   "cell_type": "markdown",
   "metadata": {},
   "source": [
    "# Do it without crossvalidation"
   ]
  },
  {
   "cell_type": "code",
   "execution_count": 33,
   "metadata": {},
   "outputs": [
    {
     "name": "stdout",
     "output_type": "stream",
     "text": [
      "Stage 1\n",
      "Proba:\n",
      "[ 0.92887029  0.81712062  0.95546559  0.98809524  0.08898305  0.07531381\n",
      "  0.61445783  0.16269841  0.0037594   0.99609375  0.37606838  0.04705882\n",
      "  0.52916667  0.93415638  0.89285714  0.452       0.84942085  0.97580645\n",
      "  0.8         0.03643725  0.82478632  0.85714286  0.92217899  0.92913386\n",
      "  0.03212851  0.84337349  0.92337165  0.73745174  0.15185185  0.75652174\n",
      "  0.17870722  0.7421875   0.98069498  0.87096774  0.50607287  0.1547619\n",
      "  0.1496063   0.79148936  0.3633218   0.17647059  0.7125      0.99568966\n",
      "  0.19444444  0.94444444  0.34126984  0.          1.          0.003663\n",
      "  0.43410853  0.99596774  0.91666667  0.88047809  0.49596774  0.7012987\n",
      "  0.50632911  0.97142857  0.06097561  0.24045802  0.23430962  0.15510204\n",
      "  0.08627451  0.87148594  0.92307692  1.          0.06319703  0.24609375\n",
      "  0.98672566  0.98837209  0.58102767  0.61946903  0.90598291  0.50196078\n",
      "  0.33870968  0.92913386  0.42        0.640625    0.04098361  0.97769517\n",
      "  0.6284585   0.18859649  0.63671875  0.3151751   0.09349593  0.26459144\n",
      "  0.86234818  0.19272727  0.07539683  0.97297297  0.40080972  0.85654008\n",
      "  1.          0.07171315  0.32539683  0.25550661  0.23293173  0.99590164\n",
      "  0.47177419  0.59765625  0.49193548  0.1314741   0.          1.          0.9484127\n",
      "  0.97468354  0.98490566  0.99609375  0.96551724  0.26754386  0.82397004\n",
      "  0.16269841  0.45454545  1.          0.48917749  0.61983471  0.95\n",
      "  0.67729084  0.79411765  0.70750988  0.          0.00790514  0.68220339\n",
      "  0.31274131  0.9958159   0.88065844  0.97142857  0.42084942  0.6870229\n",
      "  0.9375      1.          0.02811245  0.51162791  0.0242915   0.67871486\n",
      "  0.14876033  0.06882591  0.51882845  0.01612903  0.77289377  0.55263158\n",
      "  0.33204633  0.87449393  0.28787879  0.96551724  0.82375479  0.85877863\n",
      "  0.54098361  0.2992126   0.64016736  0.12601626  0.04329004  0.77372263\n",
      "  0.69348659  0.02521008  0.91855204  0.97188755  0.99176955  0.96326531\n",
      "  0.06976744  0.67622951  0.5952381   0.9486166   0.41287879  0.94715447\n",
      "  0.43873518  0.65098039  0.03831418  0.048       0.51587302  0.59143969\n",
      "  0.60344828  0.90495868  0.82329317  0.06425703  0.0125      1.\n",
      "  0.72427984  0.05439331  0.94573643  1.          0.70522388  0.33212996\n",
      "  0.94676806  0.86666667  0.          0.85892116  0.21632653  0.83739837\n",
      "  0.11836735  0.98031496  0.97530864  0.06153846  0.99230769  0.02083333\n",
      "  0.99170124  0.98507463  1.          0.98814229  0.28571429  0.23893805\n",
      "  0.          0.4125      0.20247934  0.93675889  0.4015444   0.\n",
      "  0.76305221  0.99563319  0.72834646  0.56016598  0.99583333  0.75833333\n",
      "  0.89962825  0.2183908   0.94285714  0.98425197  0.8097166   0.16872428\n",
      "  0.5620155   0.42040816  0.16078431  0.52362205  0.744       1.\n",
      "  0.98484848  0.04016064  0.99607843  0.58299595  0.87644788  1.\n",
      "  0.99578059  0.64705882  0.88934426  0.39915966  0.04115226  0.23360656\n",
      "  0.23643411  0.93283582  0.2195122   0.57676349  0.0460251   0.00384615\n",
      "  0.52777778  1.          0.22988506  0.52222222  1.          0.93050193\n",
      "  0.95454545  0.99610895  1.          0.1953125   0.94584838  0.05932203\n",
      "  0.06463878  0.18367347  0.94047619  0.11278195  0.98706897  0.91497976\n",
      "  0.57831325  0.22357724  0.99196787  0.96456693  0.11904762  0.60557769\n",
      "  0.13675214  0.06198347  0.84291188  0.16479401  0.70562771  0.52631579\n",
      "  0.91472868  1.          0.12355212  0.91902834  0.85660377  0.48790323\n",
      "  0.15315315  0.02409639  0.42578125  0.50420168  0.30125523  0.96707819\n",
      "  0.51004016  0.23443223  0.42629482  0.73895582  0.84615385  0.96311475\n",
      "  0.91481481  0.46938776  0.89539749  0.80578512  0.99632353  0.91286307\n",
      "  0.99595142  0.79835391  0.59915612  0.99612403  0.20883534  0.91129032\n",
      "  0.71481481  0.          0.992       0.88030888  0.57915058  0.87443946\n",
      "  0.40225564  0.78137652  0.88163265  1.          0.75303644  0.16731518\n",
      "  0.98387097  0.79237288  0.69361702  0.87603306  0.89316239  0.89068826\n",
      "  0.71900826  0.86746988  0.32627119  0.99598394  1.          0.0125\n",
      "  0.36882129  0.8487395   0.99190283  0.16078431  0.0464135   0.99619772\n",
      "  0.77821012  1.          0.36501901  0.83467742  1.          0.99604743\n",
      "  0.          0.96721311  0.84108527  1.          1.          0.12598425\n",
      "  0.925       1.          0.2890625   0.25        0.51476793  0.54724409\n",
      "  0.59677419  1.          0.92692308  0.5         0.16044776  0.70305677\n",
      "  1.          0.09881423  1.          0.09677419  0.95330739  0.95121951\n",
      "  0.12773723  0.890625    0.15057915  0.72941176  0.36111111  0.00413223\n",
      "  0.14937759  0.33590734  0.97286822]\n",
      "Average hm score 0.305405405405\n",
      "Stage 2\n",
      "Adjusted gamma:  0.9\n",
      "Adjusted gamma:  0.9\n"
     ]
    }
   ],
   "source": [
    "#reload(high_confidence)\n",
    "hpc = high_confidence.TwoStagesPrediction(\n",
    "    n_iter=500,\n",
    "    shuffle_test_split=0.5,\n",
    "    min_gamma=.9,\n",
    "    thresh_ratio=0.1, gamma=0.9)\n",
    "\n",
    "hpc.fit(x_, x_, y_)"
   ]
  },
  {
   "cell_type": "code",
   "execution_count": 32,
   "metadata": {},
   "outputs": [
    {
     "data": {
      "text/plain": [
       "1.0"
      ]
     },
     "execution_count": 32,
     "metadata": {},
     "output_type": "execute_result"
    }
   ],
   "source": [
    "hpc.gamma"
   ]
  },
  {
   "cell_type": "code",
   "execution_count": 34,
   "metadata": {},
   "outputs": [],
   "source": [
    "array_results, dic_results = hpc.predict(x_, x_)"
   ]
  },
  {
   "cell_type": "code",
   "execution_count": 35,
   "metadata": {},
   "outputs": [],
   "source": [
    "y_pred = (dic_results['s1df'][:,0]>0).astype(float)\n",
    "lr_decision = dic_results['s2df'][:,1]"
   ]
  },
  {
   "cell_type": "code",
   "execution_count": 36,
   "metadata": {},
   "outputs": [
    {
     "name": "stdout",
     "output_type": "stream",
     "text": [
      "Total number of TARGET subjects:  182\n",
      "Total number of NON-TARGET subjects:  188\n",
      "Stage 1 number of hits (true and false positives):  178.0\n",
      "Stage 1 TRUE positives:  126.0\n",
      "Stage 1 FALSE positives:  52.0\n",
      "Stage 1 TRUE negatives:  136.0\n",
      "Total number of flagged HPC-AD subjects:  68.0\n",
      "Number of flagged HPC-AD subjects that are TRUE positives:  60\n",
      "Number of flagged HPC-AD subjects that are FALSE positives:  8.0\n",
      "Number of true negatives:  180.0\n",
      "#############################\n",
      "Stage 1 stats for TARGET vs NON-TARGET\n",
      "Precision for AD:  0.707865168539\n",
      "Recall (or sensitivity)  for AD:  0.692307692308\n",
      "Specificity:  0.723404255319\n",
      "Adjusted precision for 33.6% baseline rate:  0.558802252068\n",
      "Accuracy:  0.708108108108\n",
      "#############################\n",
      "Stage 2 stats for TARGET vs NON-TARGET\n",
      "Precision for HPC-AD:  0.882352941176\n",
      "Recall (or sensitivity) for HPC-AD:  0.32967032967\n",
      "Specificity:  0.957446808511\n",
      "Adjusted precision for 33.6% baseline rate:  0.796760218497\n",
      "Accuracy:  0.648648648649\n"
     ]
    }
   ],
   "source": [
    "predic_stats(y_, y_pred, lr_decision)"
   ]
  },
  {
   "cell_type": "code",
   "execution_count": 26,
   "metadata": {},
   "outputs": [
    {
     "data": {
      "text/plain": [
       "(370, 96)"
      ]
     },
     "execution_count": 26,
     "metadata": {},
     "output_type": "execute_result"
    }
   ],
   "source": [
    "sample.shape"
   ]
  },
  {
   "cell_type": "code",
   "execution_count": 25,
   "metadata": {},
   "outputs": [
    {
     "data": {
      "text/plain": [
       "Control    188\n",
       "Autism     182\n",
       "Name: DX_GROUP, dtype: int64"
      ]
     },
     "execution_count": 25,
     "metadata": {},
     "output_type": "execute_result"
    }
   ],
   "source": [
    "sample['DX_GROUP'].value_counts()"
   ]
  },
  {
   "cell_type": "code",
   "execution_count": 18,
   "metadata": {},
   "outputs": [
    {
     "data": {
      "text/plain": [
       "(370, 6)"
      ]
     },
     "execution_count": 18,
     "metadata": {},
     "output_type": "execute_result"
    }
   ],
   "source": [
    "array_results.shape"
   ]
  },
  {
   "cell_type": "code",
   "execution_count": 19,
   "metadata": {},
   "outputs": [],
   "source": [
    "def predic_stats(y_, y_pred, lr_decision):\n",
    "    # number of AD subjects\n",
    "    n_ad = sum(y_)\n",
    "    print('Total number of TARGET subjects: ', n_ad)\n",
    "\n",
    "    # number of CN subjects\n",
    "    n_cn = len(y_) - sum(y_)\n",
    "    print('Total number of NON-TARGET subjects: ', n_cn)\n",
    "    \n",
    "    # number of subjects predicted as AD at stage 1\n",
    "    n_pos = sum(y_pred)\n",
    "    print('Stage 1 number of hits (true and false positives): ', n_pos)\n",
    "    \n",
    "    # true positives at stage 1\n",
    "    n_pos_ad = sum(y_pred[y_.astype(bool)])\n",
    "    print('Stage 1 TRUE positives: ', n_pos_ad)\n",
    "    \n",
    "    # false positives at stage 1\n",
    "    n_pos_cn = n_pos - n_pos_ad\n",
    "    print('Stage 1 FALSE positives: ', n_pos_cn)\n",
    "    \n",
    "    # number of CN subjects not identified as positive (true negatives)\n",
    "    n_neg1_cn = n_cn - n_pos_cn\n",
    "    print('Stage 1 TRUE negatives: ', n_neg1_cn)\n",
    "\n",
    "    # number of all flagged HPC-AD subjects\n",
    "    n_flag = sum(y_pred[lr_decision>0])\n",
    "    print('Total number of flagged HPC-AD subjects: ', n_flag)\n",
    "\n",
    "    # number of flagged HPC-AD subjects who are actually AD (true positives)\n",
    "    n_flag_ad = sum(y_[lr_decision>0])\n",
    "    print('Number of flagged HPC-AD subjects that are TRUE positives: ', n_flag_ad)\n",
    "\n",
    "    # number of flagged HPC-AD subjects that are actually CN (false positives)\n",
    "    n_flag_cn = n_flag - n_flag_ad\n",
    "    print('Number of flagged HPC-AD subjects that are FALSE positives: ', n_flag_cn)\n",
    "\n",
    "    # number of CN subjects that were not flagged (true negatives)\n",
    "    n_neg_cn = n_cn - n_flag_cn\n",
    "    print('Number of true negatives: ', n_neg_cn)\n",
    "    \n",
    "    print('#############################')\n",
    "    print('Stage 1 stats for TARGET vs NON-TARGET')\n",
    "    print('Precision for AD: ', n_pos_ad/(n_pos_ad + n_pos_cn))\n",
    "    print('Recall (or sensitivity)  for AD: ', n_pos_ad/n_ad)\n",
    "    sens = n_pos_ad/n_ad\n",
    "    print('Specificity: ', n_neg1_cn/n_cn)\n",
    "    spec = n_neg1_cn/n_cn\n",
    "    fp = (1-spec)*664\n",
    "    tp = sens*336\n",
    "    adj_prec = tp/(tp+fp)\n",
    "    print('Adjusted precision for 33.6% baseline rate: ', adj_prec)\n",
    "    print('Accuracy: ', (n_pos_ad + n_neg1_cn)/(n_ad + n_cn))\n",
    "\n",
    "    print('#############################')\n",
    "    print('Stage 2 stats for TARGET vs NON-TARGET')\n",
    "    print('Precision for HPC-AD: ', n_flag_ad/n_flag)\n",
    "    print('Recall (or sensitivity) for HPC-AD: ', n_flag_ad/n_ad)\n",
    "    sens_2 = n_flag_ad/n_ad\n",
    "    print('Specificity: ', n_neg_cn/n_cn)\n",
    "    spec_2 = n_neg_cn/n_cn\n",
    "    fp_2 = (1-spec_2)*664\n",
    "    tp_2 = sens_2*336\n",
    "    adj_prec_2 = tp_2/(tp_2 + fp_2)\n",
    "    print('Adjusted precision for 33.6% baseline rate: ', adj_prec_2)\n",
    "    print('Accuracy: ', (n_flag_ad + n_neg_cn)/(n_ad + n_cn))"
   ]
  },
  {
   "cell_type": "code",
   "execution_count": 30,
   "metadata": {},
   "outputs": [
    {
     "data": {
      "image/png": "[encoded data removed]",
      "text/plain": [
       "<matplotlib.figure.Figure at 0x2b5e2854a3c8>"
      ]
     },
     "metadata": {},
     "output_type": "display_data"
    }
   ],
   "source": [
    "plt.hist(hpc.training_hit_probability,20)\n",
    "plt.ylim(0,300)\n",
    "plt.rcParams.update({'font.size': 18})"
   ]
  },
  {
   "cell_type": "code",
   "execution_count": null,
   "metadata": {},
   "outputs": [],
   "source": [
    "predic_stats()"
   ]
  },
  {
   "cell_type": "code",
   "execution_count": 17,
   "metadata": {},
   "outputs": [
    {
     "data": {
      "text/plain": [
       "dict_keys(['hcjoint', 's2df', 'hcdf', 's1df', 'hitproba'])"
      ]
     },
     "execution_count": 17,
     "metadata": {},
     "output_type": "execute_result"
    }
   ],
   "source": [
    "dic_results.keys()"
   ]
  },
  {
   "cell_type": "code",
   "execution_count": 13,
   "metadata": {},
   "outputs": [],
   "source": [
    "def stats_mask(y_true, y_pred, mask_selected=None):\n",
    "    if mask_selected is None:\n",
    "        mask_selected = np.ones(y_pred.shape).astype(bool)\n",
    "    print('------------------------')\n",
    "    print('Ratio:', y_true[mask_selected].sum()/y_true.sum()) \n",
    "    print('#    : ', y_true[mask_selected].sum()) \n",
    "    print('# true values: ',mask_selected.sum())\n",
    "    print('ACC  : ', np.mean((y_true == y_pred)[mask_selected]))"
   ]
  },
  {
   "cell_type": "code",
   "execution_count": 14,
   "metadata": {},
   "outputs": [
    {
     "name": "stdout",
     "output_type": "stream",
     "text": [
      "Level 1\n",
      "------------------------\n",
      "Ratio: 1.0\n",
      "#    :  182\n",
      "# true values:  370\n",
      "ACC  :  0.708108108108\n"
     ]
    }
   ],
   "source": [
    "print('Level 1')\n",
    "stats_mask(y_, (dic_results['s1df'][:,0]>0).astype(float))"
   ]
  },
  {
   "cell_type": "code",
   "execution_count": null,
   "metadata": {},
   "outputs": [],
   "source": []
  },
  {
   "cell_type": "code",
   "execution_count": 27,
   "metadata": {},
   "outputs": [
    {
     "ename": "NameError",
     "evalue": "name 'metrics' is not defined",
     "output_type": "error",
     "traceback": [
      "\u001b[0;31m---------------------------------------------------------------------------\u001b[0m",
      "\u001b[0;31mNameError\u001b[0m                                 Traceback (most recent call last)",
      "\u001b[0;32m<ipython-input-27-e776d729bb48>\u001b[0m in \u001b[0;36m<module>\u001b[0;34m()\u001b[0m\n\u001b[1;32m      1\u001b[0m \u001b[0mpos_mask\u001b[0m \u001b[0;34m=\u001b[0m \u001b[0;34m(\u001b[0m\u001b[0mdic_results\u001b[0m\u001b[0;34m[\u001b[0m\u001b[0;34m's2df'\u001b[0m\u001b[0;34m]\u001b[0m\u001b[0;34m[\u001b[0m\u001b[0;34m:\u001b[0m\u001b[0;34m,\u001b[0m\u001b[0;36m1\u001b[0m\u001b[0;34m]\u001b[0m\u001b[0;34m>\u001b[0m\u001b[0;36m0\u001b[0m\u001b[0;34m)\u001b[0m\u001b[0;34m\u001b[0m\u001b[0m\n\u001b[0;32m----> 2\u001b[0;31m \u001b[0macc_s2\u001b[0m \u001b[0;34m=\u001b[0m \u001b[0mmetrics\u001b[0m\u001b[0;34m.\u001b[0m\u001b[0maccuracy_score\u001b[0m\u001b[0;34m(\u001b[0m\u001b[0my_val\u001b[0m\u001b[0;34m[\u001b[0m\u001b[0mtmp_mask\u001b[0m\u001b[0;34m]\u001b[0m\u001b[0;34m,\u001b[0m \u001b[0;34m(\u001b[0m\u001b[0mdic_results\u001b[0m\u001b[0;34m[\u001b[0m\u001b[0;34m's1df'\u001b[0m\u001b[0;34m]\u001b[0m\u001b[0;34m[\u001b[0m\u001b[0;34m:\u001b[0m\u001b[0;34m,\u001b[0m\u001b[0;36m0\u001b[0m\u001b[0;34m]\u001b[0m\u001b[0;34m>\u001b[0m\u001b[0;36m0\u001b[0m\u001b[0;34m)\u001b[0m\u001b[0;34m.\u001b[0m\u001b[0mastype\u001b[0m\u001b[0;34m(\u001b[0m\u001b[0mfloat\u001b[0m\u001b[0;34m)\u001b[0m\u001b[0;34m[\u001b[0m\u001b[0mpos_mask\u001b[0m\u001b[0;34m]\u001b[0m\u001b[0;34m)\u001b[0m\u001b[0;34m\u001b[0m\u001b[0m\n\u001b[0m",
      "\u001b[0;31mNameError\u001b[0m: name 'metrics' is not defined"
     ]
    }
   ],
   "source": [
    "pos_mask = (dic_results['s2df'][:,1]>0)\n",
    "acc_s2 = metrics.accuracy_score(y_val[tmp_mask], (dic_results['s1df'][:,0]>0).astype(float)[pos_mask])"
   ]
  }
 ],
 "metadata": {
  "kernelspec": {
   "display_name": "Python 3",
   "language": "python",
   "name": "python3"
  },
  "language_info": {
   "codemirror_mode": {
    "name": "ipython",
    "version": 3
   },
   "file_extension": ".py",
   "mimetype": "text/x-python",
   "name": "python",
   "nbconvert_exporter": "python",
   "pygments_lexer": "ipython3",
   "version": "3.5.4"
  }
 },
 "nbformat": 4,
 "nbformat_minor": 2
}
