{
 "cells": [
  {
   "cell_type": "markdown",
   "metadata": {},
   "source": [
    "# Get the HPS model to run\n",
    "- get the inputs correct\n",
    "- run through all steps\n",
    "- get an accuracy estimate\n",
    "- now with subtype weights"
   ]
  },
  {
   "cell_type": "code",
   "execution_count": 1,
   "metadata": {},
   "outputs": [],
   "source": [
    "%matplotlib inline"
   ]
  },
  {
   "cell_type": "code",
   "execution_count": 2,
   "metadata": {},
   "outputs": [],
   "source": [
    "import os\n",
    "import re\n",
    "import sys\n",
    "sys.path.append('/home/surchs/git/HPS')\n",
    "from hps.predic import high_confidence\n",
    "from hps.visu import hps_visu\n",
    "sys.path.append('/home/surchs/git/HPS/examples/')\n",
    "import visu_demo\n",
    "\n",
    "import numpy as np\n",
    "import pandas as pd\n",
    "import nibabel as nib\n",
    "import sklearn as skl\n",
    "import scipy.io as sio\n",
    "import seaborn as sbn\n",
    "from scipy import stats as spt\n",
    "from matplotlib import pyplot as plt\n",
    "from sklearn.model_selection import StratifiedKFold"
   ]
  },
  {
   "cell_type": "code",
   "execution_count": 3,
   "metadata": {},
   "outputs": [
    {
     "data": {
      "text/plain": [
       "32"
      ]
     },
     "execution_count": 3,
     "metadata": {},
     "output_type": "execute_result"
    }
   ],
   "source": [
    "os.cpu_count()"
   ]
  },
  {
   "cell_type": "code",
   "execution_count": 4,
   "metadata": {},
   "outputs": [
    {
     "data": {
      "text/plain": [
       "'/project/6003287/PROJECT/abide_hps/repo/Analysis'"
      ]
     },
     "execution_count": 4,
     "metadata": {},
     "output_type": "execute_result"
    }
   ],
   "source": [
    "pwd"
   ]
  },
  {
   "cell_type": "code",
   "execution_count": 5,
   "metadata": {},
   "outputs": [],
   "source": [
    "import warnings\n",
    "warnings.filterwarnings('ignore')"
   ]
  },
  {
   "cell_type": "code",
   "execution_count": 6,
   "metadata": {},
   "outputs": [],
   "source": [
    "# Paths\n",
    "root_p = '/project/6003287/PROJECT/abide_hps/'\n",
    "# Pheno\n",
    "sample_p = os.path.join(root_p, 'pheno', 'psm_abide1.csv')\n",
    "validation_p = os.path.join(root_p, 'pheno', 'validation_abide1.csv')\n",
    "# Data\n",
    "mask_p = os.path.join(root_p, 'mask', 'MIST_mask.nii.gz')\n",
    "label_p = os.path.join(root_p, 'mask', 'roi_label_scale_20_overlap.csv')\n",
    "weight_fc_p = os.path.join(root_p, 'weights', 'weights_fc_psm.npy')\n",
    "weight_ct_p = os.path.join(root_p, 'weights', 'weights_ct_psm.npy')\n",
    "weight_fc_validation_p = os.path.join(root_p, 'weights', 'weights_fc_validation.npy')\n",
    "weight_ct_validation_p = os.path.join(root_p, 'weights', 'weights_ct_validation.npy')\n",
    "features_p = os.path.join(root_p, 'figures', 'features.png')"
   ]
  },
  {
   "cell_type": "code",
   "execution_count": 7,
   "metadata": {},
   "outputs": [],
   "source": [
    "# Load data\n",
    "sample = pd.read_csv(sample_p)\n",
    "sample['DX_CODE'] = sample['DX_GROUP'].replace({'Autism':1, 'Control':0})\n",
    "validation = pd.read_csv(validation_p)\n",
    "validation['DX_CODE'] = validation['DX_GROUP'].replace({'Autism':1, 'Control':0})\n",
    "label = pd.read_csv(label_p, delimiter=';')\n",
    "\n",
    "w_fc = np.load(weight_fc_p)\n",
    "w_ct = np.load(weight_ct_p)\n",
    "\n",
    "w_fc_val = np.load(weight_fc_validation_p)\n",
    "w_ct_val = np.load(weight_ct_validation_p)"
   ]
  },
  {
   "cell_type": "code",
   "execution_count": 8,
   "metadata": {},
   "outputs": [],
   "source": [
    "validation['new_site'] = [r['Site'].split('_')[0] for idx, r in validation.iterrows()]"
   ]
  },
  {
   "cell_type": "code",
   "execution_count": 9,
   "metadata": {},
   "outputs": [
    {
     "data": {
      "image/png": "[encoded data removed]",
      "text/plain": [
       "<Figure size 1080x360 with 1 Axes>"
      ]
     },
     "metadata": {},
     "output_type": "display_data"
    }
   ],
   "source": [
    "f = plt.figure(figsize=(15,5))\n",
    "ax = f.add_subplot(111)\n",
    "g = sbn.boxplot(data=validation, x='new_site', y='AGE_AT_SCAN', hue='DX_GROUP', ax=ax, color=sbn.set_palette(['tomato', 'lime']))\n",
    "g.set_xticklabels(g.get_xticklabels(), rotation=60);\n",
    "ax.set_xlabel('Sites');\n",
    "ax.set_ylabel('Age at scan');"
   ]
  },
  {
   "cell_type": "code",
   "execution_count": 10,
   "metadata": {},
   "outputs": [
    {
     "data": {
      "text/html": [
       "<div>\n",
       "<style scoped>\n",
       "    .dataframe tbody tr th:only-of-type {\n",
       "        vertical-align: middle;\n",
       "    }\n",
       "\n",
       "    .dataframe tbody tr th {\n",
       "        vertical-align: top;\n",
       "    }\n",
       "\n",
       "    .dataframe thead tr th {\n",
       "        text-align: left;\n",
       "    }\n",
       "\n",
       "    .dataframe thead tr:last-of-type th {\n",
       "        text-align: right;\n",
       "    }\n",
       "</style>\n",
       "<table border=\"1\" class=\"dataframe\">\n",
       "  <thead>\n",
       "    <tr>\n",
       "      <th></th>\n",
       "      <th colspan=\"8\" halign=\"left\">AGE_AT_SCAN</th>\n",
       "      <th colspan=\"8\" halign=\"left\">FD_scrubbed</th>\n",
       "    </tr>\n",
       "    <tr>\n",
       "      <th></th>\n",
       "      <th>count</th>\n",
       "      <th>mean</th>\n",
       "      <th>std</th>\n",
       "      <th>min</th>\n",
       "      <th>25%</th>\n",
       "      <th>50%</th>\n",
       "      <th>75%</th>\n",
       "      <th>max</th>\n",
       "      <th>count</th>\n",
       "      <th>mean</th>\n",
       "      <th>std</th>\n",
       "      <th>min</th>\n",
       "      <th>25%</th>\n",
       "      <th>50%</th>\n",
       "      <th>75%</th>\n",
       "      <th>max</th>\n",
       "    </tr>\n",
       "    <tr>\n",
       "      <th>DX_GROUP</th>\n",
       "      <th></th>\n",
       "      <th></th>\n",
       "      <th></th>\n",
       "      <th></th>\n",
       "      <th></th>\n",
       "      <th></th>\n",
       "      <th></th>\n",
       "      <th></th>\n",
       "      <th></th>\n",
       "      <th></th>\n",
       "      <th></th>\n",
       "      <th></th>\n",
       "      <th></th>\n",
       "      <th></th>\n",
       "      <th></th>\n",
       "      <th></th>\n",
       "    </tr>\n",
       "  </thead>\n",
       "  <tbody>\n",
       "    <tr>\n",
       "      <th>Autism</th>\n",
       "      <td>206.0</td>\n",
       "      <td>18.191032</td>\n",
       "      <td>9.099233</td>\n",
       "      <td>7.29</td>\n",
       "      <td>12.32</td>\n",
       "      <td>14.72</td>\n",
       "      <td>21.63115</td>\n",
       "      <td>64.0</td>\n",
       "      <td>206.0</td>\n",
       "      <td>0.197109</td>\n",
       "      <td>0.070534</td>\n",
       "      <td>0.070450</td>\n",
       "      <td>0.152391</td>\n",
       "      <td>0.193318</td>\n",
       "      <td>0.232396</td>\n",
       "      <td>0.832239</td>\n",
       "    </tr>\n",
       "    <tr>\n",
       "      <th>Control</th>\n",
       "      <td>255.0</td>\n",
       "      <td>17.914616</td>\n",
       "      <td>8.856966</td>\n",
       "      <td>7.00</td>\n",
       "      <td>11.56</td>\n",
       "      <td>15.10</td>\n",
       "      <td>21.05000</td>\n",
       "      <td>56.2</td>\n",
       "      <td>255.0</td>\n",
       "      <td>0.176915</td>\n",
       "      <td>0.059822</td>\n",
       "      <td>0.075722</td>\n",
       "      <td>0.133807</td>\n",
       "      <td>0.168624</td>\n",
       "      <td>0.207409</td>\n",
       "      <td>0.611376</td>\n",
       "    </tr>\n",
       "  </tbody>\n",
       "</table>\n",
       "</div>"
      ],
      "text/plain": [
       "         AGE_AT_SCAN                                                           \\\n",
       "               count       mean       std   min    25%    50%       75%   max   \n",
       "DX_GROUP                                                                        \n",
       "Autism         206.0  18.191032  9.099233  7.29  12.32  14.72  21.63115  64.0   \n",
       "Control        255.0  17.914616  8.856966  7.00  11.56  15.10  21.05000  56.2   \n",
       "\n",
       "         FD_scrubbed                                                    \\\n",
       "               count      mean       std       min       25%       50%   \n",
       "DX_GROUP                                                                 \n",
       "Autism         206.0  0.197109  0.070534  0.070450  0.152391  0.193318   \n",
       "Control        255.0  0.176915  0.059822  0.075722  0.133807  0.168624   \n",
       "\n",
       "                              \n",
       "               75%       max  \n",
       "DX_GROUP                      \n",
       "Autism    0.232396  0.832239  \n",
       "Control   0.207409  0.611376  "
      ]
     },
     "execution_count": 10,
     "metadata": {},
     "output_type": "execute_result"
    }
   ],
   "source": [
    "validation.groupby('DX_GROUP')[['AGE_AT_SCAN', 'FD_scrubbed']].describe()"
   ]
  },
  {
   "cell_type": "code",
   "execution_count": 11,
   "metadata": {},
   "outputs": [
    {
     "data": {
      "text/plain": [
       "count    370.000000\n",
       "mean      16.932382\n",
       "std        7.184384\n",
       "min        6.470000\n",
       "25%       11.552500\n",
       "50%       15.510400\n",
       "75%       20.337500\n",
       "max       52.000000\n",
       "Name: AGE_AT_SCAN, dtype: float64"
      ]
     },
     "execution_count": 11,
     "metadata": {},
     "output_type": "execute_result"
    }
   ],
   "source": [
    "sample['AGE_AT_SCAN'].describe()"
   ]
  },
  {
   "cell_type": "code",
   "execution_count": 12,
   "metadata": {},
   "outputs": [
    {
     "data": {
      "text/plain": [
       "Control    188\n",
       "Autism     182\n",
       "Name: DX_GROUP, dtype: int64"
      ]
     },
     "execution_count": 12,
     "metadata": {},
     "output_type": "execute_result"
    }
   ],
   "source": [
    "sample['DX_GROUP'].value_counts()"
   ]
  },
  {
   "cell_type": "code",
   "execution_count": 13,
   "metadata": {},
   "outputs": [
    {
     "data": {
      "text/plain": [
       "NYU         104\n",
       "USM          67\n",
       "UCLA_1       44\n",
       "Trinity      32\n",
       "KKI          32\n",
       "Pitt         32\n",
       "Leuven_1     21\n",
       "UM_1         16\n",
       "Yale          7\n",
       "MaxMun_a      6\n",
       "MaxMun_c      3\n",
       "MaxMun_d      3\n",
       "MaxMun_b      3\n",
       "Name: Site, dtype: int64"
      ]
     },
     "execution_count": 13,
     "metadata": {},
     "output_type": "execute_result"
    }
   ],
   "source": [
    "sample['Site'].value_counts()"
   ]
  },
  {
   "cell_type": "code",
   "execution_count": 14,
   "metadata": {},
   "outputs": [],
   "source": [
    "n_sub = sample.shape[0]\n",
    "n_subtypes = w_fc.shape[1]\n",
    "# Reshape FC to add to the table\n",
    "fc_weights = np.reshape(w_fc, (n_sub, n_subtypes*20))\n",
    "fc_cols = ['fc_n{}_s{}'.format(nid+1, sid+1) for sid in range(n_subtypes) for nid in range(20)]\n",
    "# Same for CT\n",
    "ct_weights = w_ct\n",
    "ct_cols = ['ct_s{}'.format(sid+1) for sid in range(n_subtypes)]\n",
    "# Combine both\n",
    "weights = np.concatenate((ct_weights, fc_weights),1)\n",
    "cols = ct_cols + fc_cols\n",
    "# Into a pandas DF\n",
    "w_data = pd.DataFrame(data=weights, columns=cols)\n",
    "# Combine both for the full dataset\n",
    "dataset = sample.join(w_data)"
   ]
  },
  {
   "cell_type": "code",
   "execution_count": 15,
   "metadata": {},
   "outputs": [],
   "source": [
    "n_sub_val = validation.shape[0]\n",
    "# Reshape FC to add to the table\n",
    "fc_weights_val = np.reshape(w_fc_val, (n_sub_val, n_subtypes*20))\n",
    "fc_cols = ['fc_n{}_s{}'.format(nid+1, sid+1) for sid in range(n_subtypes) for nid in range(20)]\n",
    "# Same for CT\n",
    "ct_weights_val = w_ct_val\n",
    "ct_cols = ['ct_s{}'.format(sid+1) for sid in range(n_subtypes)]\n",
    "# Combine both\n",
    "weights_val = np.concatenate((ct_weights_val, fc_weights_val),1)\n",
    "cols = ct_cols + fc_cols\n",
    "# Into a pandas DF\n",
    "w_data_val = pd.DataFrame(data=weights_val, columns=cols)\n",
    "# Combine both for the full dataset\n",
    "data_val = validation.join(w_data_val)"
   ]
  },
  {
   "cell_type": "code",
   "execution_count": 16,
   "metadata": {},
   "outputs": [],
   "source": [
    "# Select the features\n",
    "scaler = skl.preprocessing.StandardScaler()\n",
    "# Add BV to the subtype weights\n",
    "col_features = ['BV', 'AGE_AT_SCAN', 'FD_scrubbed', ] + cols\n",
    "\n",
    "# Build features\n",
    "x_ = dataset.loc[:, col_features]\n",
    "# Take the numeric diagnosis code\n",
    "y = dataset.loc[:, ['DX_CODE']].values.squeeze()\n",
    "# Normalize\n",
    "X = scaler.fit_transform(x_)\n",
    "#X = scaler.transform(x_)"
   ]
  },
  {
   "cell_type": "markdown",
   "metadata": {},
   "source": [
    "# Run the CV model"
   ]
  },
  {
   "cell_type": "code",
   "execution_count": 17,
   "metadata": {},
   "outputs": [],
   "source": [
    "ohe = skl.preprocessing.OneHotEncoder(sparse=False)\n",
    "ohe.fit(y.reshape(-1, 1))\n",
    "labels = ohe.transform(y.reshape(-1, 1))"
   ]
  },
  {
   "cell_type": "code",
   "execution_count": 18,
   "metadata": {
    "scrolled": true
   },
   "outputs": [
    {
     "name": "stdout",
     "output_type": "stream",
     "text": [
      "Stage 1\n",
      "Stage 2\n",
      "CV fold 1 classifying...\n",
      "Stage 1\n",
      "Stage 2\n",
      "CV fold 2 classifying...\n",
      "Stage 1\n",
      "Stage 2\n",
      "CV fold 3 classifying...\n",
      "Stage 1\n",
      "Stage 2\n",
      "CV fold 4 classifying...\n",
      "Stage 1\n",
      "Stage 2\n",
      "CV fold 5 classifying...\n",
      "Stage 1\n",
      "Stage 2\n",
      "CV fold 6 classifying...\n",
      "Stage 1\n",
      "Stage 2\n",
      "CV fold 7 classifying...\n",
      "Stage 1\n",
      "Stage 2\n",
      "CV fold 8 classifying...\n",
      "Stage 1\n",
      "Stage 2\n",
      "CV fold 9 classifying...\n",
      "Stage 1\n",
      "Stage 2\n",
      "CV fold 10 classifying...\n"
     ]
    },
    {
     "data": {
      "image/png": "[encoded data removed]",
      "text/plain": [
       "<Figure size 432x288 with 1 Axes>"
      ]
     },
     "metadata": {},
     "output_type": "display_data"
    },
    {
     "data": {
      "image/png": "[encoded data removed]",
      "text/plain": [
       "<Figure size 432x288 with 1 Axes>"
      ]
     },
     "metadata": {},
     "output_type": "display_data"
    },
    {
     "data": {
      "image/png": "[encoded data removed]",
      "text/plain": [
       "<Figure size 432x288 with 1 Axes>"
      ]
     },
     "metadata": {},
     "output_type": "display_data"
    },
    {
     "data": {
      "image/png": "[encoded data removed]",
      "text/plain": [
       "<Figure size 432x288 with 1 Axes>"
      ]
     },
     "metadata": {},
     "output_type": "display_data"
    },
    {
     "data": {
      "image/png": "[encoded data removed]",
      "text/plain": [
       "<Figure size 432x288 with 1 Axes>"
      ]
     },
     "metadata": {},
     "output_type": "display_data"
    },
    {
     "data": {
      "image/png": "[encoded data removed]",
      "text/plain": [
       "<Figure size 432x288 with 1 Axes>"
      ]
     },
     "metadata": {},
     "output_type": "display_data"
    },
    {
     "data": {
      "image/png": "[encoded data removed]",
      "text/plain": [
       "<Figure size 432x288 with 1 Axes>"
      ]
     },
     "metadata": {},
     "output_type": "display_data"
    },
    {
     "data": {
      "image/png": "[encoded data removed]",
      "text/plain": [
       "<Figure size 432x288 with 1 Axes>"
      ]
     },
     "metadata": {},
     "output_type": "display_data"
    },
    {
     "data": {
      "image/png": "[encoded data removed]",
      "text/plain": [
       "<Figure size 432x288 with 1 Axes>"
      ]
     },
     "metadata": {},
     "output_type": "display_data"
    },
    {
     "data": {
      "image/png": "[encoded data removed]",
      "text/plain": [
       "<Figure size 432x288 with 1 Axes>"
      ]
     },
     "metadata": {},
     "output_type": "display_data"
    },
    {
     "data": {
      "image/png": "[encoded data removed]",
      "text/plain": [
       "<Figure size 432x288 with 1 Axes>"
      ]
     },
     "metadata": {},
     "output_type": "display_data"
    },
    {
     "data": {
      "image/png": "[encoded data removed]",
      "text/plain": [
       "<Figure size 432x288 with 1 Axes>"
      ]
     },
     "metadata": {},
     "output_type": "display_data"
    },
    {
     "data": {
      "image/png": "[encoded data removed]",
      "text/plain": [
       "<Figure size 432x288 with 1 Axes>"
      ]
     },
     "metadata": {},
     "output_type": "display_data"
    },
    {
     "data": {
      "image/png": "[encoded data removed]",
      "text/plain": [
       "<Figure size 432x288 with 1 Axes>"
      ]
     },
     "metadata": {},
     "output_type": "display_data"
    },
    {
     "data": {
      "image/png": "[encoded data removed]",
      "text/plain": [
       "<Figure size 432x288 with 1 Axes>"
      ]
     },
     "metadata": {},
     "output_type": "display_data"
    },
    {
     "data": {
      "image/png": "[encoded data removed]",
      "text/plain": [
       "<Figure size 432x288 with 1 Axes>"
      ]
     },
     "metadata": {},
     "output_type": "display_data"
    },
    {
     "data": {
      "image/png": "[encoded data removed]",
      "text/plain": [
       "<Figure size 432x288 with 1 Axes>"
      ]
     },
     "metadata": {},
     "output_type": "display_data"
    },
    {
     "data": {
      "image/png": "[encoded data removed]",
      "text/plain": [
       "<Figure size 432x288 with 1 Axes>"
      ]
     },
     "metadata": {},
     "output_type": "display_data"
    },
    {
     "data": {
      "image/png": "[encoded data removed]",
      "text/plain": [
       "<Figure size 432x288 with 1 Axes>"
      ]
     },
     "metadata": {},
     "output_type": "display_data"
    },
    {
     "data": {
      "image/png": "[encoded data removed]",
      "text/plain": [
       "<Figure size 432x288 with 1 Axes>"
      ]
     },
     "metadata": {},
     "output_type": "display_data"
    }
   ],
   "source": [
    "scores_s1=[]\n",
    "scores_s2 = []\n",
    "y_target = []\n",
    "\n",
    "skf = StratifiedKFold(n_splits=10)\n",
    "it = 1\n",
    "for train_index, val_index in skf.split(X,y):\n",
    "    X_training, X_val = X[train_index], X[val_index]\n",
    "    y_training, y_val = y[train_index], y[val_index]\n",
    "        \n",
    "    hps = high_confidence.TwoStagesPrediction(verbose=False,\n",
    "                                          n_iter=1000,\n",
    "                                          shuffle_test_split=0.5,\n",
    "                                            gamma=0.98,\n",
    "                                          min_gamma=0.95,\n",
    "                                          thresh_ratio=0.1)\n",
    "    \n",
    "    hps.fit(X_training, y_training)\n",
    "    \n",
    "    scores, dic_results = hps.predict(X_val)\n",
    "    \n",
    "    # Test in validation sample\n",
    "    acc = skl.metrics.accuracy_score(y_val, (dic_results['s1_df'][:,0]>0).astype(float))\n",
    "    tmp_mask = (dic_results['s2_hat'][:,1]>0) & (dic_results['s1_df'][:,0]>0)\n",
    "    acc_s2 = skl.metrics.accuracy_score(y_val, (dic_results['s2_df'][:,1]>0).astype(float))\n",
    "    \n",
    "    scores_s1.append(dic_results['s1_hat'])\n",
    "    scores_s2.append(dic_results['s2_hat'])\n",
    "    \n",
    "    print('CV fold {} classifying...'.format(it))\n",
    "    it += 1\n",
    "    \n",
    "    plt.figure()\n",
    "    plt.hist(hps.training_hit_probability[y_training==0],10)\n",
    "    plt.figure()\n",
    "    plt.hist(hps.training_hit_probability[y_training==1],10)\n",
    "    \n",
    "    y_target.append(y_val)"
   ]
  },
  {
   "cell_type": "code",
   "execution_count": 19,
   "metadata": {},
   "outputs": [
    {
     "name": "stdout",
     "output_type": "stream",
     "text": [
      "##########################\n",
      "Stage 1 (BASE)\n",
      "Class 0 Precision: 58.64 Specificity: 56.59 Recall: 59.57 N: 191\n",
      "Class 1 Precision: 57.54 Specificity: 59.57 Recall: 56.59 N: 179\n",
      "Total Precision: 58.09 Specificity: 58.08 Recall: 58.08 N: 185\n",
      "Stage 2 (HPS)\n",
      "Class 0 Precision: 78.05 Specificity: 95.05 Recall: 17.02 N: 41\n",
      "Class 1 Precision: 85.00 Specificity: 96.81 Recall: 18.68 N: 40\n",
      "Total Precision: 81.52 Specificity: 95.93 Recall: 17.85 N: 40\n",
      "##########################\n"
     ]
    }
   ],
   "source": [
    "scores_s1 = np.vstack(scores_s1)\n",
    "scores_s2 = np.vstack(scores_s2)\n",
    "y_target = np.hstack(y_target)\n",
    "\n",
    "########################\n",
    "print('##########################')\n",
    "# S1\n",
    "y_mb = ohe.transform(y_target[:,np.newaxis])\n",
    "pred_y_ = scores_s1\n",
    "\n",
    "print('Stage 1 (BASE)')\n",
    "hps_visu.print_scores(hps_visu.scores(y_mb, pred_y_))\n",
    "\n",
    "\n",
    "# S2\n",
    "y_mb = ohe.transform(y_target[:,np.newaxis])\n",
    "pred_y_ = scores_s2\n",
    "\n",
    "print('Stage 2 (HPS)')\n",
    "hps_visu.print_scores(hps_visu.scores(y_mb, pred_y_)) \n",
    "print('##########################')"
   ]
  },
  {
   "cell_type": "markdown",
   "metadata": {},
   "source": [
    "That looks pretty good, let's run this on the entire training set and see if it generalizes to the validation set"
   ]
  },
  {
   "cell_type": "markdown",
   "metadata": {},
   "source": [
    "# Run the one-pass model"
   ]
  },
  {
   "cell_type": "code",
   "execution_count": 35,
   "metadata": {},
   "outputs": [
    {
     "name": "stdout",
     "output_type": "stream",
     "text": [
      "Stage 1\n",
      "Stage 2\n"
     ]
    },
    {
     "data": {
      "text/plain": [
       "(array([23., 17., 15., 11., 12., 12.,  9., 12., 18., 53.]),\n",
       " array([0. , 0.1, 0.2, 0.3, 0.4, 0.5, 0.6, 0.7, 0.8, 0.9, 1. ]),\n",
       " <a list of 10 Patch objects>)"
      ]
     },
     "execution_count": 35,
     "metadata": {},
     "output_type": "execute_result"
    },
    {
     "data": {
      "image/png": "[encoded data removed]",
      "text/plain": [
       "<Figure size 432x288 with 1 Axes>"
      ]
     },
     "metadata": {},
     "output_type": "display_data"
    },
    {
     "data": {
      "image/png": "[encoded data removed]",
      "text/plain": [
       "<Figure size 432x288 with 1 Axes>"
      ]
     },
     "metadata": {},
     "output_type": "display_data"
    }
   ],
   "source": [
    "res_hitproba = []\n",
    "\n",
    "hps_train = high_confidence.TwoStagesPrediction(verbose=False,\n",
    "                                          n_iter=1000,\n",
    "                                          shuffle_test_split=0.5,\n",
    "                                          gamma=0.98,\n",
    "                                          min_gamma=0.95,\n",
    "                                          thresh_ratio=0.1)\n",
    "hps_train.fit(X,y)\n",
    "res_hitproba = hps_train.training_hit_probability\n",
    "\n",
    "plt.figure()\n",
    "plt.title('Class 0 hit probability distribution')\n",
    "plt.hist(hps_train.training_hit_probability[y==0],10)\n",
    "plt.figure()\n",
    "plt.title('Class 1 hit probability distribution')\n",
    "plt.hist(hps_train.training_hit_probability[y==1],10)"
   ]
  },
  {
   "cell_type": "code",
   "execution_count": 40,
   "metadata": {},
   "outputs": [
    {
     "data": {
      "text/plain": [
       "0.7054054054054054"
      ]
     },
     "execution_count": 40,
     "metadata": {},
     "output_type": "execute_result"
    }
   ],
   "source": [
    "skl.metrics.accuracy_score(y, hps_train.basemodel.decision_function(X)>0)"
   ]
  },
  {
   "cell_type": "code",
   "execution_count": 41,
   "metadata": {},
   "outputs": [
    {
     "data": {
      "text/plain": [
       "0.6054054054054054"
      ]
     },
     "execution_count": 41,
     "metadata": {},
     "output_type": "execute_result"
    }
   ],
   "source": [
    "skl.metrics.accuracy_score(y, hps_train.confidencemodel.decision_function(X)[:, 1]>0)"
   ]
  },
  {
   "cell_type": "code",
   "execution_count": 42,
   "metadata": {
    "scrolled": true
   },
   "outputs": [
    {
     "name": "stdout",
     "output_type": "stream",
     "text": [
      "             precision    recall  f1-score   support\n",
      "\n",
      "          0       0.71      0.72      0.71       188\n",
      "          1       0.70      0.69      0.70       182\n",
      "\n",
      "avg / total       0.71      0.71      0.71       370\n",
      "\n"
     ]
    }
   ],
   "source": [
    "# Basemodel\n",
    "print(skl.metrics.classification_report(y, hps_train.basemodel.decision_function(X)>0))"
   ]
  },
  {
   "cell_type": "code",
   "execution_count": 43,
   "metadata": {},
   "outputs": [
    {
     "name": "stdout",
     "output_type": "stream",
     "text": [
      "             precision    recall  f1-score   support\n",
      "\n",
      "          0       0.56      1.00      0.72       188\n",
      "          1       1.00      0.20      0.33       182\n",
      "\n",
      "avg / total       0.78      0.61      0.53       370\n",
      "\n"
     ]
    }
   ],
   "source": [
    "# HPS model\n",
    "print(skl.metrics.classification_report(y, hps_train.confidencemodel.decision_function(X)[:, 1]>0))"
   ]
  },
  {
   "cell_type": "code",
   "execution_count": 44,
   "metadata": {},
   "outputs": [],
   "source": [
    "array_results, dict_results = hps_train.predict(X)"
   ]
  },
  {
   "cell_type": "code",
   "execution_count": 45,
   "metadata": {},
   "outputs": [],
   "source": [
    "#ind_hps = (dict_results['s1_df'].flatten()>0).astype(float)\n",
    "ind_hps = (dict_results['s2_df'][:,1]>0).astype(float)\n",
    "#ind_hps2 = dict_results['s2_df'].flatten()>0\n",
    "lr_decision = dict_results['s2_df'][:,1]"
   ]
  },
  {
   "cell_type": "code",
   "execution_count": 46,
   "metadata": {},
   "outputs": [
    {
     "name": "stdout",
     "output_type": "stream",
     "text": [
      "             precision    recall  f1-score   support\n",
      "\n",
      "          0       0.56      1.00      0.72       188\n",
      "          1       1.00      0.20      0.33       182\n",
      "\n",
      "avg / total       0.78      0.61      0.53       370\n",
      "\n"
     ]
    }
   ],
   "source": [
    "print(skl.metrics.classification_report(y, ind_hps))"
   ]
  },
  {
   "cell_type": "code",
   "execution_count": null,
   "metadata": {},
   "outputs": [],
   "source": [
    "scores_s1 = np.vstack(scores_s1)\n",
    "scores_s2 = np.vstack(scores_s2)\n",
    "y_target = np.hstack(y_target)\n",
    "\n",
    "########################\n",
    "print('##########################')\n",
    "# S1\n",
    "y_mb = ohe.transform(y_target[:,np.newaxis])\n",
    "pred_y_ = scores_s1\n",
    "\n",
    "print('Stage 1 (BASE)')\n",
    "hps_visu.print_scores(hps_visu.scores(y_mb, pred_y_))\n",
    "\n",
    "\n",
    "# S2\n",
    "y_mb = ohe.transform(y_target[:,np.newaxis])\n",
    "pred_y_ = scores_s2\n",
    "\n",
    "print('Stage 2 (HPS)')\n",
    "hps_visu.print_scores(hps_visu.scores(y_mb, pred_y_)) \n",
    "print('##########################')"
   ]
  },
  {
   "cell_type": "markdown",
   "metadata": {},
   "source": [
    "## Get a hold of the feature weights in the model"
   ]
  },
  {
   "cell_type": "code",
   "execution_count": 47,
   "metadata": {},
   "outputs": [],
   "source": [
    "# Get the feature weights for class 1 / second stage (not sure which)\n",
    "feature_weights = hps_train.confidencemodel.clfs[1].coef_\n",
    "# Get the non-zero weights\n",
    "non_zero = np.where(feature_weights!=0)[1]"
   ]
  },
  {
   "cell_type": "code",
   "execution_count": 48,
   "metadata": {},
   "outputs": [],
   "source": [
    "col_nonzero = [col_features[ind] for ind in non_zero]\n",
    "\n",
    "feature_type = list()\n",
    "for col in col_nonzero:\n",
    "    if 'ct' in col:\n",
    "        feature_type.append('Anatomical')\n",
    "    elif 'fc' in col:\n",
    "        feature_type.append('Functional')\n",
    "    else:\n",
    "        feature_type.append('Phenotype')\n",
    "data = {'weights':feature_weights[0, non_zero],\n",
    "            'feature':col_nonzero,\n",
    "            'feature_type':feature_type}\n",
    "weights = pd.DataFrame(data=data)"
   ]
  },
  {
   "cell_type": "code",
   "execution_count": 49,
   "metadata": {},
   "outputs": [
    {
     "data": {
      "text/plain": [
       "(40,)"
      ]
     },
     "execution_count": 49,
     "metadata": {},
     "output_type": "execute_result"
    }
   ],
   "source": [
    "non_zero.shape"
   ]
  },
  {
   "cell_type": "code",
   "execution_count": 29,
   "metadata": {},
   "outputs": [],
   "source": [
    "fc_sorted = ['fc_n{}_s{}'.format(nid+1, sid+1) for nid in range(20) for sid in range(n_subtypes) \n",
    "           if 'fc_n{}_s{}'.format(nid+1, sid+1) in col_nonzero]\n",
    "col_sorted = ['BV', 'AGE_AT_SCAN'] + ['ct_s1', 'ct_s5'] + fc_sorted\n",
    "sort_ind = [col_features.index(feat) for feat in col_sorted]"
   ]
  },
  {
   "cell_type": "code",
   "execution_count": 30,
   "metadata": {},
   "outputs": [
    {
     "data": {
      "text/plain": [
       "'BG_THAL'"
      ]
     },
     "execution_count": 30,
     "metadata": {},
     "output_type": "execute_result"
    }
   ],
   "source": [
    "label[label['roi']==1]['label'].values[0]"
   ]
  },
  {
   "cell_type": "code",
   "execution_count": 46,
   "metadata": {},
   "outputs": [],
   "source": [
    "feature_type = list()\n",
    "feature_names = list()\n",
    "for col in col_sorted:\n",
    "    if 'ct' in col:\n",
    "        feature_type.append('Anatomical')\n",
    "    elif 'fc' in col:\n",
    "        feature_type.append('Functional')\n",
    "    else:\n",
    "        feature_type.append('Phenotype')\n",
    "    # Get the real name, yo\n",
    "    net_s = re.search(r'(?<=fc_n)[0-9]+', col)\n",
    "    sub_s = re.search(r'(?<=_s)[0-9]', col)\n",
    "    if net_s and sub_s:\n",
    "        net = int(net_s.group())\n",
    "        net_name = label[label['roi']==net]['label'].values[0]\n",
    "        sub = int(sub_s.group())\n",
    "        f_name = 'FC_{}_subtype_{}'.format(net_name, sub)\n",
    "        feature_names.append(f_name)\n",
    "    elif sub_s and 'ct' in col:\n",
    "        sub = int(sub_s.group())\n",
    "        f_name = 'CT_subtype_{}'.format(sub)\n",
    "        feature_names.append(f_name)\n",
    "    else:\n",
    "        feature_names.append(col)\n",
    "        \n",
    "data_sorted = {'weights':feature_weights[0, sort_ind],\n",
    "            'feature':feature_names,\n",
    "            'feature_type':feature_type}\n",
    "weights_sorted = pd.DataFrame(data=data_sorted)"
   ]
  },
  {
   "cell_type": "code",
   "execution_count": 55,
   "metadata": {},
   "outputs": [
    {
     "data": {
      "image/png": "[encoded data removed]",
      "text/plain": [
       "<matplotlib.figure.Figure at 0x2aeb60077d68>"
      ]
     },
     "metadata": {},
     "output_type": "display_data"
    }
   ],
   "source": [
    "f = plt.figure(figsize=(15,8))\n",
    "ax = f.add_subplot(111)\n",
    "#g = sbn.barplot(x='feature', y='weights', data=weights, hue='feature_type', ax=ax)\n",
    "g = sbn.barplot(x='feature', y='weights', data=weights, ax=ax, ci=None, color='steelblue')\n",
    "g.set(xlabel='Non-zero Features', ylabel='Feature Weights of HPS model')\n",
    "plt.xticks(rotation=90)\n"
   ]
  },
  {
   "cell_type": "code",
   "execution_count": 56,
   "metadata": {},
   "outputs": [
    {
     "data": {
      "image/png": "[encoded data removed]",
      "text/plain": [
       "<matplotlib.figure.Figure at 0x2aeb601075f8>"
      ]
     },
     "metadata": {},
     "output_type": "display_data"
    }
   ],
   "source": [
    "f = plt.figure(figsize=(15,8))\n",
    "ax = f.add_subplot(111)\n",
    "#g = sbn.barplot(x='feature', y='weights', data=weights, hue='feature_type', ax=ax)\n",
    "g = sbn.barplot(x='feature', y='weights', data=weights_sorted, ax=ax, ci=None, color='steelblue')\n",
    "g.set(xlabel='Non-zero Features', ylabel='Feature Weights of HPS model')\n",
    "plt.xticks(rotation=90)\n",
    "f.savefig(features_p, dpi=300, bbox_inches='tight', pad_inches=0)"
   ]
  },
  {
   "cell_type": "markdown",
   "metadata": {},
   "source": [
    "# Run the validation"
   ]
  },
  {
   "cell_type": "code",
   "execution_count": 50,
   "metadata": {},
   "outputs": [],
   "source": [
    "# Add BV to the subtype weights\n",
    "col_features = ['BV', 'AGE_AT_SCAN', 'FD_scrubbed', ] + cols\n",
    "\n",
    "# Build features\n",
    "x_val = data_val.loc[:, col_features]\n",
    "# Take the numeric diagnosis code\n",
    "y_val = data_val.loc[:, ['DX_CODE']].values.squeeze()\n",
    "# Normalize according to the training data\n",
    "X_val = scaler.transform(x_val)"
   ]
  },
  {
   "cell_type": "code",
   "execution_count": 54,
   "metadata": {},
   "outputs": [
    {
     "name": "stdout",
     "output_type": "stream",
     "text": [
      "             precision    recall  f1-score   support\n",
      "\n",
      "          0       0.62      0.56      0.59       255\n",
      "          1       0.52      0.57      0.54       206\n",
      "\n",
      "avg / total       0.57      0.57      0.57       461\n",
      "\n"
     ]
    }
   ],
   "source": [
    "print(skl.metrics.classification_report(y_val, hps_train.basemodel.decision_function(X_val)>0))"
   ]
  },
  {
   "cell_type": "code",
   "execution_count": 55,
   "metadata": {},
   "outputs": [
    {
     "name": "stdout",
     "output_type": "stream",
     "text": [
      "             precision    recall  f1-score   support\n",
      "\n",
      "          0       0.57      0.95      0.71       255\n",
      "          1       0.62      0.11      0.19       206\n",
      "\n",
      "avg / total       0.59      0.57      0.48       461\n",
      "\n"
     ]
    }
   ],
   "source": [
    "print(skl.metrics.classification_report(y_val, hps_train.confidencemodel.decision_function(X_val)[:, 1]>0))"
   ]
  },
  {
   "cell_type": "code",
   "execution_count": 58,
   "metadata": {},
   "outputs": [
    {
     "ename": "IndexError",
     "evalue": "index 1 is out of bounds for axis 1 with size 1",
     "output_type": "error",
     "traceback": [
      "\u001b[0;31m---------------------------------------------------------------------------\u001b[0m",
      "\u001b[0;31mIndexError\u001b[0m                                Traceback (most recent call last)",
      "\u001b[0;32m<ipython-input-58-75ec1645f55c>\u001b[0m in \u001b[0;36m<module>\u001b[0;34m()\u001b[0m\n\u001b[1;32m      1\u001b[0m \u001b[0my_mb_val\u001b[0m \u001b[0;34m=\u001b[0m \u001b[0mohe\u001b[0m\u001b[0;34m.\u001b[0m\u001b[0mtransform\u001b[0m\u001b[0;34m(\u001b[0m\u001b[0my_val\u001b[0m\u001b[0;34m[\u001b[0m\u001b[0;34m:\u001b[0m\u001b[0;34m,\u001b[0m\u001b[0mnp\u001b[0m\u001b[0;34m.\u001b[0m\u001b[0mnewaxis\u001b[0m\u001b[0;34m]\u001b[0m\u001b[0;34m)\u001b[0m\u001b[0;34m\u001b[0m\u001b[0m\n\u001b[0;32m----> 2\u001b[0;31m \u001b[0mhps_visu\u001b[0m\u001b[0;34m.\u001b[0m\u001b[0mprint_scores\u001b[0m\u001b[0;34m(\u001b[0m\u001b[0mhps_visu\u001b[0m\u001b[0;34m.\u001b[0m\u001b[0mscores\u001b[0m\u001b[0;34m(\u001b[0m\u001b[0my_mb_val\u001b[0m\u001b[0;34m,\u001b[0m \u001b[0mhps_train\u001b[0m\u001b[0;34m.\u001b[0m\u001b[0mconfidencemodel\u001b[0m\u001b[0;34m.\u001b[0m\u001b[0mdecision_function\u001b[0m\u001b[0;34m(\u001b[0m\u001b[0mX_val\u001b[0m\u001b[0;34m)\u001b[0m\u001b[0;34m[\u001b[0m\u001b[0;34m:\u001b[0m\u001b[0;34m,\u001b[0m \u001b[0;36m1\u001b[0m\u001b[0;34m]\u001b[0m\u001b[0;34m>\u001b[0m\u001b[0;36m0\u001b[0m\u001b[0;34m)\u001b[0m\u001b[0;34m)\u001b[0m\u001b[0;34m\u001b[0m\u001b[0m\n\u001b[0m",
      "\u001b[0;32m~/git/HPS/hps/visu/hps_visu.py\u001b[0m in \u001b[0;36mscores\u001b[0;34m(y_ref, y_pred)\u001b[0m\n\u001b[1;32m    235\u001b[0m     \u001b[0;32mfor\u001b[0m \u001b[0mii\u001b[0m \u001b[0;32min\u001b[0m \u001b[0mrange\u001b[0m\u001b[0;34m(\u001b[0m\u001b[0my_ref\u001b[0m\u001b[0;34m.\u001b[0m\u001b[0mshape\u001b[0m\u001b[0;34m[\u001b[0m\u001b[0;36m1\u001b[0m\u001b[0;34m]\u001b[0m\u001b[0;34m)\u001b[0m\u001b[0;34m:\u001b[0m\u001b[0;34m\u001b[0m\u001b[0m\n\u001b[1;32m    236\u001b[0m         \u001b[0;31m# print ii\u001b[0m\u001b[0;34m\u001b[0m\u001b[0;34m\u001b[0m\u001b[0m\n\u001b[0;32m--> 237\u001b[0;31m         \u001b[0mtn\u001b[0m\u001b[0;34m,\u001b[0m \u001b[0mfp\u001b[0m\u001b[0;34m,\u001b[0m \u001b[0mfn\u001b[0m\u001b[0;34m,\u001b[0m \u001b[0mtp\u001b[0m \u001b[0;34m=\u001b[0m \u001b[0mmetrics\u001b[0m\u001b[0;34m.\u001b[0m\u001b[0mconfusion_matrix\u001b[0m\u001b[0;34m(\u001b[0m\u001b[0my_ref\u001b[0m\u001b[0;34m[\u001b[0m\u001b[0;34m:\u001b[0m\u001b[0;34m,\u001b[0m \u001b[0mii\u001b[0m\u001b[0;34m]\u001b[0m\u001b[0;34m,\u001b[0m \u001b[0my_pred\u001b[0m\u001b[0;34m[\u001b[0m\u001b[0;34m:\u001b[0m\u001b[0;34m,\u001b[0m \u001b[0mii\u001b[0m\u001b[0;34m]\u001b[0m\u001b[0;34m)\u001b[0m\u001b[0;34m.\u001b[0m\u001b[0mravel\u001b[0m\u001b[0;34m(\u001b[0m\u001b[0;34m)\u001b[0m\u001b[0;34m.\u001b[0m\u001b[0mastype\u001b[0m\u001b[0;34m(\u001b[0m\u001b[0mfloat\u001b[0m\u001b[0;34m)\u001b[0m\u001b[0;34m\u001b[0m\u001b[0m\n\u001b[0m\u001b[1;32m    238\u001b[0m \u001b[0;34m\u001b[0m\u001b[0m\n\u001b[1;32m    239\u001b[0m         \u001b[0mprecision\u001b[0m \u001b[0;34m=\u001b[0m \u001b[0mtp\u001b[0m \u001b[0;34m/\u001b[0m \u001b[0;34m(\u001b[0m\u001b[0mtp\u001b[0m \u001b[0;34m+\u001b[0m \u001b[0mfp\u001b[0m\u001b[0;34m)\u001b[0m\u001b[0;34m\u001b[0m\u001b[0m\n",
      "\u001b[0;31mIndexError\u001b[0m: index 1 is out of bounds for axis 1 with size 1"
     ]
    }
   ],
   "source": [
    "y_mb_val = ohe.transform(y_val[:,np.newaxis])\n",
    "hps_visu.print_scores(hps_visu.scores(y_mb_val, hps_train.confidencemodel.decision_function(X_val)[:, 1]>0)) "
   ]
  },
  {
   "cell_type": "markdown",
   "metadata": {},
   "source": [
    "# Look at the composition of the groups"
   ]
  },
  {
   "cell_type": "code",
   "execution_count": 51,
   "metadata": {},
   "outputs": [],
   "source": [
    "# Identify people classified as easy cases\n",
    "HPS_ind = ind_hps==1"
   ]
  },
  {
   "cell_type": "code",
   "execution_count": null,
   "metadata": {},
   "outputs": [],
   "source": []
  },
  {
   "cell_type": "code",
   "execution_count": 52,
   "metadata": {},
   "outputs": [],
   "source": [
    "# Give me three classes here\n",
    "asd_hps = [True if HPS_ind[rid]==1 and row['DX_GROUP']=='Autism' else False for rid, row in sample.iterrows()]\n",
    "asd_ns = [True if HPS_ind[rid]==0 and row['DX_GROUP']=='Autism' else False for rid, row in sample.iterrows()]\n",
    "tdc = [True if row['DX_GROUP']=='Control' else False for rid, row in sample.iterrows()]\n",
    "group = list()\n",
    "for rid, row in sample.iterrows():\n",
    "    if asd_hps[rid]:\n",
    "        group.append('ASD_HPS')\n",
    "    elif asd_ns[rid]:\n",
    "        group.append('ASD_NS')\n",
    "    else:\n",
    "        group.append('TDC')\n",
    "results = sample.copy()\n",
    "results['Group'] = group\n",
    "# Remove missing values\n",
    "results.replace({col:{-9999:None} for col in results.columns}, inplace=True)"
   ]
  },
  {
   "cell_type": "markdown",
   "metadata": {},
   "source": [
    "## Age"
   ]
  },
  {
   "cell_type": "code",
   "execution_count": 46,
   "metadata": {},
   "outputs": [],
   "source": [
    "import statsmodels.api as sm\n",
    "from statsmodels.formula.api import ols\n",
    "from statsmodels.stats.multicomp import pairwise_tukeyhsd"
   ]
  },
  {
   "cell_type": "code",
   "execution_count": 46,
   "metadata": {},
   "outputs": [
    {
     "data": {
      "text/plain": [
       "<matplotlib.axes._subplots.AxesSubplot at 0x2b26b7f3c908>"
      ]
     },
     "execution_count": 46,
     "metadata": {},
     "output_type": "execute_result"
    },
    {
     "data": {
      "image/png": "[encoded data removed]",
      "text/plain": [
       "<matplotlib.figure.Figure at 0x2b26b6a65d30>"
      ]
     },
     "metadata": {},
     "output_type": "display_data"
    }
   ],
   "source": [
    "sbn.barplot(x='Group', y='AGE_AT_SCAN', data=results)"
   ]
  },
  {
   "cell_type": "code",
   "execution_count": 62,
   "metadata": {},
   "outputs": [
    {
     "data": {
      "text/html": [
       "<div>\n",
       "<table border=\"1\" class=\"dataframe\">\n",
       "  <thead>\n",
       "    <tr style=\"text-align: right;\">\n",
       "      <th></th>\n",
       "      <th>sum_sq</th>\n",
       "      <th>df</th>\n",
       "      <th>F</th>\n",
       "      <th>PR(&gt;F)</th>\n",
       "    </tr>\n",
       "  </thead>\n",
       "  <tbody>\n",
       "    <tr>\n",
       "      <th>Group</th>\n",
       "      <td>2.912911</td>\n",
       "      <td>2.0</td>\n",
       "      <td>0.028069</td>\n",
       "      <td>0.972324</td>\n",
       "    </tr>\n",
       "    <tr>\n",
       "      <th>Residual</th>\n",
       "      <td>19043.159714</td>\n",
       "      <td>367.0</td>\n",
       "      <td>NaN</td>\n",
       "      <td>NaN</td>\n",
       "    </tr>\n",
       "  </tbody>\n",
       "</table>\n",
       "</div>"
      ],
      "text/plain": [
       "                sum_sq     df         F    PR(>F)\n",
       "Group         2.912911    2.0  0.028069  0.972324\n",
       "Residual  19043.159714  367.0       NaN       NaN"
      ]
     },
     "execution_count": 62,
     "metadata": {},
     "output_type": "execute_result"
    }
   ],
   "source": [
    "lm = ols('AGE_AT_SCAN ~ Group',\n",
    "               data=results).fit()\n",
    "table = sm.stats.anova_lm(lm, typ=2)\n",
    "table"
   ]
  },
  {
   "cell_type": "markdown",
   "metadata": {},
   "source": [
    "No age differences. Nice, nice"
   ]
  },
  {
   "cell_type": "code",
   "execution_count": 44,
   "metadata": {},
   "outputs": [
    {
     "data": {
      "text/plain": [
       "<matplotlib.axes._subplots.AxesSubplot at 0x2b7bdf803c50>"
      ]
     },
     "execution_count": 44,
     "metadata": {},
     "output_type": "execute_result"
    },
    {
     "data": {
      "image/png": "[encoded data removed]",
      "text/plain": [
       "<matplotlib.figure.Figure at 0x2b7bceca6f60>"
      ]
     },
     "metadata": {},
     "output_type": "display_data"
    }
   ],
   "source": [
    "sbn.barplot(x='Group', y='BV', data=results)"
   ]
  },
  {
   "cell_type": "code",
   "execution_count": 47,
   "metadata": {},
   "outputs": [
    {
     "data": {
      "text/html": [
       "<div>\n",
       "<table border=\"1\" class=\"dataframe\">\n",
       "  <thead>\n",
       "    <tr style=\"text-align: right;\">\n",
       "      <th></th>\n",
       "      <th>sum_sq</th>\n",
       "      <th>df</th>\n",
       "      <th>F</th>\n",
       "      <th>PR(&gt;F)</th>\n",
       "    </tr>\n",
       "  </thead>\n",
       "  <tbody>\n",
       "    <tr>\n",
       "      <th>Group</th>\n",
       "      <td>1.078890e+10</td>\n",
       "      <td>2.0</td>\n",
       "      <td>0.483176</td>\n",
       "      <td>0.617213</td>\n",
       "    </tr>\n",
       "    <tr>\n",
       "      <th>Residual</th>\n",
       "      <td>4.097392e+12</td>\n",
       "      <td>367.0</td>\n",
       "      <td>NaN</td>\n",
       "      <td>NaN</td>\n",
       "    </tr>\n",
       "  </tbody>\n",
       "</table>\n",
       "</div>"
      ],
      "text/plain": [
       "                sum_sq     df         F    PR(>F)\n",
       "Group     1.078890e+10    2.0  0.483176  0.617213\n",
       "Residual  4.097392e+12  367.0       NaN       NaN"
      ]
     },
     "execution_count": 47,
     "metadata": {},
     "output_type": "execute_result"
    }
   ],
   "source": [
    "lm = ols('BV ~ Group',\n",
    "               data=results).fit()\n",
    "table = sm.stats.anova_lm(lm, typ=2)\n",
    "table"
   ]
  },
  {
   "cell_type": "code",
   "execution_count": 48,
   "metadata": {},
   "outputs": [
    {
     "name": "stdout",
     "output_type": "stream",
     "text": [
      "   Multiple Comparison of Means - Tukey HSD,FWER=0.05  \n",
      "=======================================================\n",
      " group1 group2  meandiff     lower      upper    reject\n",
      "-------------------------------------------------------\n",
      "ASD_HPS ASD_NS 14525.4546 -31746.5724 60797.4817 False \n",
      "ASD_HPS  TDC   18778.1541 -26459.9445 64016.2528 False \n",
      " ASD_NS  TDC   4252.6995  -23177.4636 31682.8626 False \n",
      "-------------------------------------------------------\n"
     ]
    }
   ],
   "source": [
    "pwt = pairwise_tukeyhsd(results['BV'], results['Group'], alpha=0.05)\n",
    "print(pwt)"
   ]
  },
  {
   "cell_type": "markdown",
   "metadata": {},
   "source": [
    "## Motion"
   ]
  },
  {
   "cell_type": "code",
   "execution_count": 25,
   "metadata": {},
   "outputs": [
    {
     "data": {
      "text/plain": [
       "<matplotlib.axes._subplots.AxesSubplot at 0x2adfe3579cf8>"
      ]
     },
     "execution_count": 25,
     "metadata": {},
     "output_type": "execute_result"
    },
    {
     "data": {
      "image/png": "[encoded data removed]",
      "text/plain": [
       "<matplotlib.figure.Figure at 0x2adfe01e12b0>"
      ]
     },
     "metadata": {},
     "output_type": "display_data"
    }
   ],
   "source": [
    "sbn.barplot(x='Group', y='FD_scrubbed', data=results)"
   ]
  },
  {
   "cell_type": "code",
   "execution_count": 63,
   "metadata": {},
   "outputs": [
    {
     "data": {
      "text/html": [
       "<div>\n",
       "<table border=\"1\" class=\"dataframe\">\n",
       "  <thead>\n",
       "    <tr style=\"text-align: right;\">\n",
       "      <th></th>\n",
       "      <th>sum_sq</th>\n",
       "      <th>df</th>\n",
       "      <th>F</th>\n",
       "      <th>PR(&gt;F)</th>\n",
       "    </tr>\n",
       "  </thead>\n",
       "  <tbody>\n",
       "    <tr>\n",
       "      <th>Group</th>\n",
       "      <td>0.000604</td>\n",
       "      <td>2.0</td>\n",
       "      <td>0.152349</td>\n",
       "      <td>0.858743</td>\n",
       "    </tr>\n",
       "    <tr>\n",
       "      <th>Residual</th>\n",
       "      <td>0.727181</td>\n",
       "      <td>367.0</td>\n",
       "      <td>NaN</td>\n",
       "      <td>NaN</td>\n",
       "    </tr>\n",
       "  </tbody>\n",
       "</table>\n",
       "</div>"
      ],
      "text/plain": [
       "            sum_sq     df         F    PR(>F)\n",
       "Group     0.000604    2.0  0.152349  0.858743\n",
       "Residual  0.727181  367.0       NaN       NaN"
      ]
     },
     "execution_count": 63,
     "metadata": {},
     "output_type": "execute_result"
    }
   ],
   "source": [
    "lm = ols('FD_scrubbed ~ Group',\n",
    "               data=results).fit()\n",
    "table = sm.stats.anova_lm(lm, typ=2)\n",
    "table"
   ]
  },
  {
   "cell_type": "code",
   "execution_count": 70,
   "metadata": {},
   "outputs": [
    {
     "name": "stdout",
     "output_type": "stream",
     "text": [
      "Multiple Comparison of Means - Tukey HSD,FWER=0.05\n",
      "=============================================\n",
      " group1 group2 meandiff  lower  upper  reject\n",
      "---------------------------------------------\n",
      "ASD_HPS ASD_NS -0.0044  -0.0239 0.0151 False \n",
      "ASD_HPS  TDC   -0.0029  -0.0219 0.0162 False \n",
      " ASD_NS  TDC    0.0015   -0.01  0.0131 False \n",
      "---------------------------------------------\n"
     ]
    }
   ],
   "source": [
    "pwt = pairwise_tukeyhsd(results['FD_scrubbed'], results['Group'], alpha=0.05)\n",
    "print(pwt)"
   ]
  },
  {
   "cell_type": "markdown",
   "metadata": {},
   "source": [
    "Also no apparent motion differences, maybe a slight trend for the ASD HPS guys"
   ]
  },
  {
   "cell_type": "markdown",
   "metadata": {},
   "source": [
    "## FIQ\n",
    "Now for the more relevant stuff"
   ]
  },
  {
   "cell_type": "code",
   "execution_count": 26,
   "metadata": {},
   "outputs": [
    {
     "data": {
      "text/plain": [
       "<matplotlib.axes._subplots.AxesSubplot at 0x2adfe36e3400>"
      ]
     },
     "execution_count": 26,
     "metadata": {},
     "output_type": "execute_result"
    },
    {
     "data": {
      "image/png": "[encoded data removed]",
      "text/plain": [
       "<matplotlib.figure.Figure at 0x2adfe36ec320>"
      ]
     },
     "metadata": {},
     "output_type": "display_data"
    }
   ],
   "source": [
    "sbn.barplot(x='Group', y='FIQ', data=results)"
   ]
  },
  {
   "cell_type": "code",
   "execution_count": 64,
   "metadata": {},
   "outputs": [
    {
     "data": {
      "text/html": [
       "<div>\n",
       "<table border=\"1\" class=\"dataframe\">\n",
       "  <thead>\n",
       "    <tr style=\"text-align: right;\">\n",
       "      <th></th>\n",
       "      <th>sum_sq</th>\n",
       "      <th>df</th>\n",
       "      <th>F</th>\n",
       "      <th>PR(&gt;F)</th>\n",
       "    </tr>\n",
       "  </thead>\n",
       "  <tbody>\n",
       "    <tr>\n",
       "      <th>Group</th>\n",
       "      <td>6264.911021</td>\n",
       "      <td>2.0</td>\n",
       "      <td>14.292807</td>\n",
       "      <td>0.000001</td>\n",
       "    </tr>\n",
       "    <tr>\n",
       "      <th>Residual</th>\n",
       "      <td>79994.523761</td>\n",
       "      <td>365.0</td>\n",
       "      <td>NaN</td>\n",
       "      <td>NaN</td>\n",
       "    </tr>\n",
       "  </tbody>\n",
       "</table>\n",
       "</div>"
      ],
      "text/plain": [
       "                sum_sq     df          F    PR(>F)\n",
       "Group      6264.911021    2.0  14.292807  0.000001\n",
       "Residual  79994.523761  365.0        NaN       NaN"
      ]
     },
     "execution_count": 64,
     "metadata": {},
     "output_type": "execute_result"
    }
   ],
   "source": [
    "lm = ols('FIQ ~ Group',\n",
    "               data=results).fit()\n",
    "table = sm.stats.anova_lm(lm, typ=2)\n",
    "table"
   ]
  },
  {
   "cell_type": "code",
   "execution_count": 76,
   "metadata": {},
   "outputs": [
    {
     "name": "stdout",
     "output_type": "stream",
     "text": [
      "Multiple Comparison of Means - Tukey HSD,FWER=0.05\n",
      "==============================================\n",
      " group1 group2 meandiff  lower   upper  reject\n",
      "----------------------------------------------\n",
      "ASD_HPS ASD_NS  0.5539  -5.9337  7.0416 False \n",
      "ASD_HPS  TDC    8.6911    2.35  15.0322  True \n",
      " ASD_NS  TDC    8.1372   4.282  11.9924  True \n",
      "----------------------------------------------\n"
     ]
    }
   ],
   "source": [
    "temp = results.dropna(subset=['FIQ'])\n",
    "pwt = pairwise_tukeyhsd(temp['FIQ'], temp['Group'], alpha=0.05)\n",
    "print(pwt)"
   ]
  },
  {
   "cell_type": "markdown",
   "metadata": {},
   "source": [
    "No difference between the ASD groups"
   ]
  },
  {
   "cell_type": "code",
   "execution_count": 27,
   "metadata": {},
   "outputs": [
    {
     "data": {
      "text/plain": [
       "<matplotlib.axes._subplots.AxesSubplot at 0x2adfe368df60>"
      ]
     },
     "execution_count": 27,
     "metadata": {},
     "output_type": "execute_result"
    },
    {
     "data": {
      "image/png": "[encoded data removed]",
      "text/plain": [
       "<matplotlib.figure.Figure at 0x2adfe3906cc0>"
      ]
     },
     "metadata": {},
     "output_type": "display_data"
    }
   ],
   "source": [
    "sbn.barplot(x='Group', y='VIQ', data=results)"
   ]
  },
  {
   "cell_type": "code",
   "execution_count": 28,
   "metadata": {},
   "outputs": [
    {
     "data": {
      "text/plain": [
       "<matplotlib.axes._subplots.AxesSubplot at 0x2adfe36a75f8>"
      ]
     },
     "execution_count": 28,
     "metadata": {},
     "output_type": "execute_result"
    },
    {
     "data": {
      "image/png": "[encoded data removed]",
      "text/plain": [
       "<matplotlib.figure.Figure at 0x2adfb6b36470>"
      ]
     },
     "metadata": {},
     "output_type": "display_data"
    }
   ],
   "source": [
    "sbn.barplot(x='Group', y='PIQ', data=results)"
   ]
  },
  {
   "cell_type": "markdown",
   "metadata": {},
   "source": [
    "## SRS"
   ]
  },
  {
   "cell_type": "code",
   "execution_count": 29,
   "metadata": {},
   "outputs": [
    {
     "data": {
      "text/plain": [
       "<matplotlib.axes._subplots.AxesSubplot at 0x2adfe337c780>"
      ]
     },
     "execution_count": 29,
     "metadata": {},
     "output_type": "execute_result"
    },
    {
     "data": {
      "image/png": "[encoded data removed]",
      "text/plain": [
       "<matplotlib.figure.Figure at 0x2adfe33922b0>"
      ]
     },
     "metadata": {},
     "output_type": "display_data"
    }
   ],
   "source": [
    "sbn.barplot(x='Group', y='SRS_RAW_TOTAL', data=results)"
   ]
  },
  {
   "cell_type": "markdown",
   "metadata": {},
   "source": [
    "## ADOS Severity"
   ]
  },
  {
   "cell_type": "code",
   "execution_count": 72,
   "metadata": {},
   "outputs": [
    {
     "data": {
      "text/plain": [
       "<matplotlib.axes._subplots.AxesSubplot at 0x2b26b7eb0160>"
      ]
     },
     "execution_count": 72,
     "metadata": {},
     "output_type": "execute_result"
    },
    {
     "data": {
      "image/png": "[encoded data removed]",
      "text/plain": [
       "<matplotlib.figure.Figure at 0x2b26b7eab208>"
      ]
     },
     "metadata": {},
     "output_type": "display_data"
    }
   ],
   "source": [
    "sbn.barplot(x='Group', y='Gotham_Severity', data=results)"
   ]
  },
  {
   "cell_type": "code",
   "execution_count": 73,
   "metadata": {},
   "outputs": [
    {
     "data": {
      "text/html": [
       "<div>\n",
       "<table border=\"1\" class=\"dataframe\">\n",
       "  <thead>\n",
       "    <tr style=\"text-align: right;\">\n",
       "      <th></th>\n",
       "      <th>sum_sq</th>\n",
       "      <th>df</th>\n",
       "      <th>F</th>\n",
       "      <th>PR(&gt;F)</th>\n",
       "    </tr>\n",
       "  </thead>\n",
       "  <tbody>\n",
       "    <tr>\n",
       "      <th>Group</th>\n",
       "      <td>800.299104</td>\n",
       "      <td>2.0</td>\n",
       "      <td>113.595185</td>\n",
       "      <td>6.558953e-33</td>\n",
       "    </tr>\n",
       "    <tr>\n",
       "      <th>Residual</th>\n",
       "      <td>651.679620</td>\n",
       "      <td>185.0</td>\n",
       "      <td>NaN</td>\n",
       "      <td>NaN</td>\n",
       "    </tr>\n",
       "  </tbody>\n",
       "</table>\n",
       "</div>"
      ],
      "text/plain": [
       "              sum_sq     df           F        PR(>F)\n",
       "Group     800.299104    2.0  113.595185  6.558953e-33\n",
       "Residual  651.679620  185.0         NaN           NaN"
      ]
     },
     "execution_count": 73,
     "metadata": {},
     "output_type": "execute_result"
    }
   ],
   "source": [
    "lm = ols('Gotham_Severity ~ Group',\n",
    "               data=results).fit()\n",
    "table = sm.stats.anova_lm(lm, typ=2)\n",
    "table"
   ]
  },
  {
   "cell_type": "code",
   "execution_count": 75,
   "metadata": {},
   "outputs": [
    {
     "name": "stdout",
     "output_type": "stream",
     "text": [
      "Multiple Comparison of Means - Tukey HSD,FWER=0.05\n",
      "==============================================\n",
      " group1 group2 meandiff  lower   upper  reject\n",
      "----------------------------------------------\n",
      "ASD_HPS ASD_NS  -0.418  -1.2846  0.4485 False \n",
      "ASD_HPS  TDC   -6.1104  -7.2499 -4.9709  True \n",
      " ASD_NS  TDC   -5.6924  -6.6182 -4.7665  True \n",
      "----------------------------------------------\n"
     ]
    }
   ],
   "source": [
    "temp = results.dropna(subset=['Gotham_Severity'])\n",
    "pwt = pairwise_tukeyhsd(temp['Gotham_Severity'], temp['Group'], alpha=0.05)\n",
    "print(pwt)"
   ]
  },
  {
   "cell_type": "code",
   "execution_count": null,
   "metadata": {},
   "outputs": [],
   "source": [
    "temp = results.dropna(subset=['Gotham_Severity'])"
   ]
  },
  {
   "cell_type": "code",
   "execution_count": 31,
   "metadata": {},
   "outputs": [
    {
     "data": {
      "text/plain": [
       "<matplotlib.axes._subplots.AxesSubplot at 0x2adfe352ceb8>"
      ]
     },
     "execution_count": 31,
     "metadata": {},
     "output_type": "execute_result"
    },
    {
     "data": {
      "image/png": "[encoded data removed]",
      "text/plain": [
       "<matplotlib.figure.Figure at 0x2adfe3918ba8>"
      ]
     },
     "metadata": {},
     "output_type": "display_data"
    }
   ],
   "source": [
    "sbn.barplot(x='Group', y='WISC_IV_PRI', data=results)"
   ]
  },
  {
   "cell_type": "markdown",
   "metadata": {},
   "source": [
    "If anything, we have found less severe cases here, it seems"
   ]
  },
  {
   "cell_type": "markdown",
   "metadata": {},
   "source": [
    "## Handedness"
   ]
  },
  {
   "cell_type": "code",
   "execution_count": 32,
   "metadata": {},
   "outputs": [
    {
     "data": {
      "text/plain": [
       "<matplotlib.axes._subplots.AxesSubplot at 0x2adfe3610b38>"
      ]
     },
     "execution_count": 32,
     "metadata": {},
     "output_type": "execute_result"
    },
    {
     "data": {
      "image/png": "[encoded data removed]",
      "text/plain": [
       "<matplotlib.figure.Figure at 0x2adfe38c7a90>"
      ]
     },
     "metadata": {},
     "output_type": "display_data"
    }
   ],
   "source": [
    "sbn.barplot(x='Group', y='HANDEDNESS_SCORES', data=results)"
   ]
  },
  {
   "cell_type": "code",
   "execution_count": 33,
   "metadata": {},
   "outputs": [
    {
     "data": {
      "image/png": "[encoded data removed]",
      "text/plain": [
       "<matplotlib.figure.Figure at 0x2adfe360dfd0>"
      ]
     },
     "metadata": {},
     "output_type": "display_data"
    }
   ],
   "source": [
    "f = plt.figure(figsize=(18, 6))\n",
    "ax1 = f.add_subplot(131)\n",
    "ax2 = f.add_subplot(132)\n",
    "ax3 = f.add_subplot(133)\n",
    "for rid, g in enumerate(results.groupby('Group')):\n",
    "    ax = f.add_subplot(1,3,rid+1)\n",
    "    g[1]['Site'].value_counts().plot.pie(ax=ax)\n",
    "    ax.set_title(g[0])"
   ]
  },
  {
   "cell_type": "code",
   "execution_count": 34,
   "metadata": {},
   "outputs": [
    {
     "data": {
      "image/png": "[encoded data removed]",
      "text/plain": [
       "<matplotlib.figure.Figure at 0x2adfe33da9b0>"
      ]
     },
     "metadata": {},
     "output_type": "display_data"
    }
   ],
   "source": [
    "f = plt.figure(figsize=(18, 6))\n",
    "ax1 = f.add_subplot(131)\n",
    "ax2 = f.add_subplot(132)\n",
    "ax3 = f.add_subplot(133)\n",
    "for rid, g in enumerate(results.groupby('Group')):\n",
    "    ax = f.add_subplot(1,3,rid+1)\n",
    "    g[1]['DSM_IV_TR'].value_counts().plot.pie(ax=ax)\n",
    "    ax.set_title(g[0])"
   ]
  },
  {
   "cell_type": "code",
   "execution_count": 35,
   "metadata": {},
   "outputs": [
    {
     "data": {
      "image/png": "[encoded data removed]",
      "text/plain": [
       "<matplotlib.figure.Figure at 0x2adfe3462c88>"
      ]
     },
     "metadata": {},
     "output_type": "display_data"
    }
   ],
   "source": [
    "f = plt.figure(figsize=(18, 6))\n",
    "ax1 = f.add_subplot(131)\n",
    "ax2 = f.add_subplot(132)\n",
    "ax3 = f.add_subplot(133)\n",
    "for rid, g in enumerate(results.groupby('Group')):\n",
    "    ax = f.add_subplot(1,3,rid+1)\n",
    "    g[1]['EYE_STATUS_AT_SCAN'].value_counts().plot.pie(ax=ax)\n",
    "    ax.set_title(g[0])"
   ]
  },
  {
   "cell_type": "markdown",
   "metadata": {},
   "source": [
    "Ok, none of that works"
   ]
  },
  {
   "cell_type": "code",
   "execution_count": 36,
   "metadata": {},
   "outputs": [
    {
     "data": {
      "text/plain": [
       "Index(['Civet_ID', 'Manual_Rating', 'Site', 'Subject', 'Session', 'Run',\n",
       "       'SUB_ID', 'Ratings', 'id_subject', 'status', 'anat', 'comment_anat',\n",
       "       'func', 'comment_func', 'frames_scrubbed', 'frames_OK', 'FD',\n",
       "       'FD_scrubbed', 'SITE_ID', 'DX_GROUP', 'DSM_IV_TR', 'AGE_AT_SCAN', 'SEX',\n",
       "       'HANDEDNESS_CATEGORY', 'HANDEDNESS_SCORES', 'FIQ', 'VIQ', 'PIQ',\n",
       "       'FIQ_TEST_TYPE', 'VIQ_TEST_TYPE', 'PIQ_TEST_TYPE',\n",
       "       'ADI_R_SOCIAL_TOTAL_A', 'ADI_R_VERBAL_TOTAL_BV', 'ADI_RRB_TOTAL_C',\n",
       "       'ADI_R_ONSET_TOTAL_D', 'ADI_R_RSRCH_RELIABLE', 'ADOS_MODULE',\n",
       "       'ADOS_TOTAL', 'ADOS_COMM', 'ADOS_SOCIAL', 'ADOS_STEREO_BEHAV',\n",
       "       'ADOS_RSRCH_RELIABLE', 'ADOS_GOTHAM_SOCAFFECT', 'ADOS_GOTHAM_RRB',\n",
       "       'ADOS_GOTHAM_TOTAL', 'ADOS_GOTHAM_SEVERITY', 'SRS_VERSION',\n",
       "       'SRS_RAW_TOTAL', 'SRS_AWARENESS', 'SRS_COGNITION', 'SRS_COMMUNICATION',\n",
       "       'SRS_MOTIVATION', 'SRS_MANNERISMS', 'SCQ_TOTAL', 'AQ_TOTAL',\n",
       "       'COMORBIDITY', 'CURRENT_MED_STATUS', 'MEDICATION_NAME',\n",
       "       'OFF_STIMULANTS_AT_SCAN', 'VINELAND_RECEPTIVE_V_SCALED',\n",
       "       'VINELAND_EXPRESSIVE_V_SCALED', 'VINELAND_WRITTEN_V_SCALED',\n",
       "       'VINELAND_COMMUNICATION_STANDARD', 'VINELAND_PERSONAL_V_SCALED',\n",
       "       'VINELAND_DOMESTIC_V_SCALED', 'VINELAND_COMMUNITY_V_SCALED',\n",
       "       'VINELAND_DAILYLVNG_STANDARD', 'VINELAND_INTERPERSONAL_V_SCALED',\n",
       "       'VINELAND_PLAY_V_SCALED', 'VINELAND_COPING_V_SCALED',\n",
       "       'VINELAND_SOCIAL_STANDARD', 'VINELAND_SUM_SCORES',\n",
       "       'VINELAND_ABC_STANDARD', 'VINELAND_INFORMANT', 'WISC_IV_VCI',\n",
       "       'WISC_IV_PRI', 'WISC_IV_WMI', 'WISC_IV_PSI', 'WISC_IV_SIM_SCALED',\n",
       "       'WISC_IV_VOCAB_SCALED', 'WISC_IV_INFO_SCALED', 'WISC_IV_BLK_DSN_SCALED',\n",
       "       'WISC_IV_PIC_CON_SCALED', 'WISC_IV_MATRIX_SCALED',\n",
       "       'WISC_IV_DIGIT_SPAN_SCALED', 'WISC_IV_LET_NUM_SCALED',\n",
       "       'WISC_IV_CODING_SCALED', 'WISC_IV_SYM_SCALED', 'EYE_STATUS_AT_SCAN',\n",
       "       'AGE_AT_MPRAGE', 'BMI', 'BV', 'ct_available', 'fc_available', 'in_psm',\n",
       "       'Gotham_Severity', 'DX_CODE', 'Group'],\n",
       "      dtype='object')"
      ]
     },
     "execution_count": 36,
     "metadata": {},
     "output_type": "execute_result"
    }
   ],
   "source": [
    "results.columns"
   ]
  },
  {
   "cell_type": "code",
   "execution_count": 37,
   "metadata": {},
   "outputs": [
    {
     "data": {
      "text/plain": [
       "<matplotlib.axes._subplots.AxesSubplot at 0x2adfe35b4f28>"
      ]
     },
     "execution_count": 37,
     "metadata": {},
     "output_type": "execute_result"
    },
    {
     "data": {
      "image/png": "[encoded data removed]",
      "text/plain": [
       "<matplotlib.figure.Figure at 0x2adfe3467908>"
      ]
     },
     "metadata": {},
     "output_type": "display_data"
    }
   ],
   "source": [
    "sbn.barplot(x='Group', y='SRS_AWARENESS', data=results)"
   ]
  },
  {
   "cell_type": "code",
   "execution_count": 77,
   "metadata": {},
   "outputs": [
    {
     "name": "stdout",
     "output_type": "stream",
     "text": [
      "Multiple Comparison of Means - Tukey HSD,FWER=0.05\n",
      "==============================================\n",
      " group1 group2 meandiff  lower   upper  reject\n",
      "----------------------------------------------\n",
      "ASD_HPS ASD_NS -1.9444  -8.0793  4.1905 False \n",
      "ASD_HPS  TDC     -5.3   -11.3789 0.7789 False \n",
      " ASD_NS  TDC   -3.3556  -6.9614  0.2503 False \n",
      "----------------------------------------------\n"
     ]
    }
   ],
   "source": [
    "temp = results.dropna(subset=['SRS_AWARENESS'])\n",
    "pwt = pairwise_tukeyhsd(temp['SRS_AWARENESS'], temp['Group'], alpha=0.05)\n",
    "print(pwt)"
   ]
  },
  {
   "cell_type": "code",
   "execution_count": 38,
   "metadata": {},
   "outputs": [
    {
     "data": {
      "text/plain": [
       "<matplotlib.axes._subplots.AxesSubplot at 0x2adfe35918d0>"
      ]
     },
     "execution_count": 38,
     "metadata": {},
     "output_type": "execute_result"
    },
    {
     "data": {
      "image/png": "[encoded data removed]",
      "text/plain": [
       "<matplotlib.figure.Figure at 0x2adfe3d65588>"
      ]
     },
     "metadata": {},
     "output_type": "display_data"
    }
   ],
   "source": [
    "sbn.barplot(x='Group', y='BMI', data=results)"
   ]
  },
  {
   "cell_type": "markdown",
   "metadata": {},
   "source": [
    "# Validation"
   ]
  },
  {
   "cell_type": "code",
   "execution_count": 15,
   "metadata": {},
   "outputs": [],
   "source": [
    "# Add BV to the subtype weights\n",
    "col_features = ['BV', 'AGE_AT_SCAN', 'FD_scrubbed', ] + cols\n",
    "\n",
    "# Build features\n",
    "x_val = data_val.loc[:, col_features]\n",
    "# Take the numeric diagnosis code\n",
    "y_val = data_val.loc[:, ['DX_CODE']].values.squeeze()\n",
    "# Normalize\n",
    "X_val = scaler.transform(x_val)"
   ]
  },
  {
   "cell_type": "code",
   "execution_count": 18,
   "metadata": {},
   "outputs": [
    {
     "data": {
      "text/plain": [
       "0.5683297180043384"
      ]
     },
     "execution_count": 18,
     "metadata": {},
     "output_type": "execute_result"
    }
   ],
   "source": [
    "skl.metrics.accuracy_score(y_val, hps_train.basemodel.decision_function(X_val)>0)"
   ]
  },
  {
   "cell_type": "code",
   "execution_count": 19,
   "metadata": {},
   "outputs": [
    {
     "name": "stdout",
     "output_type": "stream",
     "text": [
      "             precision    recall  f1-score   support\n",
      "\n",
      "          0       0.62      0.56      0.59       255\n",
      "          1       0.52      0.57      0.54       206\n",
      "\n",
      "avg / total       0.57      0.57      0.57       461\n",
      "\n"
     ]
    }
   ],
   "source": [
    "print(skl.metrics.classification_report(y_val, hps_train.basemodel.decision_function(X_val)>0))"
   ]
  },
  {
   "cell_type": "code",
   "execution_count": 20,
   "metadata": {},
   "outputs": [
    {
     "name": "stdout",
     "output_type": "stream",
     "text": [
      "             precision    recall  f1-score   support\n",
      "\n",
      "          0       0.57      0.95      0.71       255\n",
      "          1       0.61      0.10      0.17       206\n",
      "\n",
      "avg / total       0.58      0.57      0.47       461\n",
      "\n"
     ]
    }
   ],
   "source": [
    "print(skl.metrics.classification_report(y_val, hps_train.confidencemodel.decision_function(X_val)[:, 1]>0))"
   ]
  },
  {
   "cell_type": "code",
   "execution_count": null,
   "metadata": {},
   "outputs": [],
   "source": []
  },
  {
   "cell_type": "code",
   "execution_count": null,
   "metadata": {},
   "outputs": [],
   "source": []
  },
  {
   "cell_type": "code",
   "execution_count": null,
   "metadata": {},
   "outputs": [],
   "source": []
  },
  {
   "cell_type": "code",
   "execution_count": null,
   "metadata": {},
   "outputs": [],
   "source": []
  },
  {
   "cell_type": "code",
   "execution_count": null,
   "metadata": {},
   "outputs": [],
   "source": []
  },
  {
   "cell_type": "code",
   "execution_count": 57,
   "metadata": {},
   "outputs": [
    {
     "name": "stdout",
     "output_type": "stream",
     "text": [
      "Stage 1\n",
      "Stage 2\n"
     ]
    },
    {
     "data": {
      "text/plain": [
       "(array([ 16.,  13.,   9.,   6.,  11.,  19.,  28.,  25.,  29.,  50.]),\n",
       " array([ 0.002 ,  0.1018,  0.2016,  0.3014,  0.4012,  0.501 ,  0.6008,\n",
       "         0.7006,  0.8004,  0.9002,  1.    ]),\n",
       " <a list of 10 Patch objects>)"
      ]
     },
     "execution_count": 57,
     "metadata": {},
     "output_type": "execute_result"
    },
    {
     "data": {
      "image/png": "[encoded data removed]",
      "text/plain": [
       "<matplotlib.figure.Figure at 0x2b0ae3a3d710>"
      ]
     },
     "metadata": {},
     "output_type": "display_data"
    },
    {
     "data": {
      "image/png": "[encoded data removed]",
      "text/plain": [
       "<matplotlib.figure.Figure at 0x2b0ae381d828>"
      ]
     },
     "metadata": {},
     "output_type": "display_data"
    }
   ],
   "source": [
    "res_hitproba = []\n",
    "\n",
    "hps = high_confidence.TwoStagesPrediction(verbose=False,\n",
    "                                          n_iter=1000,\n",
    "                                          shuffle_test_split=0.5,\n",
    "                                          gamma=0.98,\n",
    "                                          min_gamma=0.95,\n",
    "                                          thresh_ratio=0.1)\n",
    "hps.fit(X_val,y_val)\n",
    "res_hitproba = hps.training_hit_probability\n",
    "\n",
    "plt.figure()\n",
    "plt.title('Class 0 hit probability distribution')\n",
    "plt.hist(hps.training_hit_probability[y_val==0],10)\n",
    "plt.figure()\n",
    "plt.title('Class 1 hit probability distribution')\n",
    "plt.hist(hps.training_hit_probability[y_val==1],10)"
   ]
  },
  {
   "cell_type": "code",
   "execution_count": 24,
   "metadata": {},
   "outputs": [
    {
     "data": {
      "text/plain": [
       "0.81561822125813443"
      ]
     },
     "execution_count": 24,
     "metadata": {},
     "output_type": "execute_result"
    }
   ],
   "source": [
    "skl.metrics.accuracy_score(y_val, hps.basemodel.decision_function(X_val)>0)"
   ]
  },
  {
   "cell_type": "code",
   "execution_count": 71,
   "metadata": {},
   "outputs": [
    {
     "data": {
      "text/plain": [
       "0.62472885032537961"
      ]
     },
     "execution_count": 71,
     "metadata": {},
     "output_type": "execute_result"
    }
   ],
   "source": [
    "skl.metrics.accuracy_score(y_val, hps.confidencemodel.decision_function(X_val)[:, 1]>0)"
   ]
  },
  {
   "cell_type": "code",
   "execution_count": 25,
   "metadata": {},
   "outputs": [
    {
     "name": "stdout",
     "output_type": "stream",
     "text": [
      "             precision    recall  f1-score   support\n",
      "\n",
      "          0       0.86      0.80      0.83       255\n",
      "          1       0.77      0.83      0.80       206\n",
      "\n",
      "avg / total       0.82      0.82      0.82       461\n",
      "\n"
     ]
    }
   ],
   "source": [
    "print(skl.metrics.classification_report(y_val, hps.basemodel.decision_function(X_val)>0))"
   ]
  },
  {
   "cell_type": "code",
   "execution_count": 26,
   "metadata": {},
   "outputs": [
    {
     "name": "stdout",
     "output_type": "stream",
     "text": [
      "             precision    recall  f1-score   support\n",
      "\n",
      "          0       0.60      1.00      0.75       255\n",
      "          1       1.00      0.16      0.28       206\n",
      "\n",
      "avg / total       0.78      0.62      0.54       461\n",
      "\n"
     ]
    }
   ],
   "source": [
    "print(skl.metrics.classification_report(y_val, hps.confidencemodel.decision_function(X_val)[:, 1]>0))"
   ]
  },
  {
   "cell_type": "code",
   "execution_count": null,
   "metadata": {},
   "outputs": [],
   "source": []
  },
  {
   "cell_type": "code",
   "execution_count": 27,
   "metadata": {},
   "outputs": [],
   "source": [
    "# Get the feature weights for class 1 / second stage (not sure which)\n",
    "feature_weights = hps.confidencemodel.clfs[1].coef_\n",
    "# Get the non-zero weights\n",
    "non_zero = np.where(feature_weights!=0)[1]"
   ]
  },
  {
   "cell_type": "code",
   "execution_count": 28,
   "metadata": {},
   "outputs": [],
   "source": [
    "col_nonzero = [col_features[ind] for ind in non_zero]\n",
    "feature_type = list()\n",
    "for col in col_nonzero:\n",
    "    if 'ct' in col:\n",
    "        feature_type.append('Anatomical')\n",
    "    elif 'fc' in col:\n",
    "        feature_type.append('Functional')\n",
    "    else:\n",
    "        feature_type.append('Phenotype')\n",
    "data = {'weights':feature_weights[0, non_zero],\n",
    "            'feature':col_nonzero,\n",
    "            'feature_type':feature_type}\n",
    "weights = pd.DataFrame(data=data)"
   ]
  },
  {
   "cell_type": "code",
   "execution_count": 29,
   "metadata": {},
   "outputs": [
    {
     "data": {
      "text/plain": [
       "(array([ 0,  1,  2,  3,  4,  5,  6,  7,  8,  9, 10, 11, 12, 13, 14, 15, 16,\n",
       "        17, 18, 19, 20, 21, 22, 23, 24, 25, 26, 27, 28, 29, 30, 31, 32, 33,\n",
       "        34, 35, 36, 37, 38, 39, 40, 41, 42, 43, 44, 45, 46, 47, 48, 49, 50,\n",
       "        51, 52, 53, 54, 55, 56, 57, 58, 59]),\n",
       " <a list of 60 Text xticklabel objects>)"
      ]
     },
     "execution_count": 29,
     "metadata": {},
     "output_type": "execute_result"
    },
    {
     "data": {
      "image/png": "[encoded data removed]",
      "text/plain": [
       "<matplotlib.figure.Figure at 0x2b0acf53c8d0>"
      ]
     },
     "metadata": {},
     "output_type": "display_data"
    }
   ],
   "source": [
    "f = plt.figure(figsize=(20,10))\n",
    "ax = f.add_subplot(111)\n",
    "#g = sbn.barplot(x='feature', y='weights', data=weights, hue='feature_type', ax=ax)\n",
    "g = sbn.barplot(x='feature', y='weights', data=weights, ax=ax)\n",
    "plt.xticks(rotation=90)"
   ]
  },
  {
   "cell_type": "code",
   "execution_count": null,
   "metadata": {},
   "outputs": [],
   "source": []
  }
 ],
 "metadata": {
  "kernelspec": {
   "display_name": "p36 (16p)",
   "language": "python",
   "name": "p16p"
  },
  "language_info": {
   "codemirror_mode": {
    "name": "ipython",
    "version": 3
   },
   "file_extension": ".py",
   "mimetype": "text/x-python",
   "name": "python",
   "nbconvert_exporter": "python",
   "pygments_lexer": "ipython3",
   "version": "3.6.5"
  }
 },
 "nbformat": 4,
 "nbformat_minor": 2
}
