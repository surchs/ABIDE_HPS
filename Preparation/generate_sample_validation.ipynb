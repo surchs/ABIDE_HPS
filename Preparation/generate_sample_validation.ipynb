{
 "cells": [
  {
   "cell_type": "markdown",
   "metadata": {},
   "source": [
    "# Make sample\n",
    "- define a sample that passes QC and has data"
   ]
  },
  {
   "cell_type": "code",
   "execution_count": 1,
   "metadata": {},
   "outputs": [],
   "source": [
    "import os\n",
    "import numpy as np\n",
    "import pandas as pd"
   ]
  },
  {
   "cell_type": "code",
   "execution_count": 2,
   "metadata": {},
   "outputs": [],
   "source": [
    "# Paths\n",
    "root_p = '/home/surchs/sim_big/PROJECT/abide_hps/'\n",
    "# Pheno\n",
    "abide1_p = os.path.join(root_p, 'pheno', 'abide_1_complete.csv')\n",
    "# Data\n",
    "ct_p = os.path.join(root_p, 'ct')\n",
    "fc_p = os.path.join(root_p, 'fc')\n",
    "# File templates\n",
    "ct_t = '{}+{:07}_{}+{}_native_rms_rsl_tlaplace_30mm_left.txt'\n",
    "fc_t = 'fmri_{:07}_session_1_run1.nii.gz'\n",
    "# Out_path\n",
    "sample_p = os.path.join(root_p, 'pheno', 'validation_abide1.csv')"
   ]
  },
  {
   "cell_type": "code",
   "execution_count": 3,
   "metadata": {},
   "outputs": [],
   "source": [
    "pheno = pd.read_csv(abide1_p)"
   ]
  },
  {
   "cell_type": "markdown",
   "metadata": {},
   "source": [
    "## Define sample\n",
    "Criteria:\n",
    "- `anat_qc` > 1\n",
    "- `fc_qc` > _'Fail'_\n",
    "- in psm sample\n",
    "- data available for both ct and fc"
   ]
  },
  {
   "cell_type": "code",
   "execution_count": 4,
   "metadata": {},
   "outputs": [],
   "source": [
    "sub_psm = [row['in_psm'] \n",
    "           and row['ct_available'] \n",
    "           and row['fc_available'] \n",
    "           and row['Ratings'] > 1 \n",
    "           and not row['status']=='Fail'\n",
    "           for rid, row in pheno.iterrows()]"
   ]
  },
  {
   "cell_type": "code",
   "execution_count": 5,
   "metadata": {},
   "outputs": [],
   "source": [
    "sub_non_psm = [not row['in_psm'] \n",
    "               and row['ct_available'] \n",
    "               and row['fc_available'] \n",
    "               and row['Ratings'] > 1 \n",
    "               and not row['status']=='Fail'\n",
    "               for rid, row in pheno.iterrows()]"
   ]
  },
  {
   "cell_type": "code",
   "execution_count": 6,
   "metadata": {},
   "outputs": [
    {
     "data": {
      "text/plain": [
       "461"
      ]
     },
     "execution_count": 6,
     "metadata": {},
     "output_type": "execute_result"
    }
   ],
   "source": [
    "np.sum(sub_non_psm)"
   ]
  },
  {
   "cell_type": "code",
   "execution_count": 7,
   "metadata": {},
   "outputs": [],
   "source": [
    "sample = pheno[sub_non_psm]"
   ]
  },
  {
   "cell_type": "code",
   "execution_count": 8,
   "metadata": {},
   "outputs": [
    {
     "data": {
      "text/plain": [
       "Control    255\n",
       "Autism     206\n",
       "Name: DX_GROUP, dtype: int64"
      ]
     },
     "execution_count": 8,
     "metadata": {},
     "output_type": "execute_result"
    }
   ],
   "source": [
    "sample['DX_GROUP'].value_counts()"
   ]
  },
  {
   "cell_type": "markdown",
   "metadata": {},
   "source": [
    "This seems like a good starting sample. I'd say we go with this"
   ]
  },
  {
   "cell_type": "code",
   "execution_count": 9,
   "metadata": {},
   "outputs": [],
   "source": [
    "# Store it\n",
    "sample.to_csv(sample_p, index=False)"
   ]
  },
  {
   "cell_type": "code",
   "execution_count": null,
   "metadata": {},
   "outputs": [],
   "source": []
  }
 ],
 "metadata": {
  "kernelspec": {
   "display_name": "Python 3",
   "language": "python",
   "name": "python3"
  },
  "language_info": {
   "codemirror_mode": {
    "name": "ipython",
    "version": 3
   },
   "file_extension": ".py",
   "mimetype": "text/x-python",
   "name": "python",
   "nbconvert_exporter": "python",
   "pygments_lexer": "ipython3",
   "version": "3.6.4"
  }
 },
 "nbformat": 4,
 "nbformat_minor": 2
}
