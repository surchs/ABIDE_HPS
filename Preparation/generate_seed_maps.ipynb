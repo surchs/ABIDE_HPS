{
 "cells": [
  {
   "cell_type": "markdown",
   "metadata": {},
   "source": [
    "# Seed maps\n",
    "- Take a dataset and generate seed maps\n",
    "- represent them as vectors in a masked array"
   ]
  },
  {
   "cell_type": "code",
   "execution_count": 1,
   "metadata": {},
   "outputs": [],
   "source": [
    "import os\n",
    "import time\n",
    "import numpy as np\n",
    "import pandas as pd\n",
    "import nibabel as nib"
   ]
  },
  {
   "cell_type": "code",
   "execution_count": 2,
   "metadata": {},
   "outputs": [],
   "source": [
    "# Paths\n",
    "root_p = '/home/surchs/sim_big/PROJECT/abide_hps/'\n",
    "mask_p = os.path.join(root_p, 'mask', 'MIST_mask.nii.gz')\n",
    "temp_p = os.path.join(root_p, 'mask', 'MIST_20.nii.gz')\n",
    "pheno_p = os.path.join(root_p, 'pheno', 'abide_1_complete.csv')\n",
    "# Data\n",
    "fc_p = os.path.join(root_p, 'fc')\n",
    "fc_t = 'fmri_{:07}_session_1_run1.nii.gz'\n",
    "# Output\n",
    "out_p = os.path.join(root_p, 'seed', 'MIST_20')\n",
    "if not os.path.isdir(out_p):\n",
    "    os.makedirs(out_p)\n",
    "out_t = 'sub_{}_mist_20'"
   ]
  },
  {
   "cell_type": "code",
   "execution_count": 3,
   "metadata": {},
   "outputs": [],
   "source": [
    "def corr2_coeff(A,B):\n",
    "    # Rowwise mean of input arrays & subtract from input arrays themeselves\n",
    "    A_mA = A - A.mean(1)[:,None]\n",
    "    B_mB = B - B.mean(1)[:,None]\n",
    "\n",
    "    # Sum of squares across rows\n",
    "    ssA = (A_mA**2).sum(1);\n",
    "    ssB = (B_mB**2).sum(1);\n",
    "\n",
    "    # Finally get corr coeff\n",
    "    return np.dot(A_mA,B_mB.T)/np.sqrt(np.dot(ssA[:,None],ssB[None]))"
   ]
  },
  {
   "cell_type": "code",
   "execution_count": 4,
   "metadata": {},
   "outputs": [],
   "source": [
    "# Load data\n",
    "pheno = pd.read_csv(pheno_p)\n",
    "mask_i = nib.load(mask_p)\n",
    "mask = mask_i.get_data().astype(bool)\n",
    "temp = nib.load(temp_p).get_data()\n",
    "temp_m = temp[mask]"
   ]
  },
  {
   "cell_type": "code",
   "execution_count": 5,
   "metadata": {},
   "outputs": [],
   "source": [
    "# Find the data\n",
    "data_paths = [os.path.join(fc_p, fc_t.format(row['SUB_ID'])) for rid, row in pheno.iterrows()]\n",
    "missing_data = [not os.path.isfile(i) for i in data_paths]"
   ]
  },
  {
   "cell_type": "code",
   "execution_count": 6,
   "metadata": {},
   "outputs": [
    {
     "data": {
      "text/plain": [
       "0"
      ]
     },
     "execution_count": 6,
     "metadata": {},
     "output_type": "execute_result"
    }
   ],
   "source": [
    "np.sum(missing_data)"
   ]
  },
  {
   "cell_type": "code",
   "execution_count": 7,
   "metadata": {},
   "outputs": [
    {
     "name": "stdout",
     "output_type": "stream",
     "text": [
      "Done with sub 21/1107, this took 10.228s (24.63)\n",
      "Done with sub 41/1107, this took 1.637s (61.47)\n",
      "Done with sub 61/1107, this took 2.475s (96.56)\n",
      "Done with sub 161/1107, this took 1.776s (220.22)\n",
      "Done with sub 181/1107, this took 1.734s (256.68)\n",
      "Done with sub 221/1107, this took 1.238s (290.88)\n",
      "Done with sub 241/1107, this took 2.563s (313.75)\n",
      "Done with sub 301/1107, this took 1.641s (340.79)\n",
      "Done with sub 321/1107, this took 1.685s (360.99)\n",
      "Done with sub 341/1107, this took 1.556s (432.04)\n",
      "Done with sub 381/1107, this took 1.587s (443.02)\n",
      "Done with sub 401/1107, this took 1.446s (457.91)\n",
      "Done with sub 461/1107, this took 0.630s (480.97)\n",
      "Done with sub 501/1107, this took 0.574s (519.94)\n",
      "Done with sub 581/1107, this took 1.664s (564.51)\n",
      "Done with sub 601/1107, this took 1.664s (595.36)\n",
      "Done with sub 621/1107, this took 1.622s (627.12)\n",
      "Done with sub 641/1107, this took 0.656s (659.11)\n",
      "Done with sub 661/1107, this took 1.800s (690.09)\n",
      "Done with sub 821/1107, this took 0.930s (772.59)\n",
      "Done with sub 841/1107, this took 2.279s (795.72)\n",
      "Done with sub 901/1107, this took 1.979s (891.08)\n",
      "Done with sub 921/1107, this took 2.421s (926.67)\n",
      "Done with sub 941/1107, this took 2.391s (967.61)\n",
      "Done with sub 1061/1107, this took 1.617s (1072.46)\n",
      "Done with sub 1081/1107, this took 1.304s (1103.45)\n",
      "Done with sub 1101/1107, this took 1.090s (1125.17)\n"
     ]
    }
   ],
   "source": [
    "# Get the regions\n",
    "regions = np.unique(temp_m[temp_m!=0]).astype(int)\n",
    "# Make the seed maps\n",
    "start = time.time()\n",
    "n_sub = pheno.shape[0]\n",
    "for rid, row in pheno.iterrows():\n",
    "    # See if we have already generate this for the subject\n",
    "    search_p = os.path.join(out_p, out_t.format(row['SUB_ID']))\n",
    "    search_p = '{}.npy'.format(search_p)\n",
    "    if os.path.isfile(search_p):\n",
    "        continue\n",
    "    tic = time.time()\n",
    "    p = os.path.join(fc_p, fc_t.format(row['SUB_ID']))\n",
    "    ts = nib.load(p).get_data()[mask]\n",
    "    # Get the average in network signal\n",
    "    avg_net = np.array([np.mean(ts[temp_m==region, :], 0) for region in regions])\n",
    "    # Seed stack\n",
    "    seed_stack = corr2_coeff(avg_net, ts)\n",
    "    # FisherZ transform\n",
    "    seed_fz = np.arctanh(seed_stack)\n",
    "    # Save the seed stack\n",
    "    np.save(os.path.join(out_p, out_t.format(row['SUB_ID'])), seed_fz)\n",
    "    if rid%20==0:\n",
    "        toc = time.time()\n",
    "        print('Done with sub {}/{}, this took {:.3f}s ({:.2f})'.format(rid+1, n_sub, toc-tic, toc-start))"
   ]
  },
  {
   "cell_type": "code",
   "execution_count": null,
   "metadata": {},
   "outputs": [],
   "source": []
  }
 ],
 "metadata": {
  "kernelspec": {
   "display_name": "Python 3",
   "language": "python",
   "name": "python3"
  },
  "language_info": {
   "codemirror_mode": {
    "name": "ipython",
    "version": 3
   },
   "file_extension": ".py",
   "mimetype": "text/x-python",
   "name": "python",
   "nbconvert_exporter": "python",
   "pygments_lexer": "ipython3",
   "version": "3.5.4"
  }
 },
 "nbformat": 4,
 "nbformat_minor": 2
}
