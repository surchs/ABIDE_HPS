{
 "cells": [
  {
   "cell_type": "markdown",
   "metadata": {},
   "source": [
    "# Seed maps\n",
    "- Take a dataset and generate seed maps\n",
    "- represent them as vectors in a masked array"
   ]
  },
  {
   "cell_type": "code",
   "execution_count": 19,
   "metadata": {},
   "outputs": [],
   "source": [
    "import os\n",
    "import time\n",
    "import numpy as np\n",
    "import pandas as pd\n",
    "import nibabel as nib"
   ]
  },
  {
   "cell_type": "code",
   "execution_count": 20,
   "metadata": {},
   "outputs": [],
   "source": [
    "scale = 7"
   ]
  },
  {
   "cell_type": "code",
   "execution_count": 21,
   "metadata": {},
   "outputs": [],
   "source": [
    "# Paths\n",
    "root_p = '/home/surchs/sim_big/PROJECT/abide_hps/'\n",
    "mask_p = os.path.join(root_p, 'mask', 'MIST_mask.nii.gz')\n",
    "temp_p = os.path.join(root_p, 'mask', 'MIST_{}.nii.gz'.format(scale))\n",
    "pheno_p = os.path.join(root_p, 'pheno', 'abide_1_complete.csv')\n",
    "# Data\n",
    "fc_p = os.path.join(root_p, 'fc')\n",
    "fc_t = 'fmri_{:07}_session_1_run1.nii.gz'\n",
    "# Output\n",
    "out_p = os.path.join(root_p, 'seed', 'MIST_{}'.format(scale))\n",
    "if not os.path.isdir(out_p):\n",
    "    os.makedirs(out_p)\n",
    "out_t = 'sub_{{}}_mist_{0}'.format(scale)"
   ]
  },
  {
   "cell_type": "code",
   "execution_count": 22,
   "metadata": {},
   "outputs": [],
   "source": [
    "def corr2_coeff(A,B):\n",
    "    # Rowwise mean of input arrays & subtract from input arrays themeselves\n",
    "    A_mA = A - A.mean(1)[:,None]\n",
    "    B_mB = B - B.mean(1)[:,None]\n",
    "\n",
    "    # Sum of squares across rows\n",
    "    ssA = (A_mA**2).sum(1);\n",
    "    ssB = (B_mB**2).sum(1);\n",
    "\n",
    "    # Finally get corr coeff\n",
    "    return np.dot(A_mA,B_mB.T)/np.sqrt(np.dot(ssA[:,None],ssB[None]))"
   ]
  },
  {
   "cell_type": "code",
   "execution_count": 23,
   "metadata": {},
   "outputs": [],
   "source": [
    "# Load data\n",
    "pheno = pd.read_csv(pheno_p)\n",
    "mask_i = nib.load(mask_p)\n",
    "mask = mask_i.get_data().astype(bool)\n",
    "temp = nib.load(temp_p).get_data()\n",
    "temp_m = temp[mask]"
   ]
  },
  {
   "cell_type": "code",
   "execution_count": 24,
   "metadata": {},
   "outputs": [],
   "source": [
    "# Find the data\n",
    "data_paths = [os.path.join(fc_p, fc_t.format(row['SUB_ID'])) for rid, row in pheno.iterrows()]\n",
    "missing_data = [not os.path.isfile(i) for i in data_paths]"
   ]
  },
  {
   "cell_type": "code",
   "execution_count": 25,
   "metadata": {},
   "outputs": [
    {
     "data": {
      "text/plain": [
       "0"
      ]
     },
     "execution_count": 25,
     "metadata": {},
     "output_type": "execute_result"
    }
   ],
   "source": [
    "np.sum(missing_data)"
   ]
  },
  {
   "cell_type": "code",
   "execution_count": 26,
   "metadata": {},
   "outputs": [
    {
     "name": "stdout",
     "output_type": "stream",
     "text": [
      "Done with sub 1/1107, this took 0.874s (0.88)\n",
      "Done with sub 21/1107, this took 1.582s (31.21)\n",
      "Done with sub 41/1107, this took 1.991s (64.30)\n",
      "Done with sub 61/1107, this took 2.974s (107.41)\n",
      "Done with sub 81/1107, this took 1.496s (142.45)\n",
      "Done with sub 101/1107, this took 0.661s (167.60)\n",
      "Done with sub 121/1107, this took 2.090s (198.52)\n",
      "Done with sub 141/1107, this took 2.230s (244.88)\n",
      "Done with sub 161/1107, this took 2.259s (293.97)\n",
      "Done with sub 181/1107, this took 2.005s (337.30)\n",
      "Done with sub 201/1107, this took 1.480s (364.02)\n",
      "Done with sub 221/1107, this took 1.322s (390.87)\n",
      "Done with sub 241/1107, this took 1.352s (421.66)\n",
      "Done with sub 261/1107, this took 1.915s (457.23)\n",
      "Done with sub 281/1107, this took 1.733s (491.66)\n",
      "Done with sub 301/1107, this took 1.805s (525.06)\n",
      "Done with sub 321/1107, this took 1.673s (558.75)\n",
      "Done with sub 341/1107, this took 1.816s (595.73)\n",
      "Done with sub 361/1107, this took 1.986s (632.58)\n",
      "Done with sub 381/1107, this took 1.956s (668.25)\n",
      "Done with sub 401/1107, this took 1.593s (703.82)\n",
      "Done with sub 461/1107, this took 0.699s (736.30)\n",
      "Done with sub 501/1107, this took 0.690s (774.78)\n",
      "Done with sub 521/1107, this took 1.501s (803.35)\n",
      "Done with sub 561/1107, this took 1.920s (857.31)\n",
      "Done with sub 581/1107, this took 2.014s (883.15)\n",
      "Done with sub 601/1107, this took 2.069s (918.88)\n",
      "Done with sub 621/1107, this took 1.992s (950.93)\n",
      "Done with sub 641/1107, this took 0.608s (985.45)\n",
      "Done with sub 661/1107, this took 2.279s (1020.36)\n",
      "Done with sub 681/1107, this took 1.394s (1056.54)\n",
      "Done with sub 701/1107, this took 1.548s (1085.12)\n",
      "Done with sub 721/1107, this took 1.574s (1116.05)\n",
      "Done with sub 741/1107, this took 1.293s (1137.20)\n",
      "Done with sub 781/1107, this took 1.291s (1178.82)\n",
      "Done with sub 801/1107, this took 1.256s (1202.71)\n",
      "Done with sub 821/1107, this took 1.155s (1219.47)\n",
      "Done with sub 841/1107, this took 2.625s (1250.34)\n",
      "Done with sub 861/1107, this took 2.806s (1287.94)\n",
      "Done with sub 881/1107, this took 1.497s (1332.97)\n",
      "Done with sub 901/1107, this took 2.697s (1386.22)\n",
      "Done with sub 921/1107, this took 2.887s (1435.19)\n",
      "Done with sub 941/1107, this took 3.026s (1484.65)\n",
      "Done with sub 961/1107, this took 1.549s (1534.99)\n",
      "Done with sub 981/1107, this took 2.461s (1577.10)\n",
      "Done with sub 1001/1107, this took 2.343s (1622.13)\n",
      "Done with sub 1021/1107, this took 2.936s (1660.26)\n",
      "Done with sub 1041/1107, this took 2.006s (1700.82)\n",
      "Done with sub 1061/1107, this took 1.838s (1740.86)\n",
      "Done with sub 1081/1107, this took 1.681s (1777.49)\n",
      "Done with sub 1101/1107, this took 1.408s (1809.29)\n"
     ]
    }
   ],
   "source": [
    "# Get the regions\n",
    "regions = np.unique(temp_m[temp_m!=0]).astype(int)\n",
    "# Make the seed maps\n",
    "start = time.time()\n",
    "n_sub = pheno.shape[0]\n",
    "for rid, row in pheno.iterrows():\n",
    "    # See if we have already generate this for the subject\n",
    "    search_p = os.path.join(out_p, out_t.format(row['SUB_ID']))\n",
    "    search_p = '{}.npy'.format(search_p)\n",
    "    if os.path.isfile(search_p):\n",
    "        continue\n",
    "    tic = time.time()\n",
    "    p = os.path.join(fc_p, fc_t.format(row['SUB_ID']))\n",
    "    ts = nib.load(p).get_data()[mask]\n",
    "    # Get the average in network signal\n",
    "    avg_net = np.array([np.mean(ts[temp_m==region, :], 0) for region in regions])\n",
    "    # Seed stack\n",
    "    seed_stack = corr2_coeff(avg_net, ts)\n",
    "    # FisherZ transform\n",
    "    seed_fz = np.arctanh(seed_stack)\n",
    "    # Save the seed stack\n",
    "    np.save(os.path.join(out_p, out_t.format(row['SUB_ID'])), seed_fz)\n",
    "    if rid%20==0:\n",
    "        toc = time.time()\n",
    "        print('Done with sub {}/{}, this took {:.3f}s ({:.2f})'.format(rid+1, n_sub, toc-tic, toc-start))"
   ]
  },
  {
   "cell_type": "code",
   "execution_count": 27,
   "metadata": {},
   "outputs": [
    {
     "name": "stdout",
     "output_type": "stream",
     "text": [
      "Done\n"
     ]
    }
   ],
   "source": [
    "print('Done')"
   ]
  },
  {
   "cell_type": "code",
   "execution_count": null,
   "metadata": {},
   "outputs": [],
   "source": []
  }
 ],
 "metadata": {
  "kernelspec": {
   "display_name": "p36 (hbm)",
   "language": "python",
   "name": "hbm"
  },
  "language_info": {
   "codemirror_mode": {
    "name": "ipython",
    "version": 3
   },
   "file_extension": ".py",
   "mimetype": "text/x-python",
   "name": "python",
   "nbconvert_exporter": "python",
   "pygments_lexer": "ipython3",
   "version": "3.6.5"
  }
 },
 "nbformat": 4,
 "nbformat_minor": 2
}
