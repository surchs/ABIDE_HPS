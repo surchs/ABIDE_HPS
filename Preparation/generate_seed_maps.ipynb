{
 "cells": [
  {
   "cell_type": "markdown",
   "metadata": {},
   "source": [
    "# Seed maps\n",
    "- Take a dataset and generate seed maps\n",
    "- represent them as vectors in a masked array"
   ]
  },
  {
   "cell_type": "code",
   "execution_count": 1,
   "metadata": {},
   "outputs": [],
   "source": [
    "import os\n",
    "import time\n",
    "import numpy as np\n",
    "import pandas as pd\n",
    "import nibabel as nib"
   ]
  },
  {
   "cell_type": "code",
   "execution_count": 2,
   "metadata": {},
   "outputs": [],
   "source": [
    "# Paths\n",
    "root_p = '/home/surchs/sim_big/PROJECT/abide_hps/'\n",
    "mask_p = os.path.join(root_p, 'mask', 'MIST_mask.nii.gz')\n",
    "temp_p = os.path.join(root_p, 'mask', 'MIST_20.nii.gz')\n",
    "pheno_p = os.path.join(root_p, 'pheno', 'psm_abide1.csv')\n",
    "# Data\n",
    "fc_p = os.path.join(root_p, 'fc')\n",
    "fc_t = 'fmri_{:07}_session_1_run1.nii.gz'\n",
    "# Output\n",
    "out_p = os.path.join(root_p, 'seed', 'MIST_20')\n",
    "if not os.path.isdir(out_p):\n",
    "    os.makedirs(out_p)\n",
    "out_t = 'sub_{}_mist_20'"
   ]
  },
  {
   "cell_type": "code",
   "execution_count": 3,
   "metadata": {},
   "outputs": [],
   "source": [
    "def corr2_coeff(A,B):\n",
    "    # Rowwise mean of input arrays & subtract from input arrays themeselves\n",
    "    A_mA = A - A.mean(1)[:,None]\n",
    "    B_mB = B - B.mean(1)[:,None]\n",
    "\n",
    "    # Sum of squares across rows\n",
    "    ssA = (A_mA**2).sum(1);\n",
    "    ssB = (B_mB**2).sum(1);\n",
    "\n",
    "    # Finally get corr coeff\n",
    "    return np.dot(A_mA,B_mB.T)/np.sqrt(np.dot(ssA[:,None],ssB[None]))"
   ]
  },
  {
   "cell_type": "code",
   "execution_count": 4,
   "metadata": {},
   "outputs": [],
   "source": [
    "# Load data\n",
    "pheno = pd.read_csv(pheno_p)\n",
    "mask_i = nib.load(mask_p)\n",
    "mask = mask_i.get_data().astype(bool)\n",
    "temp = nib.load(temp_p).get_data()\n",
    "temp_m = temp[mask]"
   ]
  },
  {
   "cell_type": "code",
   "execution_count": 5,
   "metadata": {},
   "outputs": [],
   "source": [
    "# Find the data\n",
    "data_paths = [os.path.join(fc_p, fc_t.format(row['SUB_ID'])) for rid, row in pheno.iterrows()]\n",
    "missing_data = [not os.path.isfile(i) for i in data_paths]"
   ]
  },
  {
   "cell_type": "code",
   "execution_count": 6,
   "metadata": {},
   "outputs": [
    {
     "data": {
      "text/plain": [
       "0"
      ]
     },
     "execution_count": 6,
     "metadata": {},
     "output_type": "execute_result"
    }
   ],
   "source": [
    "np.sum(missing_data)"
   ]
  },
  {
   "cell_type": "code",
   "execution_count": 7,
   "metadata": {},
   "outputs": [
    {
     "name": "stdout",
     "output_type": "stream",
     "text": [
      "Done with sub 1, this took 0.876s (0.88)\n",
      "Done with sub 21, this took 0.347s (14.14)\n",
      "Done with sub 41, this took 1.493s (37.31)\n",
      "Done with sub 61, this took 0.816s (62.50)\n",
      "Done with sub 81, this took 0.802s (83.54)\n",
      "Done with sub 101, this took 0.778s (104.88)\n",
      "Done with sub 121, this took 1.310s (126.88)\n",
      "Done with sub 141, this took 1.105s (149.25)\n",
      "Done with sub 161, this took 1.014s (172.19)\n",
      "Done with sub 181, this took 1.182s (194.74)\n",
      "Done with sub 201, this took 1.372s (217.84)\n",
      "Done with sub 221, this took 1.047s (237.22)\n",
      "Done with sub 241, this took 0.780s (255.78)\n",
      "Done with sub 261, this took 0.861s (270.51)\n",
      "Done with sub 281, this took 2.068s (286.87)\n",
      "Done with sub 301, this took 1.539s (319.07)\n",
      "Done with sub 321, this took 1.628s (347.41)\n",
      "Done with sub 341, this took 2.205s (385.94)\n",
      "Done with sub 361, this took 4.047s (434.76)\n"
     ]
    }
   ],
   "source": [
    "# Get the regions\n",
    "regions = np.unique(temp_m[temp_m!=0]).astype(int)\n",
    "# Make the seed maps\n",
    "start = time.time()\n",
    "for rid, row in pheno.iterrows():\n",
    "    tic = time.time()\n",
    "    p = os.path.join(fc_p, fc_t.format(row['SUB_ID']))\n",
    "    ts = nib.load(p).get_data()[mask]\n",
    "    # Get the average in network signal\n",
    "    avg_net = np.array([np.mean(ts[temp_m==region, :], 0) for region in regions])\n",
    "    # Seed stack\n",
    "    seed_stack = corr2_coeff(avg_net, ts)\n",
    "    # FisherZ transform\n",
    "    seed_fz = np.arctanh(seed_stack)\n",
    "    # Save the seed stack\n",
    "    np.save(os.path.join(out_p, out_t.format(row['SUB_ID'])), seed_fz)\n",
    "    if rid%20==0:\n",
    "        toc = time.time()\n",
    "        print('Done with sub {}, this took {:.3f}s ({:.2f})'.format(rid+1, toc-tic, toc-start))"
   ]
  },
  {
   "cell_type": "code",
   "execution_count": null,
   "metadata": {},
   "outputs": [],
   "source": []
  }
 ],
 "metadata": {
  "kernelspec": {
   "display_name": "Python 3",
   "language": "python",
   "name": "python3"
  },
  "language_info": {
   "codemirror_mode": {
    "name": "ipython",
    "version": 3
   },
   "file_extension": ".py",
   "mimetype": "text/x-python",
   "name": "python",
   "nbconvert_exporter": "python",
   "pygments_lexer": "ipython3",
   "version": "3.5.4"
  }
 },
 "nbformat": 4,
 "nbformat_minor": 2
}
