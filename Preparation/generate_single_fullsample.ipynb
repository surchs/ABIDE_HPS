{
 "cells": [
  {
   "cell_type": "code",
   "execution_count": 1,
   "metadata": {},
   "outputs": [],
   "source": [
    "import os\n",
    "import numpy as np\n",
    "import pandas as pd"
   ]
  },
  {
   "cell_type": "code",
   "execution_count": 2,
   "metadata": {},
   "outputs": [],
   "source": [
    "# Paths\n",
    "root_p = '/home/surchs/sim_big/PROJECT/abide_hps/'\n",
    "# Pheno\n",
    "abide1_p = os.path.join(root_p, 'pheno', 'abide_1_complete.csv')\n",
    "# Data\n",
    "ct_p = os.path.join(root_p, 'ct')\n",
    "fc_p = os.path.join(root_p, 'fc')\n",
    "# File templates\n",
    "ct_t = '{}+{:07}_{}+{}_native_rms_rsl_tlaplace_30mm_left.txt'\n",
    "fc_t = 'fmri_{:07}_session_1_run1.nii.gz'\n",
    "# Out_path\n",
    "strict_p = os.path.join(root_p, 'pheno', 'ABIDE_STRICT.csv')\n",
    "soft_p = os.path.join(root_p, 'pheno', 'ABIDE_SOFT.csv')"
   ]
  },
  {
   "cell_type": "code",
   "execution_count": 3,
   "metadata": {},
   "outputs": [],
   "source": [
    "pheno = pd.read_csv(abide1_p)"
   ]
  },
  {
   "cell_type": "code",
   "execution_count": null,
   "metadata": {},
   "outputs": [],
   "source": []
  },
  {
   "cell_type": "code",
   "execution_count": 4,
   "metadata": {},
   "outputs": [],
   "source": [
    "# Find available data\n",
    "sub_ind_soft = [row['ct_available'] \n",
    "                   and row['fc_available'] \n",
    "                   and row['Ratings'] > 1 \n",
    "                   and not row['status']=='Fail'\n",
    "                   for rid, row in pheno.iterrows()]\n",
    "\n",
    "sub_ind_strict = [row['ct_available'] \n",
    "                  and row['fc_available'] \n",
    "                  and row['Ratings'] > 2 \n",
    "                  and row['status']=='OK'\n",
    "                  for rid, row in pheno.iterrows()]"
   ]
  },
  {
   "cell_type": "code",
   "execution_count": 5,
   "metadata": {},
   "outputs": [
    {
     "data": {
      "text/plain": [
       "831"
      ]
     },
     "execution_count": 5,
     "metadata": {},
     "output_type": "execute_result"
    }
   ],
   "source": [
    "np.sum(sub_ind_soft)"
   ]
  },
  {
   "cell_type": "code",
   "execution_count": 6,
   "metadata": {},
   "outputs": [
    {
     "data": {
      "text/plain": [
       "184"
      ]
     },
     "execution_count": 6,
     "metadata": {},
     "output_type": "execute_result"
    }
   ],
   "source": [
    "np.sum(sub_ind_strict)"
   ]
  },
  {
   "cell_type": "code",
   "execution_count": 7,
   "metadata": {},
   "outputs": [],
   "source": [
    "soft = pheno[sub_ind_soft]\n",
    "strict = pheno[sub_ind_strict]"
   ]
  },
  {
   "cell_type": "code",
   "execution_count": 8,
   "metadata": {},
   "outputs": [
    {
     "data": {
      "text/plain": [
       "DX_GROUP  Site    \n",
       "Autism    NYU         72\n",
       "          USM         46\n",
       "          OHSU        36\n",
       "          UCLA_1      35\n",
       "          Pitt        25\n",
       "          Trinity     20\n",
       "          KKI         19\n",
       "          Leuven_1    14\n",
       "          Leuven_2    14\n",
       "          UM_1        14\n",
       "          SBL         13\n",
       "          Yale        13\n",
       "          Olin        11\n",
       "          Caltech      9\n",
       "          UCLA_2       9\n",
       "          CMU_b        8\n",
       "          CMU_a        6\n",
       "          MaxMun_a     6\n",
       "          MaxMun_b     6\n",
       "          SDSU         5\n",
       "          MaxMun_d     4\n",
       "          MaxMun_c     1\n",
       "          Stanford     1\n",
       "          UM_2         1\n",
       "Control   NYU         96\n",
       "          USM         41\n",
       "          OHSU        33\n",
       "          KKI         31\n",
       "          UCLA_1      30\n",
       "          UM_1        27\n",
       "          Trinity     24\n",
       "          Pitt        21\n",
       "          SDSU        18\n",
       "          Caltech     16\n",
       "          Leuven_2    15\n",
       "          Leuven_1    13\n",
       "          MaxMun_a    12\n",
       "          Olin        11\n",
       "          MaxMun_c    10\n",
       "          SBL         10\n",
       "          UCLA_2       9\n",
       "          CMU_a        7\n",
       "          UM_2         5\n",
       "          CMU_b        4\n",
       "          MaxMun_d     4\n",
       "          Stanford     3\n",
       "          Yale         3\n",
       "Name: Site, dtype: int64"
      ]
     },
     "execution_count": 8,
     "metadata": {},
     "output_type": "execute_result"
    }
   ],
   "source": [
    "soft.groupby('DX_GROUP')['Site'].value_counts()"
   ]
  },
  {
   "cell_type": "code",
   "execution_count": 9,
   "metadata": {},
   "outputs": [],
   "source": [
    "# Find sites that have at least 4 of ASD and TDC each\n",
    "good_sites = ['NYU', 'USM', 'OHSU', 'UCLA_1', 'Pitt', 'Trinity', 'KKI', 'Leuven_1', 'Leuven_2', 'UM_1', 'SBL', 'Olin', 'Caltech']"
   ]
  },
  {
   "cell_type": "code",
   "execution_count": 10,
   "metadata": {},
   "outputs": [],
   "source": [
    "soft_ind = [True if row['Site'] in good_sites else False for rid, row in soft.iterrows()]"
   ]
  },
  {
   "cell_type": "code",
   "execution_count": 11,
   "metadata": {},
   "outputs": [],
   "source": [
    "soft_sample = soft[soft_ind]"
   ]
  },
  {
   "cell_type": "code",
   "execution_count": 12,
   "metadata": {},
   "outputs": [
    {
     "data": {
      "text/plain": [
       "(696, 96)"
      ]
     },
     "execution_count": 12,
     "metadata": {},
     "output_type": "execute_result"
    }
   ],
   "source": [
    "soft_sample.shape"
   ]
  },
  {
   "cell_type": "code",
   "execution_count": 14,
   "metadata": {},
   "outputs": [
    {
     "data": {
      "text/plain": [
       "DX_GROUP  Site    \n",
       "Autism    NYU         25\n",
       "          Trinity     13\n",
       "          KKI         11\n",
       "          UCLA_1       8\n",
       "          OHSU         6\n",
       "          Leuven_1     4\n",
       "          Olin         4\n",
       "          CMU_a        2\n",
       "          Caltech      1\n",
       "          Leuven_2     1\n",
       "          SDSU         1\n",
       "          UCLA_2       1\n",
       "          USM          1\n",
       "Control   NYU         38\n",
       "          KKI         24\n",
       "          Trinity     11\n",
       "          UCLA_1       9\n",
       "          SDSU         8\n",
       "          USM          5\n",
       "          Leuven_1     4\n",
       "          OHSU         3\n",
       "          UCLA_2       2\n",
       "          CMU_a        1\n",
       "          Leuven_2     1\n",
       "Name: Site, dtype: int64"
      ]
     },
     "execution_count": 14,
     "metadata": {},
     "output_type": "execute_result"
    }
   ],
   "source": [
    "strict.groupby('DX_GROUP')['Site'].value_counts()"
   ]
  },
  {
   "cell_type": "code",
   "execution_count": 15,
   "metadata": {},
   "outputs": [],
   "source": [
    "# Find sites that have at least 4 of ASD and TDC each\n",
    "strict_sites = ['NYU', 'USM', 'OHSU', 'UCLA_1', 'Trinity', 'KKI', 'Leuven_1']"
   ]
  },
  {
   "cell_type": "code",
   "execution_count": 16,
   "metadata": {},
   "outputs": [],
   "source": [
    "strict_ind = [True if row['Site'] in good_sites else False for rid, row in strict.iterrows()]"
   ]
  },
  {
   "cell_type": "code",
   "execution_count": 17,
   "metadata": {},
   "outputs": [],
   "source": [
    "strict_sample = strict[strict_ind]"
   ]
  },
  {
   "cell_type": "code",
   "execution_count": 18,
   "metadata": {},
   "outputs": [
    {
     "data": {
      "text/plain": [
       "(169, 96)"
      ]
     },
     "execution_count": 18,
     "metadata": {},
     "output_type": "execute_result"
    }
   ],
   "source": [
    "strict_sample.shape"
   ]
  },
  {
   "cell_type": "code",
   "execution_count": 19,
   "metadata": {},
   "outputs": [],
   "source": [
    "# Save that stuff\n",
    "soft_sample.to_csv(soft_p, index=False)\n",
    "strict_sample.to_csv(strict_p, index=False)"
   ]
  },
  {
   "cell_type": "code",
   "execution_count": null,
   "metadata": {},
   "outputs": [],
   "source": []
  }
 ],
 "metadata": {
  "kernelspec": {
   "display_name": "Python 3",
   "language": "python",
   "name": "python3"
  },
  "language_info": {
   "codemirror_mode": {
    "name": "ipython",
    "version": 3
   },
   "file_extension": ".py",
   "mimetype": "text/x-python",
   "name": "python",
   "nbconvert_exporter": "python",
   "pygments_lexer": "ipython3",
   "version": "3.5.4"
  }
 },
 "nbformat": 4,
 "nbformat_minor": 2
}
