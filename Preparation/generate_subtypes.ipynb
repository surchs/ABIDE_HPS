{
 "cells": [
  {
   "cell_type": "markdown",
   "metadata": {},
   "source": [
    "# Subtypes\n",
    "- generate FC subtypes\n",
    "- generate CT subtypes\n",
    "- compute weights for them on the sample"
   ]
  },
  {
   "cell_type": "code",
   "execution_count": 1,
   "metadata": {},
   "outputs": [],
   "source": [
    "# Imports\n",
    "import os\n",
    "import numpy as np\n",
    "import scipy as sp\n",
    "import pandas as pd\n",
    "import patsy as pat\n",
    "import nibabel as nib\n",
    "from scipy import cluster as scl\n",
    "from sklearn import linear_model as sln\n",
    "from sklearn import preprocessing as skp"
   ]
  },
  {
   "cell_type": "code",
   "execution_count": 2,
   "metadata": {},
   "outputs": [],
   "source": [
    "# Paths\n",
    "root_p = '/home/surchs/sim_big/PROJECT/abide_hps/'\n",
    "# Pheno\n",
    "sample_p = os.path.join(root_p, 'pheno', 'strict_abide1_nopsm.csv')\n",
    "# Data sd_30mm_residual_nopsm\n",
    "resid_ct_p = os.path.join(root_p, 'residual', 'ct_30mm_residual_nopsm.npy')\n",
    "resid_fc_p = os.path.join(root_p, 'residual', 'sd_30mm_residual_nopsm.npy')\n",
    "mask_p = os.path.join(root_p, 'mask', 'MIST_mask.nii.gz')\n",
    "# Out templates\n",
    "subtype_fc_p = os.path.join(root_p, 'subtypes', 'subtypes_fc_nopsm')\n",
    "subtype_ct_p = os.path.join(root_p, 'subtypes', 'subtypes_ct_nopsm')"
   ]
  },
  {
   "cell_type": "code",
   "execution_count": 3,
   "metadata": {},
   "outputs": [],
   "source": [
    "# Load data\n",
    "sample = pd.read_csv(sample_p)\n",
    "n_sub = sample.shape[0]\n",
    "ct = np.load(resid_ct_p)\n",
    "fc = np.load(resid_fc_p)\n",
    "mask_i = nib.load(mask_p)\n",
    "mask = mask_i.get_data().astype(bool)"
   ]
  },
  {
   "cell_type": "markdown",
   "metadata": {},
   "source": [
    "# Generate CT subtype\n",
    "- 5 subtypes\n",
    "- distance based\n",
    "- hierarchical using wards"
   ]
  },
  {
   "cell_type": "code",
   "execution_count": 4,
   "metadata": {},
   "outputs": [],
   "source": [
    "def corr2_coeff(A,B):\n",
    "    # Rowwise mean of input arrays & subtract from input arrays themeselves\n",
    "    A_mA = A - A.mean(1)[:,None]\n",
    "    B_mB = B - B.mean(1)[:,None]\n",
    "\n",
    "    # Sum of squares across rows\n",
    "    ssA = (A_mA**2).sum(1);\n",
    "    ssB = (B_mB**2).sum(1);\n",
    "\n",
    "    # Finally get corr coeff\n",
    "    return np.dot(A_mA,B_mB.T)/np.sqrt(np.dot(ssA[:,None],ssB[None]))"
   ]
  },
  {
   "cell_type": "code",
   "execution_count": 5,
   "metadata": {},
   "outputs": [],
   "source": [
    "def subtype(stack, n_subtypes):\n",
    "    # Normalize and then get the distance\n",
    "    norm = skp.scale(stack, axis=1)\n",
    "    # Get the lower triangle of the distance metric\n",
    "    dist = sp.spatial.distance.pdist(norm)\n",
    "    # Build the cluster\n",
    "    link = scl.hierarchy.linkage(dist, method='ward')\n",
    "    order = scl.hierarchy.dendrogram(link, no_plot=True)['leaves']\n",
    "    part = scl.hierarchy.fcluster(link, n_subtypes, criterion='maxclust')\n",
    "    return order, part, dist"
   ]
  },
  {
   "cell_type": "code",
   "execution_count": 6,
   "metadata": {},
   "outputs": [],
   "source": [
    "# Run the subtypes\n",
    "order_ct, part_ct, dist_ct = subtype(ct, 5)\n",
    "dmat_ct = sp.spatial.distance.squareform(dist_ct)\n",
    "# Make the subtypes\n",
    "subtypes_ct = np.array([np.mean(ct[part_ct==i, :], 0) for i in range(1,6)])\n",
    "# Compute the weights\n",
    "weights_ct = corr2_coeff(ct, subtypes_ct)"
   ]
  },
  {
   "cell_type": "code",
   "execution_count": 7,
   "metadata": {},
   "outputs": [],
   "source": [
    "# Run the FC subtypes\n",
    "weights_fc = np.zeros((n_sub, 5, 20))\n",
    "subtypes_fc = np.zeros((5,) + fc.shape[1:])\n",
    "parts_fc = np.zeros((n_sub, 20))\n",
    "orders_fc = np.zeros((n_sub, 20))\n",
    "dists_fc = np.zeros((n_sub, n_sub, 20))\n",
    "\n",
    "for sid in range(20):\n",
    "    order_fc, part_fc, dist_fc = subtype(fc[..., sid], 5)\n",
    "    dists_fc[..., sid] = sp.spatial.distance.squareform(dist_fc)\n",
    "    parts_fc[:, sid] = part_fc\n",
    "    orders_fc[:, sid] = order_fc\n",
    "    # Make the subtypes\n",
    "    subtypes_fc_tmp = np.array([np.mean(fc[part_fc==i, :, sid], 0) for i in range(1,6)])\n",
    "    subtypes_fc[..., sid] = subtypes_fc_tmp\n",
    "    # Compute the weights\n",
    "    weights_fc[..., sid] = corr2_coeff(fc[..., sid], subtypes_fc_tmp)"
   ]
  },
  {
   "cell_type": "code",
   "execution_count": 8,
   "metadata": {},
   "outputs": [],
   "source": [
    "# Save everything\n",
    "np.savez(subtype_fc_p, subtypes=subtypes_fc, weights=weights_fc, order=orders_fc, part=parts_fc, dist=dists_fc)\n",
    "np.savez(subtype_ct_p, subtypes=subtypes_ct, weights=weights_ct, order=order_ct, part=part_ct, dist=dmat_ct)"
   ]
  }
 ],
 "metadata": {
  "kernelspec": {
   "display_name": "Python 3",
   "language": "python",
   "name": "python3"
  },
  "language_info": {
   "codemirror_mode": {
    "name": "ipython",
    "version": 3
   },
   "file_extension": ".py",
   "mimetype": "text/x-python",
   "name": "python",
   "nbconvert_exporter": "python",
   "pygments_lexer": "ipython3",
   "version": "3.5.4"
  }
 },
 "nbformat": 4,
 "nbformat_minor": 2
}
