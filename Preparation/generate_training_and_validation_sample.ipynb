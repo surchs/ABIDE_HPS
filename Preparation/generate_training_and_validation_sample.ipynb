{
 "cells": [
  {
   "cell_type": "code",
   "execution_count": 1,
   "metadata": {},
   "outputs": [],
   "source": [
    "import os\n",
    "import numpy as np\n",
    "import pandas as pd\n",
    "from sklearn.model_selection import train_test_split"
   ]
  },
  {
   "cell_type": "code",
   "execution_count": 2,
   "metadata": {},
   "outputs": [],
   "source": [
    "# Paths\n",
    "root_p = '/home/surchs/sim_big/PROJECT/abide_hps/'\n",
    "# Pheno\n",
    "abide1_p = os.path.join(root_p, 'pheno', 'abide_1_complete.csv')\n",
    "# Data\n",
    "ct_p = os.path.join(root_p, 'ct')\n",
    "fc_p = os.path.join(root_p, 'fc')\n",
    "# File templates\n",
    "ct_t = '{}+{:07}_{}+{}_native_rms_rsl_tlaplace_30mm_left.txt'\n",
    "fc_t = 'fmri_{:07}_session_1_run1.nii.gz'\n",
    "# Out_path\n",
    "train_p = os.path.join(root_p, 'pheno', 'ABIDE_TRAIN.csv')\n",
    "validate_p = os.path.join(root_p, 'pheno', 'ABIDE_VALIDATE.csv')"
   ]
  },
  {
   "cell_type": "code",
   "execution_count": 3,
   "metadata": {},
   "outputs": [],
   "source": [
    "pheno = pd.read_csv(abide1_p)\n",
    "# Add a sample matching column for site\n",
    "pheno['match_Site'] = pheno['Site']\n",
    "pheno.replace({'match_Site':{'Leuven_1':'Leuven', 'Leuven_2':'Leuven'}}, inplace=True)"
   ]
  },
  {
   "cell_type": "code",
   "execution_count": 4,
   "metadata": {},
   "outputs": [],
   "source": [
    "# Find available data\n",
    "sub_ind_lenient = [row['ct_available'] \n",
    "                   and row['fc_available'] \n",
    "                   and row['Ratings'] > 1 \n",
    "                   and not row['status']=='Fail'\n",
    "                   for rid, row in pheno.iterrows()]\n",
    "\n",
    "sub_ind_strict = [row['ct_available'] \n",
    "                  and row['fc_available'] \n",
    "                  and row['Ratings'] > 2 \n",
    "                  and row['status']=='OK'\n",
    "                  for rid, row in pheno.iterrows()]"
   ]
  },
  {
   "cell_type": "code",
   "execution_count": 5,
   "metadata": {},
   "outputs": [
    {
     "data": {
      "text/plain": [
       "184"
      ]
     },
     "execution_count": 5,
     "metadata": {},
     "output_type": "execute_result"
    }
   ],
   "source": [
    "np.sum(sub_ind_strict)"
   ]
  },
  {
   "cell_type": "code",
   "execution_count": 6,
   "metadata": {},
   "outputs": [],
   "source": [
    "lenient = pheno[sub_ind_lenient]\n",
    "strict = pheno[sub_ind_strict]"
   ]
  },
  {
   "cell_type": "code",
   "execution_count": 7,
   "metadata": {},
   "outputs": [
    {
     "data": {
      "text/plain": [
       "DX_GROUP  match_Site\n",
       "Autism    NYU           72\n",
       "          USM           46\n",
       "          OHSU          36\n",
       "          UCLA_1        35\n",
       "          Leuven        28\n",
       "          Pitt          25\n",
       "          Trinity       20\n",
       "          KKI           19\n",
       "          UM_1          14\n",
       "          SBL           13\n",
       "          Yale          13\n",
       "          Olin          11\n",
       "          Caltech        9\n",
       "          UCLA_2         9\n",
       "          CMU_b          8\n",
       "          CMU_a          6\n",
       "          MaxMun_a       6\n",
       "          MaxMun_b       6\n",
       "          SDSU           5\n",
       "          MaxMun_d       4\n",
       "          MaxMun_c       1\n",
       "          Stanford       1\n",
       "          UM_2           1\n",
       "Control   NYU           96\n",
       "          USM           41\n",
       "          OHSU          33\n",
       "          KKI           31\n",
       "          UCLA_1        30\n",
       "          Leuven        28\n",
       "          UM_1          27\n",
       "          Trinity       24\n",
       "          Pitt          21\n",
       "          SDSU          18\n",
       "          Caltech       16\n",
       "          MaxMun_a      12\n",
       "          Olin          11\n",
       "          MaxMun_c      10\n",
       "          SBL           10\n",
       "          UCLA_2         9\n",
       "          CMU_a          7\n",
       "          UM_2           5\n",
       "          CMU_b          4\n",
       "          MaxMun_d       4\n",
       "          Stanford       3\n",
       "          Yale           3\n",
       "Name: match_Site, dtype: int64"
      ]
     },
     "execution_count": 7,
     "metadata": {},
     "output_type": "execute_result"
    }
   ],
   "source": [
    "lenient.groupby('DX_GROUP')['match_Site'].value_counts()"
   ]
  },
  {
   "cell_type": "code",
   "execution_count": 9,
   "metadata": {},
   "outputs": [],
   "source": [
    "# Find sites that have at least 4 of ASD and TDC each\n",
    "good_sites = ['NYU', 'USM', 'OHSU', 'UCLA_1', 'Pitt', 'Trinity', 'KKI', 'Leuven', 'UM_1', 'SBL', 'Olin', 'Caltech']"
   ]
  },
  {
   "cell_type": "code",
   "execution_count": 10,
   "metadata": {},
   "outputs": [],
   "source": [
    "lenient_ind = [True if row['match_Site'] in good_sites else False for rid, row in lenient.iterrows()]"
   ]
  },
  {
   "cell_type": "code",
   "execution_count": 11,
   "metadata": {},
   "outputs": [],
   "source": [
    "sample = lenient[lenient_ind]"
   ]
  },
  {
   "cell_type": "code",
   "execution_count": 12,
   "metadata": {},
   "outputs": [
    {
     "data": {
      "text/plain": [
       "(696, 97)"
      ]
     },
     "execution_count": 12,
     "metadata": {},
     "output_type": "execute_result"
    }
   ],
   "source": [
    "sample.shape"
   ]
  },
  {
   "cell_type": "code",
   "execution_count": 13,
   "metadata": {},
   "outputs": [],
   "source": [
    "train, test = train_test_split(sample.index.values, test_size=0.5, train_size=0.5, random_state=2, stratify=sample[['match_Site', 'DX_GROUP']].values)"
   ]
  },
  {
   "cell_type": "code",
   "execution_count": 14,
   "metadata": {},
   "outputs": [],
   "source": [
    "train_sample = sample.loc[train]"
   ]
  },
  {
   "cell_type": "code",
   "execution_count": 15,
   "metadata": {},
   "outputs": [],
   "source": [
    "test_sample = sample.loc[test]"
   ]
  },
  {
   "cell_type": "code",
   "execution_count": 16,
   "metadata": {},
   "outputs": [
    {
     "data": {
      "text/plain": [
       "(348, 97)"
      ]
     },
     "execution_count": 16,
     "metadata": {},
     "output_type": "execute_result"
    }
   ],
   "source": [
    "train_sample.shape"
   ]
  },
  {
   "cell_type": "code",
   "execution_count": 17,
   "metadata": {},
   "outputs": [
    {
     "data": {
      "text/plain": [
       "(348, 97)"
      ]
     },
     "execution_count": 17,
     "metadata": {},
     "output_type": "execute_result"
    }
   ],
   "source": [
    "test_sample.shape"
   ]
  },
  {
   "cell_type": "code",
   "execution_count": 22,
   "metadata": {},
   "outputs": [
    {
     "data": {
      "text/plain": [
       "DX_GROUP  Site    \n",
       "Autism    NYU         36\n",
       "          USM         23\n",
       "          OHSU        18\n",
       "          UCLA_1      18\n",
       "          Pitt        12\n",
       "          KKI         10\n",
       "          Trinity     10\n",
       "          Leuven_1     7\n",
       "          Leuven_2     7\n",
       "          UM_1         7\n",
       "          Olin         6\n",
       "          SBL          6\n",
       "          Caltech      4\n",
       "Control   NYU         48\n",
       "          USM         20\n",
       "          OHSU        16\n",
       "          KKI         15\n",
       "          UCLA_1      15\n",
       "          UM_1        14\n",
       "          Trinity     12\n",
       "          Pitt        11\n",
       "          Caltech      8\n",
       "          Leuven_1     7\n",
       "          Leuven_2     7\n",
       "          Olin         6\n",
       "          SBL          5\n",
       "Name: Site, dtype: int64"
      ]
     },
     "execution_count": 22,
     "metadata": {},
     "output_type": "execute_result"
    }
   ],
   "source": [
    "train_sample.groupby('DX_GROUP')['Site'].value_counts()"
   ]
  },
  {
   "cell_type": "code",
   "execution_count": 21,
   "metadata": {},
   "outputs": [
    {
     "data": {
      "text/plain": [
       "DX_GROUP  Site    \n",
       "Autism    NYU         36\n",
       "          USM         23\n",
       "          OHSU        18\n",
       "          UCLA_1      17\n",
       "          Pitt        13\n",
       "          Trinity     10\n",
       "          KKI          9\n",
       "          Leuven_1     7\n",
       "          Leuven_2     7\n",
       "          SBL          7\n",
       "          UM_1         7\n",
       "          Caltech      5\n",
       "          Olin         5\n",
       "Control   NYU         48\n",
       "          USM         21\n",
       "          OHSU        17\n",
       "          KKI         16\n",
       "          UCLA_1      15\n",
       "          UM_1        13\n",
       "          Trinity     12\n",
       "          Pitt        10\n",
       "          Caltech      8\n",
       "          Leuven_2     8\n",
       "          Leuven_1     6\n",
       "          Olin         5\n",
       "          SBL          5\n",
       "Name: Site, dtype: int64"
      ]
     },
     "execution_count": 21,
     "metadata": {},
     "output_type": "execute_result"
    }
   ],
   "source": [
    "test_sample.groupby('DX_GROUP')['Site'].value_counts()"
   ]
  },
  {
   "cell_type": "code",
   "execution_count": 20,
   "metadata": {},
   "outputs": [],
   "source": [
    "train_sample.to_csv(train_p, index=False)\n",
    "test_sample.to_csv(validate_p, index=False)"
   ]
  },
  {
   "cell_type": "code",
   "execution_count": null,
   "metadata": {},
   "outputs": [],
   "source": []
  }
 ],
 "metadata": {
  "kernelspec": {
   "display_name": "Python 3",
   "language": "python",
   "name": "python3"
  },
  "language_info": {
   "codemirror_mode": {
    "name": "ipython",
    "version": 3
   },
   "file_extension": ".py",
   "mimetype": "text/x-python",
   "name": "python",
   "nbconvert_exporter": "python",
   "pygments_lexer": "ipython3",
   "version": "3.5.4"
  }
 },
 "nbformat": 4,
 "nbformat_minor": 2
}
