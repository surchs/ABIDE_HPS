{
 "cells": [
  {
   "cell_type": "markdown",
   "metadata": {},
   "source": [
    "# Compute Subtype Weights\n",
    "- take a subtype\n",
    "- take the residuals\n",
    "- compute the weights and store them"
   ]
  },
  {
   "cell_type": "code",
   "execution_count": 1,
   "metadata": {},
   "outputs": [],
   "source": [
    "# Imports\n",
    "import os\n",
    "import numpy as np\n",
    "import scipy as sp\n",
    "import pandas as pd\n",
    "import patsy as pat\n",
    "import nibabel as nib\n",
    "from scipy import cluster as scl\n",
    "from sklearn import linear_model as sln\n",
    "from sklearn import preprocessing as skp"
   ]
  },
  {
   "cell_type": "code",
   "execution_count": 2,
   "metadata": {},
   "outputs": [],
   "source": [
    "# Paths\n",
    "root_p = '/home/surchs/sim_big/PROJECT/abide_hps/'\n",
    "# Pheno\n",
    "sample_p = os.path.join(root_p, 'pheno', 'ABIDE_VALIDATE.csv')\n",
    "subtype_fc_p = os.path.join(root_p, 'subtypes', 'subtypes_fc_TRAIN.npz')\n",
    "subtype_ct_p = os.path.join(root_p, 'subtypes', 'subtypes_ct_TRAIN.npz')\n",
    "# Data sd_30mm_residual_nopsm\n",
    "resid_ct_p = os.path.join(root_p, 'residual', 'ct_30mm_residual_VALIDATE.npy')\n",
    "resid_fc_p = os.path.join(root_p, 'residual', 'sd_30mm_residual_VALIDATE.npy')\n",
    "mask_p = os.path.join(root_p, 'mask', 'MIST_mask.nii.gz')\n",
    "# Out templates\n",
    "weight_fc_p = os.path.join(root_p, 'weights', 'weights_fc_VALIDATE')\n",
    "weight_ct_p = os.path.join(root_p, 'weights', 'weights_ct_VALIDATE')"
   ]
  },
  {
   "cell_type": "code",
   "execution_count": 3,
   "metadata": {},
   "outputs": [],
   "source": [
    "# Load data\n",
    "sample = pd.read_csv(sample_p)\n",
    "n_sub = sample.shape[0]\n",
    "ct = np.load(resid_ct_p)\n",
    "fc = np.load(resid_fc_p)\n",
    "mask_i = nib.load(mask_p)\n",
    "mask = mask_i.get_data().astype(bool)\n",
    "subtypes_fc = np.load(subtype_fc_p)['subtypes']\n",
    "subtypes_ct = np.load(subtype_ct_p)['subtypes']\n",
    "n_subtypes = subtypes_fc.shape[0]"
   ]
  },
  {
   "cell_type": "markdown",
   "metadata": {},
   "source": [
    "# Compute the CT subtype weights\n",
    "- 5 subtypes\n",
    "- distance based\n",
    "- hierarchical using wards"
   ]
  },
  {
   "cell_type": "code",
   "execution_count": 4,
   "metadata": {},
   "outputs": [],
   "source": [
    "def corr2_coeff(A,B):\n",
    "    # Rowwise mean of input arrays & subtract from input arrays themeselves\n",
    "    A_mA = A - A.mean(1)[:,None]\n",
    "    B_mB = B - B.mean(1)[:,None]\n",
    "\n",
    "    # Sum of squares across rows\n",
    "    ssA = (A_mA**2).sum(1);\n",
    "    ssB = (B_mB**2).sum(1);\n",
    "\n",
    "    # Finally get corr coeff\n",
    "    return np.dot(A_mA,B_mB.T)/np.sqrt(np.dot(ssA[:,None],ssB[None]))"
   ]
  },
  {
   "cell_type": "code",
   "execution_count": 5,
   "metadata": {},
   "outputs": [],
   "source": [
    "# Compute the weights\n",
    "weights_ct = corr2_coeff(ct, subtypes_ct)"
   ]
  },
  {
   "cell_type": "code",
   "execution_count": 6,
   "metadata": {},
   "outputs": [],
   "source": [
    "# Run the FC subtypes\n",
    "weights_fc = np.zeros((n_sub, n_subtypes, 20))\n",
    "\n",
    "for sid in range(20):\n",
    "    # Compute the weights\n",
    "    weights_fc[..., sid] = corr2_coeff(fc[..., sid], subtypes_fc[..., sid])"
   ]
  },
  {
   "cell_type": "code",
   "execution_count": 7,
   "metadata": {},
   "outputs": [],
   "source": [
    "# Save everything\n",
    "np.save(weight_fc_p, weights_fc)\n",
    "np.save(weight_ct_p, weights_ct)"
   ]
  },
  {
   "cell_type": "code",
   "execution_count": null,
   "metadata": {},
   "outputs": [],
   "source": []
  }
 ],
 "metadata": {
  "kernelspec": {
   "display_name": "Python 3",
   "language": "python",
   "name": "python3"
  },
  "language_info": {
   "codemirror_mode": {
    "name": "ipython",
    "version": 3
   },
   "file_extension": ".py",
   "mimetype": "text/x-python",
   "name": "python",
   "nbconvert_exporter": "python",
   "pygments_lexer": "ipython3",
   "version": "3.5.4"
  }
 },
 "nbformat": 4,
 "nbformat_minor": 2
}
