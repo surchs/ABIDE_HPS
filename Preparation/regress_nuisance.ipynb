{
 "cells": [
  {
   "cell_type": "markdown",
   "metadata": {},
   "source": [
    "# Load data\n",
    "- load the sample\n",
    "- load the ct files for these subjects\n",
    "- load the seed files for these subjects\n",
    "- regress nuisance covariates\n",
    "- build subtypes"
   ]
  },
  {
   "cell_type": "code",
   "execution_count": 1,
   "metadata": {},
   "outputs": [],
   "source": [
    "# Imports\n",
    "import os\n",
    "import numpy as np\n",
    "import pandas as pd\n",
    "import patsy as pat\n",
    "import nibabel as nib\n",
    "from sklearn import linear_model as sln"
   ]
  },
  {
   "cell_type": "code",
   "execution_count": 2,
   "metadata": {},
   "outputs": [],
   "source": [
    "# Paths\n",
    "root_p = '/home/surchs/sim_big/PROJECT/abide_hps/'\n",
    "# Pheno\n",
    "sample_p = os.path.join(root_p, 'pheno', 'psm_abide1.csv')\n",
    "# Data\n",
    "ct_p = os.path.join(root_p, 'ct')\n",
    "seed_p = os.path.join(root_p, 'seed', 'MIST_20')\n",
    "mask_p = os.path.join(root_p, 'mask', 'MIST_mask.nii.gz')\n",
    "# File templates\n",
    "ct_t = '{}+{:07}_{}+{}_native_rms_rsl_tlaplace_30mm_{}.txt'\n",
    "sd_t = 'sub_{}_mist_20.npy'\n",
    "# Out_path\n",
    "ct_out_p = os.path.join(root_p, 'residual', 'ct_30mm_residual_psm')\n",
    "sd_out_p = os.path.join(root_p, 'residual', 'sd_30mm_residual_psm')"
   ]
  },
  {
   "cell_type": "code",
   "execution_count": 3,
   "metadata": {},
   "outputs": [],
   "source": [
    "# Get the sample\n",
    "sample = pd.read_csv(sample_p)\n",
    "# Get the mask\n",
    "mask_i = nib.load(mask_p)\n",
    "mask = mask_i.get_data().astype(bool)"
   ]
  },
  {
   "cell_type": "markdown",
   "metadata": {},
   "source": [
    "## Regress nuisance\n",
    "The seed maps are organized in 2D arrays, we need to flatten them for regression"
   ]
  },
  {
   "cell_type": "code",
   "execution_count": 4,
   "metadata": {},
   "outputs": [],
   "source": [
    "n_sub = sample.shape[0]\n",
    "n_vox = np.sum(mask)\n",
    "n_seed = 20\n",
    "resid_seed = np.zeros((n_sub, n_vox, n_seed))\n",
    "\n",
    "dmatrix = pat.dmatrix('AGE_AT_SCAN + FD_scrubbed + Site', data=sample)\n",
    "for sid in range(n_seed):\n",
    "    # Build the regression model for the seed maps\n",
    "    mod = sln.LinearRegression(fit_intercept=True, normalize=True, n_jobs=-1)\n",
    "    sub_seed = np.zeros((n_sub, n_vox))\n",
    "    for rid, row in sample.iterrows():\n",
    "        p = os.path.join(seed_p, sd_t.format(row['SUB_ID']))\n",
    "        d = np.load(p)\n",
    "        sub_seed[rid, :] = d[sid, ...]\n",
    "    res = mod.fit(dmatrix, sub_seed)\n",
    "    resid = sub_seed - res.predict(dmatrix)\n",
    "    resid_seed[..., sid] = resid"
   ]
  },
  {
   "cell_type": "code",
   "execution_count": 5,
   "metadata": {},
   "outputs": [],
   "source": [
    "# Generate the CT residuals\n",
    "for rid, row in sample.iterrows():\n",
    "    p_right = os.path.join(ct_p, ct_t.format(row['Site'], row['Subject'], row['Session'], row['Run'], 'right'))\n",
    "    p_left = os.path.join(ct_p, ct_t.format(row['Site'], row['Subject'], row['Session'], row['Run'], 'left'))\n",
    "    ct_l = pd.read_csv(p_left, header=None)[0].values\n",
    "    ct_r = pd.read_csv(p_right, header=None)[0].values\n",
    "    # Combine left and right\n",
    "    ct = np.concatenate((ct_l, ct_r))\n",
    "    if rid==0:\n",
    "        n_vert = len(ct)\n",
    "        sub_ct = np.zeros((n_sub, n_vert))\n",
    "    sub_ct[rid, :] = ct"
   ]
  },
  {
   "cell_type": "code",
   "execution_count": 6,
   "metadata": {},
   "outputs": [],
   "source": [
    "# Regress from CT\n",
    "dmatrix = pat.dmatrix('AGE_AT_SCAN + Site', data=sample)\n",
    "mod = sln.LinearRegression(fit_intercept=True, normalize=True, n_jobs=-1)\n",
    "res = mod.fit(dmatrix, sub_ct)\n",
    "resid_ct = sub_ct - res.predict(dmatrix)"
   ]
  },
  {
   "cell_type": "code",
   "execution_count": 7,
   "metadata": {},
   "outputs": [],
   "source": [
    "# Save the output\n",
    "np.save(sd_out_p, resid_seed)\n",
    "np.save(ct_out_p, resid_ct)"
   ]
  }
 ],
 "metadata": {
  "kernelspec": {
   "display_name": "Python 3",
   "language": "python",
   "name": "python3"
  },
  "language_info": {
   "codemirror_mode": {
    "name": "ipython",
    "version": 3
   },
   "file_extension": ".py",
   "mimetype": "text/x-python",
   "name": "python",
   "nbconvert_exporter": "python",
   "pygments_lexer": "ipython3",
   "version": "3.5.4"
  }
 },
 "nbformat": 4,
 "nbformat_minor": 2
}
