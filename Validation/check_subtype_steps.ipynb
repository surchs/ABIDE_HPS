{
 "cells": [
  {
   "cell_type": "code",
   "execution_count": 9,
   "metadata": {},
   "outputs": [],
   "source": [
    "%matplotlib inline"
   ]
  },
  {
   "cell_type": "code",
   "execution_count": 3,
   "metadata": {},
   "outputs": [],
   "source": [
    "import os\n",
    "import numpy as np\n",
    "import pandas as pd\n",
    "from nilearn import plotting as nlp"
   ]
  },
  {
   "cell_type": "code",
   "execution_count": 19,
   "metadata": {},
   "outputs": [],
   "source": [
    "# Paths\n",
    "root_p = '/home/surchs/sim_big/PROJECT/abide_hps/'\n",
    "# Pheno\n",
    "sample_p = os.path.join(root_p, 'pheno', 'psm_abide1.csv')\n",
    "# Data\n",
    "ct_p = os.path.join(root_p, 'ct')\n",
    "seed_p = os.path.join(root_p, 'seed', 'MIST_20')\n",
    "mask_p = os.path.join(root_p, 'mask', 'MIST_mask.nii.gz')\n",
    "# File templates\n",
    "ct_t = '{}+{:07}_{}+{}_native_rms_rsl_tlaplace_30mm_{}.txt'\n",
    "sd_t = 'sub_{}_mist_20.npy'\n",
    "ct_res_p = os.path.join(root_p, 'residual', 'ct_30mm_residual_psm.npy')\n",
    "fc_res_p = os.path.join(root_p, 'residual', 'sd_30mm_residual_psm.npy')\n",
    "subtype_fc_p = os.path.join(root_p, 'subtypes', 'subtypes_fc.npz')\n",
    "subtype_ct_p = os.path.join(root_p, 'subtypes', 'subtypes_ct.npz')\n",
    "\n",
    "seed_p = os.path.join(root_p, 'seed', 'MIST_20')\n",
    "sd_t = 'sub_{}_mist_20.npy'\n"
   ]
  },
  {
   "cell_type": "code",
   "execution_count": 8,
   "metadata": {},
   "outputs": [],
   "source": [
    "sample = pd.read_csv(sample_p)\n",
    "r_ct = np.load(ct_res_p)\n",
    "r_fc = np.load(fc_res_p)\n",
    "s_fc = np.load(subtype_fc_p)\n",
    "s_ct = np.load(subtype_ct_p)"
   ]
  },
  {
   "cell_type": "code",
   "execution_count": 10,
   "metadata": {},
   "outputs": [
    {
     "data": {
      "text/plain": [
       "(370, 57790, 20)"
      ]
     },
     "execution_count": 10,
     "metadata": {},
     "output_type": "execute_result"
    }
   ],
   "source": [
    "r_fc.shape"
   ]
  },
  {
   "cell_type": "code",
   "execution_count": 20,
   "metadata": {},
   "outputs": [],
   "source": [
    "sub1 = sample['SUB_ID'].values[0]\n",
    "seed1 = np.load(os.path.join(seed_p, sd_t.format(sub1)))"
   ]
  },
  {
   "cell_type": "code",
   "execution_count": 21,
   "metadata": {},
   "outputs": [
    {
     "data": {
      "text/plain": [
       "(20, 57790)"
      ]
     },
     "execution_count": 21,
     "metadata": {},
     "output_type": "execute_result"
    }
   ],
   "source": [
    "seed1.shape"
   ]
  },
  {
   "cell_type": "code",
   "execution_count": 25,
   "metadata": {},
   "outputs": [
    {
     "data": {
      "text/plain": [
       "(20, 57790)"
      ]
     },
     "execution_count": 25,
     "metadata": {},
     "output_type": "execute_result"
    }
   ],
   "source": [
    "seed1.shape"
   ]
  },
  {
   "cell_type": "code",
   "execution_count": 24,
   "metadata": {},
   "outputs": [
    {
     "data": {
      "text/plain": [
       "array([[  6.29863068e-02,   1.04761347e-02,  -1.02384919e-02],\n",
       "       [  2.30373740e-01,   2.01553583e-01,   1.28172383e-01],\n",
       "       [  5.64996839e-01,   3.55021954e-01,   9.58111212e-02],\n",
       "       [  2.96311200e-01,   1.82151914e-01,   7.40833282e-02],\n",
       "       [  4.03150916e-01,   5.23972690e-01,   5.47597826e-01],\n",
       "       [  4.50790375e-01,   2.89112240e-01,   1.20887548e-01],\n",
       "       [ -1.98184196e-02,   3.39893065e-02,   1.23644002e-01],\n",
       "       [  2.75203407e-01,   2.93808997e-01,   2.88164765e-01],\n",
       "       [  7.65748191e-05,  -3.12212091e-02,  -2.21120194e-02],\n",
       "       [  1.92422971e-01,   1.53458044e-01,   4.01519462e-02],\n",
       "       [  2.13564694e-01,   2.14437544e-01,   2.35024154e-01],\n",
       "       [  6.93720356e-02,   5.83158731e-02,   1.10934287e-01],\n",
       "       [  3.26341867e-01,   4.32274520e-01,   4.86488044e-01],\n",
       "       [  2.92382002e-01,   3.83351386e-01,   4.04400468e-01],\n",
       "       [  8.43048394e-02,   3.85605618e-02,   3.28380428e-02],\n",
       "       [  3.31775367e-01,   2.24353969e-01,   1.23398706e-01],\n",
       "       [  2.81385243e-01,   2.28605345e-01,   1.86088726e-01],\n",
       "       [  5.47969699e-01,   5.40497124e-01,   4.84287888e-01],\n",
       "       [ -4.41616103e-02,  -4.28642705e-02,   4.14315090e-02],\n",
       "       [  1.28270417e-01,   1.56178355e-01,   1.84502468e-01]], dtype=float32)"
      ]
     },
     "execution_count": 24,
     "metadata": {},
     "output_type": "execute_result"
    }
   ],
   "source": [
    "seed1[:, :3]"
   ]
  },
  {
   "cell_type": "code",
   "execution_count": 18,
   "metadata": {},
   "outputs": [
    {
     "data": {
      "text/plain": [
       "array([-0.12647962, -0.12647962, -0.12647962, -0.12647962, -0.12647962,\n",
       "       -0.12647962, -0.12647962, -0.12647962, -0.12647962, -0.12647962,\n",
       "       -0.12647962, -0.12647962, -0.12647962, -0.12647962, -0.12647962,\n",
       "       -0.12647962, -0.12647962, -0.12647962, -0.12647962, -0.12647962])"
      ]
     },
     "execution_count": 18,
     "metadata": {},
     "output_type": "execute_result"
    }
   ],
   "source": [
    "r_fc[0, 1, :]"
   ]
  },
  {
   "cell_type": "code",
   "execution_count": null,
   "metadata": {},
   "outputs": [],
   "source": []
  }
 ],
 "metadata": {
  "kernelspec": {
   "display_name": "Python 3",
   "language": "python",
   "name": "python3"
  },
  "language_info": {
   "codemirror_mode": {
    "name": "ipython",
    "version": 3
   },
   "file_extension": ".py",
   "mimetype": "text/x-python",
   "name": "python",
   "nbconvert_exporter": "python",
   "pygments_lexer": "ipython3",
   "version": "3.5.4"
  }
 },
 "nbformat": 4,
 "nbformat_minor": 2
}
